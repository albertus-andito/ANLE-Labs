{
 "cells": [
  {
   "cell_type": "markdown",
   "source": [
    "# Week 4 Linguistic Regularities in Word Embeddings\n",
    "## Getting Started"
   ],
   "metadata": {
    "collapsed": false,
    "pycharm": {
     "name": "#%% md\n"
    }
   }
  },
  {
   "cell_type": "code",
   "source": [
    "from gensim.models import KeyedVectors\n",
    "filename=\"../GoogleNews-vectors-negative300.bin\"\n",
    "mymodel = KeyedVectors.load_word2vec_format(filename,  binary=True)\n"
   ],
   "metadata": {
    "collapsed": false,
    "pycharm": {
     "name": "#%%\n"
    }
   },
   "execution_count": 1,
   "outputs": []
  },
  {
   "cell_type": "code",
   "execution_count": 2,
   "outputs": [
    {
     "data": {
      "text/plain": "0.76640123"
     },
     "execution_count": 2,
     "metadata": {},
     "output_type": "execute_result"
    }
   ],
   "source": [
    "mymodel.similarity('man', 'woman')"
   ],
   "metadata": {
    "collapsed": false,
    "pycharm": {
     "name": "#%%\n"
    }
   }
  },
  {
   "cell_type": "code",
   "execution_count": 15,
   "outputs": [
    {
     "data": {
      "text/plain": "[('woman', 0.7664012312889099),\n ('boy', 0.6824870109558105),\n ('teenager', 0.6586930751800537),\n ('teenage_girl', 0.6147903203964233),\n ('girl', 0.5921714305877686),\n ('suspected_purse_snatcher', 0.571636438369751),\n ('robber', 0.5585119128227234),\n ('Robbery_suspect', 0.5584409236907959),\n ('teen_ager', 0.5549196004867554),\n ('men', 0.5489763021469116)]"
     },
     "execution_count": 15,
     "metadata": {},
     "output_type": "execute_result"
    }
   ],
   "source": [
    "mymodel.most_similar(positive=['man'])"
   ],
   "metadata": {
    "collapsed": false,
    "pycharm": {
     "name": "#%%\n"
    }
   }
  },
  {
   "cell_type": "code",
   "execution_count": 4,
   "outputs": [
    {
     "data": {
      "text/plain": "array([ 0.32617188,  0.13085938,  0.03466797, -0.08300781,  0.08984375,\n       -0.04125977, -0.19824219,  0.00689697,  0.14355469,  0.0019455 ,\n        0.02880859, -0.25      , -0.08398438, -0.15136719, -0.10205078,\n        0.04077148, -0.09765625,  0.05932617,  0.02978516, -0.10058594,\n       -0.13085938,  0.001297  ,  0.02612305, -0.27148438,  0.06396484,\n       -0.19140625, -0.078125  ,  0.25976562,  0.375     , -0.04541016,\n        0.16210938,  0.13671875, -0.06396484, -0.02062988, -0.09667969,\n        0.25390625,  0.24804688, -0.12695312,  0.07177734,  0.3203125 ,\n        0.03149414, -0.03857422,  0.21191406, -0.00811768,  0.22265625,\n       -0.13476562, -0.07617188,  0.01049805, -0.05175781,  0.03808594,\n       -0.13378906,  0.125     ,  0.0559082 , -0.18261719,  0.08154297,\n       -0.08447266, -0.07763672, -0.04345703,  0.08105469, -0.01092529,\n        0.17480469,  0.30664062, -0.04321289, -0.01416016,  0.09082031,\n       -0.00927734, -0.03442383, -0.11523438,  0.12451172, -0.0246582 ,\n        0.08544922,  0.14355469, -0.27734375,  0.03662109, -0.11035156,\n        0.13085938, -0.01721191, -0.08056641, -0.00708008, -0.02954102,\n        0.30078125, -0.09033203,  0.03149414, -0.18652344, -0.11181641,\n        0.10253906, -0.25976562, -0.02209473,  0.16796875, -0.05322266,\n       -0.14550781, -0.01049805, -0.03039551, -0.03857422,  0.11523438,\n       -0.0062561 , -0.13964844,  0.08007812,  0.06103516, -0.15332031,\n       -0.11132812, -0.14160156,  0.19824219, -0.06933594,  0.29296875,\n       -0.16015625,  0.20898438,  0.00041771,  0.01831055, -0.20214844,\n        0.04760742,  0.05810547, -0.0123291 , -0.01989746, -0.00364685,\n       -0.0135498 , -0.08251953, -0.03149414,  0.00717163,  0.20117188,\n        0.08300781, -0.0480957 , -0.26367188, -0.09667969, -0.22558594,\n       -0.09667969,  0.06494141, -0.02502441,  0.08496094,  0.03198242,\n       -0.07568359, -0.25390625, -0.11669922, -0.01446533, -0.16015625,\n       -0.00701904, -0.05712891,  0.02807617, -0.09179688,  0.25195312,\n        0.24121094,  0.06640625,  0.12988281,  0.17089844, -0.13671875,\n        0.1875    , -0.10009766, -0.04199219, -0.12011719,  0.00524902,\n        0.15625   , -0.203125  , -0.07128906, -0.06103516,  0.01635742,\n        0.18261719,  0.03588867, -0.04248047,  0.16796875, -0.15039062,\n       -0.16992188,  0.01831055,  0.27734375, -0.01269531, -0.0390625 ,\n       -0.15429688,  0.18457031, -0.07910156,  0.09033203, -0.02709961,\n        0.08251953,  0.06738281, -0.16113281, -0.19628906, -0.15234375,\n       -0.04711914,  0.04760742,  0.05908203, -0.16894531, -0.14941406,\n        0.12988281,  0.04321289,  0.02624512, -0.1796875 , -0.19628906,\n        0.06445312,  0.08935547,  0.1640625 , -0.03808594, -0.09814453,\n       -0.01483154,  0.1875    ,  0.12792969,  0.22753906,  0.01818848,\n       -0.07958984, -0.11376953, -0.06933594, -0.15527344, -0.08105469,\n       -0.09277344, -0.11328125, -0.15136719, -0.08007812, -0.05126953,\n       -0.15332031,  0.11669922,  0.06835938,  0.0324707 , -0.33984375,\n       -0.08154297, -0.08349609,  0.04003906,  0.04907227, -0.24121094,\n       -0.13476562, -0.05932617,  0.12158203, -0.34179688,  0.16503906,\n        0.06176758, -0.18164062,  0.20117188, -0.07714844,  0.1640625 ,\n        0.00402832,  0.30273438, -0.10009766, -0.13671875, -0.05957031,\n        0.0625    , -0.21289062, -0.06542969,  0.1796875 , -0.07763672,\n       -0.01928711, -0.15039062, -0.00106049,  0.03417969,  0.03344727,\n        0.19335938,  0.01965332, -0.19921875, -0.10644531,  0.01525879,\n        0.00927734,  0.01416016, -0.02392578,  0.05883789,  0.02368164,\n        0.125     ,  0.04760742, -0.05566406,  0.11572266,  0.14746094,\n        0.1015625 , -0.07128906, -0.07714844, -0.12597656,  0.0291748 ,\n        0.09521484, -0.12402344, -0.109375  , -0.12890625,  0.16308594,\n        0.28320312, -0.03149414,  0.12304688, -0.23242188, -0.09375   ,\n       -0.12988281,  0.0135498 , -0.03881836, -0.08251953,  0.00897217,\n        0.16308594,  0.10546875, -0.13867188, -0.16503906, -0.03857422,\n        0.10839844, -0.10498047,  0.06396484,  0.38867188, -0.05981445,\n       -0.0612793 , -0.10449219, -0.16796875,  0.07177734,  0.13964844,\n        0.15527344, -0.03125   , -0.20214844, -0.12988281, -0.10058594,\n       -0.06396484, -0.08349609, -0.30273438, -0.08007812,  0.02099609],\n      dtype=float32)"
     },
     "execution_count": 4,
     "metadata": {},
     "output_type": "execute_result"
    }
   ],
   "source": [
    "mymodel['man']"
   ],
   "metadata": {
    "collapsed": false,
    "pycharm": {
     "name": "#%%\n"
    }
   }
  },
  {
   "cell_type": "code",
   "execution_count": 6,
   "outputs": [
    {
     "data": {
      "text/plain": "[('Beijing', 0.6737731695175171),\n ('Shanghai', 0.646628737449646),\n ('Beijng', 0.5856549739837646),\n ('Hong_Kong', 0.5709935426712036),\n ('Chinese', 0.5639771223068237),\n ('Guangdong', 0.5119545459747314),\n ('Shenzhen', 0.5102902054786682),\n ('Yanqi', 0.5076326727867126),\n ('Nanjing', 0.505686342716217),\n ('Guangzhou', 0.5043155550956726)]"
     },
     "execution_count": 6,
     "metadata": {},
     "output_type": "execute_result"
    }
   ],
   "source": [
    "mymodel.most_similar(positive=['China', 'London'], negative=['England'])"
   ],
   "metadata": {
    "collapsed": false,
    "pycharm": {
     "name": "#%%\n"
    }
   }
  },
  {
   "cell_type": "code",
   "execution_count": 5,
   "outputs": [
    {
     "data": {
      "text/plain": "{'gram3-comparative': [['bad', 'worse'],\n  ['big', 'bigger'],\n  ['bright', 'brighter'],\n  ['cheap', 'cheaper'],\n  ['cold', 'colder'],\n  ['cool', 'cooler'],\n  ['deep', 'deeper'],\n  ['easy', 'easier'],\n  ['fast', 'faster'],\n  ['good', 'better'],\n  ['great', 'greater'],\n  ['hard', 'harder'],\n  ['heavy', 'heavier'],\n  ['high', 'higher'],\n  ['hot', 'hotter'],\n  ['large', 'larger'],\n  ['long', 'longer'],\n  ['loud', 'louder'],\n  ['low', 'lower'],\n  ['new', 'newer'],\n  ['old', 'older'],\n  ['quick', 'quicker'],\n  ['safe', 'safer'],\n  ['sharp', 'sharper'],\n  ['short', 'shorter'],\n  ['simple', 'simpler'],\n  ['slow', 'slower'],\n  ['small', 'smaller'],\n  ['smart', 'smarter'],\n  ['strong', 'stronger'],\n  ['tall', 'taller'],\n  ['tight', 'tighter'],\n  ['tough', 'tougher'],\n  ['warm', 'warmer'],\n  ['weak', 'weaker'],\n  ['wide', 'wider'],\n  ['young', 'younger']],\n 'gram8-plural': [['banana', 'bananas'],\n  ['bird', 'birds'],\n  ['bottle', 'bottles'],\n  ['building', 'buildings'],\n  ['car', 'cars'],\n  ['cat', 'cats'],\n  ['child', 'children'],\n  ['cloud', 'clouds'],\n  ['color', 'colors'],\n  ['computer', 'computers'],\n  ['cow', 'cows'],\n  ['dog', 'dogs'],\n  ['dollar', 'dollars'],\n  ['donkey', 'donkeys'],\n  ['dream', 'dreams'],\n  ['eagle', 'eagles'],\n  ['elephant', 'elephants'],\n  ['eye', 'eyes'],\n  ['finger', 'fingers'],\n  ['goat', 'goats'],\n  ['hand', 'hands'],\n  ['horse', 'horses'],\n  ['lion', 'lions'],\n  ['machine', 'machines'],\n  ['mango', 'mangoes'],\n  ['man', 'men'],\n  ['melon', 'melons'],\n  ['monkey', 'monkeys'],\n  ['mouse', 'mice'],\n  ['onion', 'onions'],\n  ['pear', 'pears'],\n  ['pig', 'pigs'],\n  ['pineapple', 'pineapples'],\n  ['rat', 'rats'],\n  ['road', 'roads'],\n  ['snake', 'snakes'],\n  ['woman', 'women']],\n 'capital-common-countries': [['Athens', 'Greece'],\n  ['Baghdad', 'Iraq'],\n  ['Bangkok', 'Thailand'],\n  ['Beijing', 'China'],\n  ['Berlin', 'Germany'],\n  ['Bern', 'Switzerland'],\n  ['Cairo', 'Egypt'],\n  ['Canberra', 'Australia'],\n  ['Hanoi', 'Vietnam'],\n  ['Havana', 'Cuba'],\n  ['Helsinki', 'Finland'],\n  ['Islamabad', 'Pakistan'],\n  ['Kabul', 'Afghanistan'],\n  ['London', 'England'],\n  ['Madrid', 'Spain'],\n  ['Moscow', 'Russia'],\n  ['Oslo', 'Norway'],\n  ['Ottawa', 'Canada'],\n  ['Paris', 'France'],\n  ['Rome', 'Italy'],\n  ['Stockholm', 'Sweden'],\n  ['Tehran', 'Iran'],\n  ['Tokyo', 'Japan']],\n 'city-in-state': [['Chicago', 'Illinois'],\n  ['Houston', 'Texas'],\n  ['Philadelphia', 'Pennsylvania'],\n  ['Phoenix', 'Arizona'],\n  ['Dallas', 'Texas'],\n  ['Jacksonville', 'Florida'],\n  ['Indianapolis', 'Indiana'],\n  ['Austin', 'Texas'],\n  ['Detroit', 'Michigan'],\n  ['Memphis', 'Tennessee'],\n  ['Boston', 'Massachusetts'],\n  ['Seattle', 'Washington'],\n  ['Denver', 'Colorado'],\n  ['Baltimore', 'Maryland'],\n  ['Nashville', 'Tennessee'],\n  ['Louisville', 'Kentucky'],\n  ['Milwaukee', 'Wisconsin'],\n  ['Portland', 'Oregon'],\n  ['Tucson', 'Arizona'],\n  ['Fresno', 'California'],\n  ['Sacramento', 'California'],\n  ['Mesa', 'Arizona'],\n  ['Atlanta', 'Georgia'],\n  ['Omaha', 'Nebraska'],\n  ['Miami', 'Florida'],\n  ['Tulsa', 'Oklahoma'],\n  ['Oakland', 'California'],\n  ['Cleveland', 'Ohio'],\n  ['Minneapolis', 'Minnesota'],\n  ['Wichita', 'Kansas'],\n  ['Arlington', 'Texas'],\n  ['Bakersfield', 'California'],\n  ['Tampa', 'Florida'],\n  ['Anaheim', 'California'],\n  ['Honolulu', 'Hawaii'],\n  ['Pittsburgh', 'Pennsylvania'],\n  ['Lexington', 'Kentucky'],\n  ['Stockton', 'California'],\n  ['Cincinnati', 'Ohio'],\n  ['Anchorage', 'Alaska'],\n  ['Toledo', 'Ohio'],\n  ['Plano', 'Texas'],\n  ['Henderson', 'Nevada'],\n  ['Orlando', 'Florida'],\n  ['Laredo', 'Texas'],\n  ['Chandler', 'Arizona'],\n  ['Madison', 'Wisconsin'],\n  ['Lubbock', 'Texas'],\n  ['Garland', 'Texas'],\n  ['Glendale', 'Arizona'],\n  ['Hialeah', 'Florida'],\n  ['Reno', 'Nevada'],\n  ['Scottsdale', 'Arizona'],\n  ['Irving', 'Texas'],\n  ['Fremont', 'California'],\n  ['Irvine', 'California'],\n  ['Spokane', 'Washington'],\n  ['Modesto', 'California'],\n  ['Shreveport', 'Louisiana'],\n  ['Tacoma', 'Washington'],\n  ['Oxnard', 'California'],\n  ['Fontana', 'California'],\n  ['Akron', 'Ohio'],\n  ['Amarillo', 'Texas'],\n  ['Glendale', 'California'],\n  ['Tallahassee', 'Florida'],\n  ['Huntsville', 'Alabama'],\n  ['Worcester', 'Massachusetts']],\n 'family': [['boy', 'girl'],\n  ['brother', 'sister'],\n  ['brothers', 'sisters'],\n  ['dad', 'mom'],\n  ['father', 'mother'],\n  ['grandfather', 'grandmother'],\n  ['grandpa', 'grandma'],\n  ['grandson', 'granddaughter'],\n  ['groom', 'bride'],\n  ['he', 'she'],\n  ['his', 'her'],\n  ['husband', 'wife'],\n  ['king', 'queen'],\n  ['man', 'woman'],\n  ['nephew', 'niece'],\n  ['policeman', 'policewoman'],\n  ['prince', 'princess'],\n  ['son', 'daughter'],\n  ['sons', 'daughters'],\n  ['stepbrother', 'stepsister'],\n  ['stepfather', 'stepmother'],\n  ['stepson', 'stepdaughter'],\n  ['uncle', 'aunt']],\n 'gram2-opposite': [['acceptable', 'unacceptable'],\n  ['aware', 'unaware'],\n  ['certain', 'uncertain'],\n  ['clear', 'unclear'],\n  ['comfortable', 'uncomfortable'],\n  ['competitive', 'uncompetitive'],\n  ['consistent', 'inconsistent'],\n  ['convincing', 'unconvincing'],\n  ['convenient', 'inconvenient'],\n  ['decided', 'undecided'],\n  ['efficient', 'inefficient'],\n  ['ethical', 'unethical'],\n  ['fortunate', 'unfortunate'],\n  ['honest', 'dishonest'],\n  ['impressive', 'unimpressive'],\n  ['informative', 'uninformative'],\n  ['informed', 'uninformed'],\n  ['known', 'unknown'],\n  ['likely', 'unlikely'],\n  ['logical', 'illogical'],\n  ['pleasant', 'unpleasant'],\n  ['possible', 'impossible'],\n  ['possibly', 'impossibly'],\n  ['productive', 'unproductive'],\n  ['rational', 'irrational'],\n  ['reasonable', 'unreasonable'],\n  ['responsible', 'irresponsible'],\n  ['sure', 'unsure'],\n  ['tasteful', 'distasteful']],\n 'currency': [['Algeria', 'dinar'],\n  ['Angola', 'kwanza'],\n  ['Argentina', 'peso'],\n  ['Armenia', 'dram'],\n  ['Brazil', 'real'],\n  ['Bulgaria', 'lev'],\n  ['Cambodia', 'riel'],\n  ['Canada', 'dollar'],\n  ['Croatia', 'kuna'],\n  ['Denmark', 'krone'],\n  ['Europe', 'euro'],\n  ['Hungary', 'forint'],\n  ['India', 'rupee'],\n  ['Iran', 'rial'],\n  ['Japan', 'yen'],\n  ['Korea', 'won'],\n  ['Latvia', 'lats'],\n  ['Lithuania', 'litas'],\n  ['Macedonia', 'denar'],\n  ['Malaysia', 'ringgit'],\n  ['Mexico', 'peso'],\n  ['Nigeria', 'naira'],\n  ['Poland', 'zloty'],\n  ['Romania', 'leu'],\n  ['Russia', 'ruble'],\n  ['Sweden', 'krona'],\n  ['Thailand', 'baht'],\n  ['Ukraine', 'hryvnia'],\n  ['USA', 'dollar'],\n  ['Vietnam', 'dong']],\n 'gram4-superlative': [['bad', 'worst'],\n  ['big', 'biggest'],\n  ['bright', 'brightest'],\n  ['cold', 'coldest'],\n  ['cool', 'coolest'],\n  ['dark', 'darkest'],\n  ['easy', 'easiest'],\n  ['fast', 'fastest'],\n  ['good', 'best'],\n  ['great', 'greatest'],\n  ['high', 'highest'],\n  ['hot', 'hottest'],\n  ['large', 'largest'],\n  ['long', 'longest'],\n  ['low', 'lowest'],\n  ['lucky', 'luckiest'],\n  ['old', 'oldest'],\n  ['quick', 'quickest'],\n  ['sharp', 'sharpest'],\n  ['simple', 'simplest'],\n  ['short', 'shortest'],\n  ['slow', 'slowest'],\n  ['small', 'smallest'],\n  ['smart', 'smartest'],\n  ['strange', 'strangest'],\n  ['strong', 'strongest'],\n  ['sweet', 'sweetest'],\n  ['tall', 'tallest'],\n  ['tasty', 'tastiest'],\n  ['warm', 'warmest'],\n  ['weak', 'weakest'],\n  ['weird', 'weirdest'],\n  ['wide', 'widest'],\n  ['young', 'youngest']],\n 'gram6-nationality-adjective': [['Albania', 'Albanian'],\n  ['Argentina', 'Argentinean'],\n  ['Australia', 'Australian'],\n  ['Austria', 'Austrian'],\n  ['Belarus', 'Belorussian'],\n  ['Brazil', 'Brazilian'],\n  ['Bulgaria', 'Bulgarian'],\n  ['Cambodia', 'Cambodian'],\n  ['Chile', 'Chilean'],\n  ['China', 'Chinese'],\n  ['Colombia', 'Colombian'],\n  ['Croatia', 'Croatian'],\n  ['Denmark', 'Danish'],\n  ['Egypt', 'Egyptian'],\n  ['England', 'English'],\n  ['France', 'French'],\n  ['Germany', 'German'],\n  ['Greece', 'Greek'],\n  ['Iceland', 'Icelandic'],\n  ['India', 'Indian'],\n  ['Ireland', 'Irish'],\n  ['Israel', 'Israeli'],\n  ['Italy', 'Italian'],\n  ['Japan', 'Japanese'],\n  ['Korea', 'Korean'],\n  ['Macedonia', 'Macedonian'],\n  ['Malta', 'Maltese'],\n  ['Mexico', 'Mexican'],\n  ['Moldova', 'Moldovan'],\n  ['Netherlands', 'Dutch'],\n  ['Norway', 'Norwegian'],\n  ['Peru', 'Peruvian'],\n  ['Poland', 'Polish'],\n  ['Portugal', 'Portuguese'],\n  ['Russia', 'Russian'],\n  ['Slovakia', 'Slovakian'],\n  ['Spain', 'Spanish'],\n  ['Sweden', 'Swedish'],\n  ['Switzerland', 'Swiss'],\n  ['Thailand', 'Thai'],\n  ['Ukraine', 'Ukrainian']],\n 'gram7-past-tense': [['dancing', 'danced'],\n  ['decreasing', 'decreased'],\n  ['describing', 'described'],\n  ['enhancing', 'enhanced'],\n  ['falling', 'fell'],\n  ['feeding', 'fed'],\n  ['flying', 'flew'],\n  ['generating', 'generated'],\n  ['going', 'went'],\n  ['hiding', 'hid'],\n  ['hitting', 'hit'],\n  ['implementing', 'implemented'],\n  ['increasing', 'increased'],\n  ['jumping', 'jumped'],\n  ['knowing', 'knew'],\n  ['listening', 'listened'],\n  ['looking', 'looked'],\n  ['moving', 'moved'],\n  ['paying', 'paid'],\n  ['playing', 'played'],\n  ['predicting', 'predicted'],\n  ['reading', 'read'],\n  ['running', 'ran'],\n  ['saying', 'said'],\n  ['screaming', 'screamed'],\n  ['seeing', 'saw'],\n  ['selling', 'sold'],\n  ['shrinking', 'shrank'],\n  ['singing', 'sang'],\n  ['sitting', 'sat'],\n  ['sleeping', 'slept'],\n  ['slowing', 'slowed'],\n  ['spending', 'spent'],\n  ['striking', 'struck'],\n  ['swimming', 'swam'],\n  ['taking', 'took'],\n  ['thinking', 'thought'],\n  ['vanishing', 'vanished'],\n  ['walking', 'walked'],\n  ['writing', 'wrote']],\n 'gram5-present-participle': [['code', 'coding'],\n  ['dance', 'dancing'],\n  ['debug', 'debugging'],\n  ['decrease', 'decreasing'],\n  ['describe', 'describing'],\n  ['discover', 'discovering'],\n  ['enhance', 'enhancing'],\n  ['fly', 'flying'],\n  ['generate', 'generating'],\n  ['go', 'going'],\n  ['implement', 'implementing'],\n  ['increase', 'increasing'],\n  ['invent', 'inventing'],\n  ['jump', 'jumping'],\n  ['listen', 'listening'],\n  ['look', 'looking'],\n  ['move', 'moving'],\n  ['play', 'playing'],\n  ['predict', 'predicting'],\n  ['read', 'reading'],\n  ['run', 'running'],\n  ['say', 'saying'],\n  ['scream', 'screaming'],\n  ['see', 'seeing'],\n  ['shuffle', 'shuffling'],\n  ['sing', 'singing'],\n  ['sit', 'sitting'],\n  ['slow', 'slowing'],\n  ['swim', 'swimming'],\n  ['think', 'thinking'],\n  ['vanish', 'vanishing'],\n  ['walk', 'walking'],\n  ['write', 'writing']],\n 'capital-world': [['Abuja', 'Nigeria'],\n  ['Accra', 'Ghana'],\n  ['Algiers', 'Algeria'],\n  ['Amman', 'Jordan'],\n  ['Ankara', 'Turkey'],\n  ['Antananarivo', 'Madagascar'],\n  ['Apia', 'Samoa'],\n  ['Ashgabat', 'Turkmenistan'],\n  ['Asmara', 'Eritrea'],\n  ['Astana', 'Kazakhstan'],\n  ['Athens', 'Greece'],\n  ['Baghdad', 'Iraq'],\n  ['Baku', 'Azerbaijan'],\n  ['Bamako', 'Mali'],\n  ['Bangkok', 'Thailand'],\n  ['Banjul', 'Gambia'],\n  ['Beijing', 'China'],\n  ['Beirut', 'Lebanon'],\n  ['Belgrade', 'Serbia'],\n  ['Belmopan', 'Belize'],\n  ['Berlin', 'Germany'],\n  ['Bern', 'Switzerland'],\n  ['Bishkek', 'Kyrgyzstan'],\n  ['Bratislava', 'Slovakia'],\n  ['Brussels', 'Belgium'],\n  ['Bucharest', 'Romania'],\n  ['Budapest', 'Hungary'],\n  ['Bujumbura', 'Burundi'],\n  ['Cairo', 'Egypt'],\n  ['Canberra', 'Australia'],\n  ['Caracas', 'Venezuela'],\n  ['Chisinau', 'Moldova'],\n  ['Conakry', 'Guinea'],\n  ['Copenhagen', 'Denmark'],\n  ['Dakar', 'Senegal'],\n  ['Damascus', 'Syria'],\n  ['Dhaka', 'Bangladesh'],\n  ['Doha', 'Qatar'],\n  ['Dublin', 'Ireland'],\n  ['Dushanbe', 'Tajikistan'],\n  ['Funafuti', 'Tuvalu'],\n  ['Gaborone', 'Botswana'],\n  ['Georgetown', 'Guyana'],\n  ['Hanoi', 'Vietnam'],\n  ['Harare', 'Zimbabwe'],\n  ['Havana', 'Cuba'],\n  ['Helsinki', 'Finland'],\n  ['Islamabad', 'Pakistan'],\n  ['Jakarta', 'Indonesia'],\n  ['Kabul', 'Afghanistan'],\n  ['Kampala', 'Uganda'],\n  ['Kathmandu', 'Nepal'],\n  ['Khartoum', 'Sudan'],\n  ['Kiev', 'Ukraine'],\n  ['Kigali', 'Rwanda'],\n  ['Kingston', 'Jamaica'],\n  ['Libreville', 'Gabon'],\n  ['Lilongwe', 'Malawi'],\n  ['Lima', 'Peru'],\n  ['Lisbon', 'Portugal'],\n  ['Ljubljana', 'Slovenia'],\n  ['London', 'England'],\n  ['Luanda', 'Angola'],\n  ['Lusaka', 'Zambia'],\n  ['Madrid', 'Spain'],\n  ['Managua', 'Nicaragua'],\n  ['Manama', 'Bahrain'],\n  ['Manila', 'Philippines'],\n  ['Maputo', 'Mozambique'],\n  ['Minsk', 'Belarus'],\n  ['Mogadishu', 'Somalia'],\n  ['Monrovia', 'Liberia'],\n  ['Montevideo', 'Uruguay'],\n  ['Moscow', 'Russia'],\n  ['Muscat', 'Oman'],\n  ['Nairobi', 'Kenya'],\n  ['Nassau', 'Bahamas'],\n  ['Niamey', 'Niger'],\n  ['Nicosia', 'Cyprus'],\n  ['Nouakchott', 'Mauritania'],\n  ['Nuuk', 'Greenland'],\n  ['Oslo', 'Norway'],\n  ['Ottawa', 'Canada'],\n  ['Paramaribo', 'Suriname'],\n  ['Paris', 'France'],\n  ['Podgorica', 'Montenegro'],\n  ['Quito', 'Ecuador'],\n  ['Rabat', 'Morocco'],\n  ['Riga', 'Latvia'],\n  ['Rome', 'Italy'],\n  ['Roseau', 'Dominica'],\n  ['Santiago', 'Chile'],\n  ['Skopje', 'Macedonia'],\n  ['Sofia', 'Bulgaria'],\n  ['Stockholm', 'Sweden'],\n  ['Suva', 'Fiji'],\n  ['Taipei', 'Taiwan'],\n  ['Tallinn', 'Estonia'],\n  ['Tashkent', 'Uzbekistan'],\n  ['Tbilisi', 'Georgia'],\n  ['Tegucigalpa', 'Honduras'],\n  ['Tehran', 'Iran'],\n  ['Thimphu', 'Bhutan'],\n  ['Tirana', 'Albania'],\n  ['Tokyo', 'Japan'],\n  ['Tripoli', 'Libya'],\n  ['Tunis', 'Tunisia'],\n  ['Vaduz', 'Liechtenstein'],\n  ['Valletta', 'Malta'],\n  ['Vienna', 'Austria'],\n  ['Vientiane', 'Laos'],\n  ['Vilnius', 'Lithuania'],\n  ['Warsaw', 'Poland'],\n  ['Windhoek', 'Namibia'],\n  ['Yerevan', 'Armenia'],\n  ['Zagreb', 'Croatia']],\n 'gram1-adjective-to-adverb': [['amazing', 'amazingly'],\n  ['apparent', 'apparently'],\n  ['calm', 'calmly'],\n  ['cheerful', 'cheerfully'],\n  ['complete', 'completely'],\n  ['efficient', 'efficiently'],\n  ['fortunate', 'fortunately'],\n  ['free', 'freely'],\n  ['furious', 'furiously'],\n  ['happy', 'happily'],\n  ['immediate', 'immediately'],\n  ['infrequent', 'infrequently'],\n  ['lucky', 'luckily'],\n  ['most', 'mostly'],\n  ['obvious', 'obviously'],\n  ['occasional', 'occasionally'],\n  ['possible', 'possibly'],\n  ['precise', 'precisely'],\n  ['professional', 'professionally'],\n  ['quick', 'quickly'],\n  ['quiet', 'quietly'],\n  ['rapid', 'rapidly'],\n  ['rare', 'rarely'],\n  ['reluctant', 'reluctantly'],\n  ['safe', 'safely'],\n  ['serious', 'seriously'],\n  ['slow', 'slowly'],\n  ['sudden', 'suddenly'],\n  ['swift', 'swiftly'],\n  ['typical', 'typically'],\n  ['unfortunate', 'unfortunately'],\n  ['usual', 'usually']]}"
     },
     "execution_count": 5,
     "metadata": {},
     "output_type": "execute_result"
    }
   ],
   "source": [
    "import json\n",
    "with open('relations.json', 'r') as fp:\n",
    "    testtuples=json.load(fp)\n",
    "testtuples\n"
   ],
   "metadata": {
    "collapsed": false,
    "pycharm": {
     "name": "#%%\n"
    }
   }
  },
  {
   "cell_type": "markdown",
   "source": [
    "## 2.1\n"
   ],
   "metadata": {
    "collapsed": false
   }
  },
  {
   "cell_type": "code",
   "execution_count": 24,
   "outputs": [],
   "source": [
    "def predict_capital(training_pair, countries):\n",
    "    training_city = training_pair[0]\n",
    "    training_country =  training_pair[1]\n",
    "    return [[mymodel.most_similar(positive=[country, training_city], negative=[training_country])[0][0], country]\n",
    "            for country in countries if country != training_country]"
   ],
   "metadata": {
    "collapsed": false,
    "pycharm": {
     "name": "#%%\n"
    }
   }
  },
  {
   "cell_type": "code",
   "execution_count": 17,
   "outputs": [
    {
     "data": {
      "text/plain": "['Greece',\n 'Iraq',\n 'Thailand',\n 'China',\n 'Germany',\n 'Switzerland',\n 'Egypt',\n 'Australia',\n 'Vietnam',\n 'Cuba',\n 'Finland',\n 'Pakistan',\n 'Afghanistan',\n 'England',\n 'Spain',\n 'Russia',\n 'Norway',\n 'Canada',\n 'France',\n 'Italy',\n 'Sweden',\n 'Iran',\n 'Japan']"
     },
     "execution_count": 17,
     "metadata": {},
     "output_type": "execute_result"
    }
   ],
   "source": [
    "countries_tuples = testtuples['capital-common-countries']\n",
    "countries = [c[1] for c in countries_tuples]\n",
    "countries"
   ],
   "metadata": {
    "collapsed": false,
    "pycharm": {
     "name": "#%%\n"
    }
   }
  },
  {
   "cell_type": "code",
   "execution_count": 21,
   "outputs": [
    {
     "data": {
      "text/plain": "[['Athens', 'Greece'],\n ['Baghdad', 'Iraq'],\n ['Bangkok', 'Thailand'],\n ['Beijing', 'China'],\n ['Berlin', 'Germany'],\n ['Bern', 'Switzerland'],\n ['Cairo', 'Egypt'],\n ['Canberra', 'Australia'],\n ['Hanoi', 'Vietnam'],\n ['Havana', 'Cuba'],\n ['Helsinki', 'Finland'],\n ['Islamabad', 'Pakistan'],\n ['Kabul', 'Afghanistan'],\n ['Madrid', 'Spain'],\n ['Moscow', 'Russia'],\n ['Oslo', 'Norway'],\n ['Ottawa', 'Canada'],\n ['Paris', 'France'],\n ['Rome', 'Italy'],\n ['Stockholm', 'Sweden'],\n ['Tehran', 'Iran'],\n ['Tokyo', 'Japan']]"
     },
     "execution_count": 21,
     "metadata": {},
     "output_type": "execute_result"
    }
   ],
   "source": [
    "training_tuple = ['London', 'England']\n",
    "test_countries_tuples = [t for t in countries_tuples if t != training_tuple]\n",
    "test_countries_tuples"
   ],
   "metadata": {
    "collapsed": false,
    "pycharm": {
     "name": "#%%\n"
    }
   }
  },
  {
   "cell_type": "code",
   "execution_count": 22,
   "outputs": [],
   "source": [
    "test_countries = [c[1] for c in test_countries_tuples]"
   ],
   "metadata": {
    "collapsed": false,
    "pycharm": {
     "name": "#%%\n"
    }
   }
  },
  {
   "cell_type": "code",
   "execution_count": 25,
   "outputs": [
    {
     "data": {
      "text/plain": "[['Athens', 'Greece'],\n ['Baghdad', 'Iraq'],\n ['Bangkok', 'Thailand'],\n ['Beijing', 'China'],\n ['Berlin', 'Germany'],\n ['Zurich', 'Switzerland'],\n ['Cairo', 'Egypt'],\n ['Sydney', 'Australia'],\n ['Hanoi', 'Vietnam'],\n ['Havana', 'Cuba'],\n ['Helsinki', 'Finland'],\n ['Islamabad', 'Pakistan'],\n ['Kabul', 'Afghanistan'],\n ['Madrid', 'Spain'],\n ['Moscow', 'Russia'],\n ['Oslo', 'Norway'],\n ['Toronto', 'Canada'],\n ['Paris', 'France'],\n ['Milan', 'Italy'],\n ['Stockholm', 'Sweden'],\n ['Tehran', 'Iran'],\n ['Tokyo', 'Japan']]"
     },
     "execution_count": 25,
     "metadata": {},
     "output_type": "execute_result"
    }
   ],
   "source": [
    "predicted_capitals = predict_capital(training_tuple, test_countries)\n",
    "predicted_capitals\n",
    "\n"
   ],
   "metadata": {
    "collapsed": false,
    "pycharm": {
     "name": "#%%\n"
    }
   }
  },
  {
   "cell_type": "code",
   "execution_count": 29,
   "outputs": [
    {
     "name": "stdout",
     "output_type": "stream",
     "text": [
      "['Zurich', 'Switzerland'] ['Bern', 'Switzerland']\n",
      "['Sydney', 'Australia'] ['Canberra', 'Australia']\n",
      "['Toronto', 'Canada'] ['Ottawa', 'Canada']\n",
      "['Milan', 'Italy'] ['Rome', 'Italy']\n"
     ]
    },
    {
     "data": {
      "text/plain": "0.8181818181818182"
     },
     "execution_count": 29,
     "metadata": {},
     "output_type": "execute_result"
    }
   ],
   "source": [
    "sum = 0\n",
    "for pred, ans in zip(predicted_capitals, test_countries_tuples):\n",
    "    if pred == ans:\n",
    "        sum += 1\n",
    "    else:\n",
    "        print(pred, ans)\n",
    "acc = sum/len(predicted_capitals)\n",
    "acc"
   ],
   "metadata": {
    "collapsed": false,
    "pycharm": {
     "name": "#%%\n"
    }
   }
  },
  {
   "cell_type": "code",
   "execution_count": 54,
   "outputs": [
    {
     "data": {
      "text/plain": "[('Rome', 0.5747864246368408),\n ('Paris', 0.5640692710876465),\n ('Milan', 0.5366122722625732),\n ('Budapest', 0.5282354354858398),\n ('Brussels', 0.5023858547210693),\n ('Turin', 0.49624890089035034),\n ('Turin_Italy', 0.4889766573905945),\n ('Bucharest', 0.47618451714515686),\n ('Bologna_Italy', 0.4703238010406494),\n ('Via_Veneto', 0.47025877237319946)]"
     },
     "execution_count": 54,
     "metadata": {},
     "output_type": "execute_result"
    }
   ],
   "source": [
    "mymodel.most_similar(positive=['Italy', 'London', 'Beijing'], negative=['England', 'China'])\n"
   ],
   "metadata": {
    "collapsed": false,
    "pycharm": {
     "name": "#%%\n"
    }
   }
  },
  {
   "cell_type": "code",
   "execution_count": 58,
   "outputs": [],
   "source": [
    "def predict_capital_improved(training_pairs, countries):\n",
    "    training_cities = [training_pair[0] for training_pair in training_pairs]\n",
    "    print(training_cities)\n",
    "    training_countries =  [training_pair[1] for training_pair in training_pairs]\n",
    "    print(training_countries)\n",
    "    print(countries)\n",
    "    return [[mymodel.most_similar(positive=[country]+training_cities, negative=training_countries)[0][0], country]\n",
    "            for country in countries if country not in training_countries]"
   ],
   "metadata": {
    "collapsed": false,
    "pycharm": {
     "name": "#%%\n"
    }
   }
  },
  {
   "cell_type": "code",
   "execution_count": 33,
   "outputs": [
    {
     "data": {
      "text/plain": "[['Athens', 'Greece'],\n ['Baghdad', 'Iraq'],\n ['Bangkok', 'Thailand'],\n ['Berlin', 'Germany'],\n ['Bern', 'Switzerland'],\n ['Cairo', 'Egypt'],\n ['Canberra', 'Australia'],\n ['Hanoi', 'Vietnam'],\n ['Havana', 'Cuba'],\n ['Helsinki', 'Finland'],\n ['Islamabad', 'Pakistan'],\n ['Kabul', 'Afghanistan'],\n ['Madrid', 'Spain'],\n ['Moscow', 'Russia'],\n ['Oslo', 'Norway'],\n ['Ottawa', 'Canada'],\n ['Paris', 'France'],\n ['Rome', 'Italy'],\n ['Stockholm', 'Sweden'],\n ['Tehran', 'Iran'],\n ['Tokyo', 'Japan']]"
     },
     "execution_count": 33,
     "metadata": {},
     "output_type": "execute_result"
    }
   ],
   "source": [
    "training_tuples = [['London', 'England'], ['Beijing', 'China']]\n",
    "test_countries_tuples = [t for t in countries_tuples if t not in training_tuples]\n",
    "test_countries_tuples"
   ],
   "metadata": {
    "collapsed": false,
    "pycharm": {
     "name": "#%%\n"
    }
   }
  },
  {
   "cell_type": "code",
   "execution_count": 38,
   "outputs": [
    {
     "data": {
      "text/plain": "['Greece',\n 'Iraq',\n 'Thailand',\n 'Germany',\n 'Switzerland',\n 'Egypt',\n 'Australia',\n 'Vietnam',\n 'Cuba',\n 'Finland',\n 'Pakistan',\n 'Afghanistan',\n 'Spain',\n 'Russia',\n 'Norway',\n 'Canada',\n 'France',\n 'Italy',\n 'Sweden',\n 'Iran',\n 'Japan']"
     },
     "execution_count": 38,
     "metadata": {},
     "output_type": "execute_result"
    }
   ],
   "source": [
    "test_countries = [c[1] for c in test_countries_tuples if c not in training_tuples]\n",
    "test_countries"
   ],
   "metadata": {
    "collapsed": false,
    "pycharm": {
     "name": "#%%\n"
    }
   }
  },
  {
   "cell_type": "code",
   "execution_count": 59,
   "outputs": [
    {
     "name": "stdout",
     "output_type": "stream",
     "text": [
      "['London', 'Beijing']\n",
      "['England', 'China']\n",
      "['Greece', 'Iraq', 'Thailand', 'Germany', 'Switzerland', 'Egypt', 'Australia', 'Vietnam', 'Cuba', 'Finland', 'Pakistan', 'Afghanistan', 'Spain', 'Russia', 'Norway', 'Canada', 'France', 'Italy', 'Sweden', 'Iran', 'Japan']\n"
     ]
    },
    {
     "data": {
      "text/plain": "[['Athens', 'Greece'],\n ['Baghdad', 'Iraq'],\n ['Bangkok', 'Thailand'],\n ['Berlin', 'Germany'],\n ['Zurich', 'Switzerland'],\n ['Cairo', 'Egypt'],\n ['Sydney', 'Australia'],\n ['Hanoi', 'Vietnam'],\n ['Havana', 'Cuba'],\n ['Helsinki', 'Finland'],\n ['Islamabad', 'Pakistan'],\n ['Kabul', 'Afghanistan'],\n ['Madrid', 'Spain'],\n ['Moscow', 'Russia'],\n ['Stockholm', 'Norway'],\n ['Toronto', 'Canada'],\n ['Paris', 'France'],\n ['Rome', 'Italy'],\n ['Stockholm', 'Sweden'],\n ['Tehran', 'Iran'],\n ['Tokyo', 'Japan']]"
     },
     "execution_count": 59,
     "metadata": {},
     "output_type": "execute_result"
    }
   ],
   "source": [
    "predicted_capitals = predict_capital_improved(training_tuples, test_countries)\n",
    "predicted_capitals\n"
   ],
   "metadata": {
    "collapsed": false,
    "pycharm": {
     "name": "#%%\n"
    }
   }
  }
 ],
 "metadata": {
  "kernelspec": {
   "display_name": "Python 3",
   "language": "python",
   "name": "python3"
  },
  "language_info": {
   "codemirror_mode": {
    "name": "ipython",
    "version": 2
   },
   "file_extension": ".py",
   "mimetype": "text/x-python",
   "name": "python",
   "nbconvert_exporter": "python",
   "pygments_lexer": "ipython2",
   "version": "2.7.6"
  }
 },
 "nbformat": 4,
 "nbformat_minor": 0
}