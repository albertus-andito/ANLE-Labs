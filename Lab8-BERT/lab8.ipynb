{
 "cells": [
  {
   "cell_type": "markdown",
   "id": "rural-gasoline",
   "metadata": {},
   "source": [
    "# Week 8: Using Transformer Models\n",
    "\n",
    "\n",
    "## Getting started\n",
    "If working on your own machine, make sure the huggingface transformers package is installed\n",
    "\n",
    "`conda install -c huggingface transformers`\n",
    "\n",
    "or\n",
    "\n",
    "`pip install transformers`\n",
    "\n",
    "Of course, if working on Google Colab, you won't need to do this.  Whatever environment you are using check whether the following code runs.  It should output a negative label with a high score!\n"
   ]
  },
  {
   "cell_type": "code",
   "execution_count": 1,
   "id": "therapeutic-fireplace",
   "metadata": {},
   "outputs": [
    {
     "name": "stdout",
     "output_type": "stream",
     "text": [
      "[{'label': 'NEGATIVE', 'score': 0.9991129040718079}]\n"
     ]
    }
   ],
   "source": [
    "from transformers import pipeline\n",
    "print(pipeline('sentiment-analysis')('I hate you'))"
   ]
  },
  {
   "cell_type": "markdown",
   "id": "executive-joshua",
   "metadata": {},
   "source": [
    "The following is adapted from the huggingface quickstart to transformers tutorial https://huggingface.co/transformers/quickstart.html\n",
    "We will be looking at the BERT introduction (but feel free to have a look at GPT2 etc as well!)\n",
    "\n",
    "First of all we need some key imports.  We are going to be using the pre-trained bert-base-uncased model so this cell instantiates a tokenizer for this model.  Logging is also switched on so we can see more of what's going on. The first time you run it, the model will be downloaded and cached.  The cached version will be used on subsequent runs, if it is available (not on Google CoLab)."
   ]
  },
  {
   "cell_type": "code",
   "execution_count": 2,
   "id": "certified-elevation",
   "metadata": {},
   "outputs": [],
   "source": [
    "import torch\n",
    "from transformers import BertTokenizer, BertModel, BertForMaskedLM\n",
    "\n",
    "# OPTIONAL: if you want to have more information on what's happening under the hood, activate the logger as follows\n",
    "import logging\n",
    "logging.basicConfig(level=logging.INFO)\n",
    "\n",
    "# Load pre-trained model tokenizer (vocabulary)\n",
    "tokenizer = BertTokenizer.from_pretrained('bert-base-uncased')\n",
    "\n"
   ]
  },
  {
   "cell_type": "markdown",
   "id": "understood-lesbian",
   "metadata": {},
   "source": [
    "Now we are going to tokenize some text.  This will demonstrate the 'wordpiece' vocabulary used by BERT as well as the fact that we need to introduce special `[CLS]` and `[SEP]` tokens in the input."
   ]
  },
  {
   "cell_type": "code",
   "execution_count": 3,
   "id": "buried-sponsorship",
   "metadata": {},
   "outputs": [
    {
     "name": "stdout",
     "output_type": "stream",
     "text": [
      "['[CLS]', 'who', 'was', 'elected', 'as', 'british', 'prime', 'minister', 'in', '1951', '?', '[SEP]', 'sir', 'winston', 'leonard', 'spencer', 'churchill', 'was', 'a', 'british', 'politician', ',', 'statesman', ',', 'army', 'officer', 'and', 'writer', ',', 'who', 'was', 'prime', 'minister', 'of', 'the', 'united', 'kingdom', 'from', '1940', 'to', '1945', 'and', 'again', 'from', '1951', 'to', '1955', '.', '[SEP]']\n"
     ]
    }
   ],
   "source": [
    "# Tokenize input\n",
    "text = \"[CLS] Who was elected as British prime minister in 1951? [SEP] Sir Winston Leonard Spencer Churchill was a British politician, statesman, army officer and writer, who was Prime Minister of the United Kingdom from 1940 to 1945 and again from 1951 to 1955. [SEP]\"\n",
    "tokenized_text = tokenizer.tokenize(text)\n",
    "print(tokenized_text)"
   ]
  },
  {
   "cell_type": "code",
   "execution_count": 4,
   "id": "binding-diana",
   "metadata": {},
   "outputs": [
    {
     "name": "stdout",
     "output_type": "stream",
     "text": [
      "['[CLS]', 'what', 'are', 'ign', '##eous', 'rocks', '?', '[SEP]', 'ign', '##eous', 'rocks', 'form', 'when', 'hot', ',', 'molten', 'rock', 'crystal', '##li', '##zes', 'and', 'solid', '##ifies', '.', '[SEP]']\n"
     ]
    }
   ],
   "source": [
    "# Tokenize input\n",
    "text = \"[CLS] What are igneous rocks? [SEP] Igneous rocks form when hot , molten rock crystallizes and solidifies. [SEP] \"\n",
    "tokenized_text= tokenizer.tokenize(text)\n",
    "print(tokenized_text)"
   ]
  },
  {
   "cell_type": "markdown",
   "id": "individual-dealing",
   "metadata": {},
   "source": [
    "Note that the tokenizer is not breaking down all words according to their morphology -- only rare words.  Reasonably frequent words such as `elected` are left as whole words.  Rarer words such as `solidifies` are broken down.\n",
    "\n",
    "Now we are going to mask out one of the words in the text.  For the purposes of this demonstration, I have chosen token 11 but you could try different tokens.  Remember that during training the tokens to mask are chosen randomly.\n"
   ]
  },
  {
   "cell_type": "code",
   "execution_count": 5,
   "id": "detailed-valuation",
   "metadata": {},
   "outputs": [
    {
     "name": "stdout",
     "output_type": "stream",
     "text": [
      "['[CLS]', 'what', 'are', 'ign', '##eous', 'rocks', '?', '[SEP]', 'ign', '##eous', 'rocks', '[MASK]', 'when', 'hot', ',', 'molten', 'rock', 'crystal', '##li', '##zes', 'and', 'solid', '##ifies', '.', '[SEP]']\n"
     ]
    }
   ],
   "source": [
    "# Mask a token that we will try to predict back with `BertForMaskedLM`\n",
    "masked_index = 11\n",
    "tokenized_text[masked_index] = '[MASK]'\n",
    "print(tokenized_text)"
   ]
  },
  {
   "cell_type": "code",
   "execution_count": 6,
   "id": "dressed-forwarding",
   "metadata": {},
   "outputs": [
    {
     "name": "stdout",
     "output_type": "stream",
     "text": [
      "25\n"
     ]
    }
   ],
   "source": [
    "print(len(tokenized_text))"
   ]
  },
  {
   "cell_type": "markdown",
   "id": "offshore-completion",
   "metadata": {},
   "source": [
    "We are now going to try to use the masked language model to predict this word.\n",
    "\n",
    "First we need to convert the input into a list of word index ids."
   ]
  },
  {
   "cell_type": "code",
   "execution_count": 7,
   "id": "circular-playing",
   "metadata": {},
   "outputs": [
    {
     "name": "stdout",
     "output_type": "stream",
     "text": [
      "[101, 2054, 2024, 16270, 14769, 5749, 1029, 102, 16270, 14769, 5749, 103, 2043, 2980, 1010, 23548, 2600, 6121, 3669, 11254, 1998, 5024, 14144, 1012, 102]\n"
     ]
    }
   ],
   "source": [
    "# Convert token to vocabulary indices\n",
    "indexed_tokens = tokenizer.convert_tokens_to_ids(tokenized_text)\n",
    "print(indexed_tokens)"
   ]
  },
  {
   "cell_type": "markdown",
   "id": "comic-papua",
   "metadata": {},
   "source": [
    "We need segment ids to define whether a token is in the first or second sentence."
   ]
  },
  {
   "cell_type": "code",
   "execution_count": 8,
   "id": "pointed-croatia",
   "metadata": {},
   "outputs": [
    {
     "name": "stdout",
     "output_type": "stream",
     "text": [
      "[0, 0, 0, 0, 0, 0, 0, 0, 1, 1, 1, 1, 1, 1, 1, 1, 1, 1, 1, 1, 1, 1, 1, 1, 1]\n"
     ]
    }
   ],
   "source": [
    "def make_segment_ids(list_of_tokens):\n",
    "    #this function assumes that up to and including the first '[SEP]' is the first segment, anything afterwards is the second segment\n",
    "    current_id=0\n",
    "    segment_ids=[]\n",
    "    for token in list_of_tokens:\n",
    "        segment_ids.append(current_id)\n",
    "        if token == '[SEP]':\n",
    "            current_id=1\n",
    "    return segment_ids\n",
    "\n",
    "segment_ids=make_segment_ids(tokenized_text)\n",
    "print(segment_ids)"
   ]
  },
  {
   "cell_type": "code",
   "execution_count": 9,
   "id": "recorded-bundle",
   "metadata": {},
   "outputs": [
    {
     "name": "stdout",
     "output_type": "stream",
     "text": [
      "tensor([[  101,  2054,  2024, 16270, 14769,  5749,  1029,   102, 16270, 14769,\n",
      "          5749,   103,  2043,  2980,  1010, 23548,  2600,  6121,  3669, 11254,\n",
      "          1998,  5024, 14144,  1012,   102]])\n",
      "tensor([[0, 0, 0, 0, 0, 0, 0, 0, 1, 1, 1, 1, 1, 1, 1, 1, 1, 1, 1, 1, 1, 1, 1, 1,\n",
      "         1]])\n"
     ]
    }
   ],
   "source": [
    "# Convert inputs to PyTorch tensors\n",
    "#this just wraps things up in multi-dimensional tensors rather than as flat lists.\n",
    "tokens_tensor = torch.tensor([indexed_tokens])\n",
    "segments_tensors = torch.tensor([segment_ids])\n",
    "print(tokens_tensor)\n",
    "print(segments_tensors)"
   ]
  },
  {
   "cell_type": "markdown",
   "id": "tested-motivation",
   "metadata": {},
   "source": [
    "Now we need to encode the input using the bert-base-uncased model\n"
   ]
  },
  {
   "cell_type": "code",
   "execution_count": 10,
   "id": "present-apparatus",
   "metadata": {},
   "outputs": [],
   "source": [
    "# Load pre-trained model (weights)\n",
    "model = BertModel.from_pretrained('bert-base-uncased')\n",
    "\n",
    "# Set the model in evaluation mode to deactivate the DropOut modules\n",
    "# This is IMPORTANT to have reproducible results during evaluation!\n",
    "model.eval()\n",
    "\n",
    "# If you have a GPU, put everything on cuda - otherwise comment this out to run on CPU\n",
    "#tokens_tensor = tokens_tensor.to('cuda')\n",
    "#segments_tensors = segments_tensors.to('cuda')\n",
    "#model.to('cuda')\n",
    "\n",
    "# Predict hidden states features for each layer\n",
    "with torch.no_grad():\n",
    "    # See the models docstrings for the detail of the inputs\n",
    "    outputs = model(tokens_tensor, token_type_ids=segments_tensors)\n",
    "    # Transformers models always output tuples.\n",
    "    # See the models docstrings for the detail of all the outputs\n",
    "    # In our case, the first element of outputs is the output of the last layer of the Bert model (all tokens)\n",
    "    # the second element of outputs, outputs[1] is actually just a \"pooled_output\" representation of the CLS token (rather than all tokens) - however this involves an extra layer which is why it is not the same as the first element in outputs[0]!\n",
    "    encoded_layers = outputs[0]\n",
    "# We have encoded our input sequence in a FloatTensor of shape (batch size, sequence length, model hidden dimension)\n"
   ]
  },
  {
   "cell_type": "code",
   "execution_count": 11,
   "id": "powerful-today",
   "metadata": {},
   "outputs": [
    {
     "name": "stdout",
     "output_type": "stream",
     "text": [
      "torch.Size([1, 25, 768])\n"
     ]
    }
   ],
   "source": [
    "# We have encoded our input sequence in a FloatTensor of shape (batch size, sequence length, model hidden dimension)\n",
    "print(encoded_layers.shape)"
   ]
  },
  {
   "cell_type": "code",
   "execution_count": 12,
   "id": "ultimate-orlando",
   "metadata": {},
   "outputs": [
    {
     "data": {
      "text/plain": "tensor([[[-0.6674,  0.9458, -0.5036,  ..., -0.5302,  0.1874,  0.6336],\n         [ 0.3067, -0.0335,  0.0011,  ...,  0.1267, -0.3640, -0.9253],\n         [ 0.4349,  0.3408,  0.5464,  ..., -0.4371, -0.1396,  0.6499],\n         ...,\n         [ 0.2870,  0.5662, -0.0956,  ..., -0.5547, -0.4900, -0.2980],\n         [ 0.6253,  0.0615, -0.2790,  ...,  0.0038, -0.5781, -0.4948],\n         [ 0.6399,  0.0483, -0.2593,  ...,  0.0093, -0.5864, -0.4718]]])"
     },
     "execution_count": 12,
     "metadata": {},
     "output_type": "execute_result"
    }
   ],
   "source": [
    "encoded_layers"
   ]
  },
  {
   "cell_type": "code",
   "execution_count": 13,
   "id": "complimentary-shoot",
   "metadata": {},
   "outputs": [
    {
     "data": {
      "text/plain": "torch.Size([1, 768])"
     },
     "execution_count": 13,
     "metadata": {},
     "output_type": "execute_result"
    }
   ],
   "source": [
    "#outputs[1] is a representation of the CLS token of shape (batch size, model hidden dimension)\n",
    "outputs[1].shape"
   ]
  },
  {
   "cell_type": "code",
   "execution_count": 14,
   "id": "appropriate-demographic",
   "metadata": {},
   "outputs": [
    {
     "data": {
      "text/plain": "tensor([[-0.9920, -0.8534, -0.9981,  0.9898,  0.9694, -0.7778,  0.9918,  0.7435,\n         -0.9951, -1.0000, -0.9537,  0.9990,  0.9948,  0.9125,  0.9905, -0.9797,\n         -0.9501, -0.9055,  0.7429, -0.9396,  0.9539,  1.0000, -0.7118,  0.8053,\n          0.8925,  1.0000, -0.9784,  0.9881,  0.9908,  0.8765, -0.9697,  0.7592,\n         -0.9981, -0.6847, -0.9970, -0.9994,  0.9093, -0.9470, -0.6564, -0.6737,\n         -0.9759,  0.8515,  1.0000,  0.4217,  0.8609, -0.7738, -1.0000,  0.7504,\n         -0.9733,  0.9991,  0.9951,  0.9958,  0.8245,  0.9274,  0.9106, -0.8983,\n          0.6171,  0.6578, -0.7522, -0.9329, -0.8695,  0.8373, -0.9920, -0.9770,\n          0.9985,  0.9901, -0.7740, -0.8020, -0.7395,  0.4467,  0.9907,  0.7470,\n         -0.6924, -0.9460,  0.9862,  0.7678, -0.8415,  1.0000, -0.9650, -0.9968,\n          0.9861,  0.9893,  0.8187, -0.9405,  0.9565, -1.0000,  0.9414, -0.6060,\n         -0.9974,  0.7915,  0.9118, -0.7666,  0.9441,  0.8653, -0.8785, -0.9049,\n         -0.8647, -0.9939, -0.7791, -0.8847,  0.6838, -0.7547, -0.9171, -0.7626,\n          0.7974, -0.9089, -0.9127,  0.9330,  0.8373,  0.9413,  0.7347, -0.7677,\n          0.9071, -0.9925,  0.9362, -0.7880, -0.9977, -0.8618, -0.9973,  0.8958,\n         -0.8342, -0.7956,  0.9952, -0.7976,  0.8478, -0.7864, -0.9984, -1.0000,\n         -0.9598, -0.9045, -0.7693, -0.8251, -0.9955, -0.9902,  0.9385,  0.9900,\n          0.7818,  1.0000, -0.8784,  0.9820, -0.8444, -0.9638,  0.9604, -0.8807,\n          0.9772,  0.8863, -0.9577,  0.7125, -0.9123,  0.8488, -0.9688, -0.8415,\n         -0.9844, -0.9808, -0.7662,  0.9912, -0.8856, -0.9991, -0.7581, -0.7853,\n         -0.8826,  0.9685,  0.9713,  0.8696, -0.9014,  0.8728,  0.8884,  0.9016,\n         -0.9784, -0.7636,  0.8841, -0.8225, -0.9879, -0.9964, -0.8620,  0.8534,\n          0.9980,  0.9479,  0.7873,  0.9910, -0.7581,  0.9552, -0.9899,  0.9966,\n         -0.7570,  0.5980, -0.7977,  0.8375, -0.9794,  0.5972,  0.9890, -0.9660,\n         -0.9679, -0.7693, -0.8489, -0.9049, -0.9854,  0.8821, -0.7518, -0.7079,\n         -0.6682,  0.9754,  0.9996,  0.9721,  0.9171,  0.9500, -0.9908, -0.8700,\n          0.7582,  0.7664,  0.7310,  0.9992, -0.9316, -0.7278, -0.9734, -0.9959,\n          0.6740, -0.9737, -0.7451, -0.9224,  0.9654, -0.8308,  0.9702,  0.8731,\n         -0.9997, -0.9499,  0.8576, -0.8373,  0.8823, -0.7450,  0.6808,  0.9977,\n         -0.9323,  0.9893,  0.9728, -0.9950, -0.9247,  0.9822, -0.8109,  0.9878,\n         -0.9496,  0.9998,  0.9973,  0.9920, -0.9888, -0.9745, -0.9904, -0.9865,\n         -0.7125,  0.8473,  0.9979,  0.8981,  0.9016, -0.5928, -0.9488,  1.0000,\n         -0.3508, -0.9907, -0.1536, -0.8569, -0.9974,  0.9897,  0.7493,  0.9048,\n         -0.8930, -0.9627, -0.9920,  0.9959,  0.7362,  0.9997, -0.8934, -0.9988,\n         -0.9553, -0.9907,  0.6157, -0.7970, -0.9377,  0.4954, -0.9907,  0.8796,\n          0.8464,  0.9228, -0.9960,  1.0000,  1.0000,  0.9947,  0.9719,  0.9923,\n         -1.0000, -0.6040,  1.0000, -1.0000, -1.0000, -0.9882, -0.9459,  0.7377,\n         -1.0000, -0.6635, -0.6586, -0.9673,  0.9837,  0.9952,  1.0000, -1.0000,\n          0.9634,  0.9909, -0.8944,  0.9994, -0.9058,  0.9945,  0.8854,  0.8465,\n         -0.7271,  0.8456, -0.9985, -0.9951, -0.9732, -0.9846,  1.0000,  0.6920,\n         -0.9485, -0.9853,  0.8946, -0.7972,  0.6410, -0.9914, -0.7770,  0.9767,\n          0.9624,  0.7348,  0.7770, -0.9365,  0.8198,  0.6665,  0.8833,  0.8675,\n         -0.9828, -0.8991, -0.8155,  0.6827, -0.9729, -0.9920,  0.9961, -0.8314,\n          0.9971,  1.0000,  0.8267, -0.9900,  0.9614,  0.8303, -0.5444,  1.0000,\n          0.9586, -0.9967, -0.8382,  0.9182, -0.9399, -0.9588,  1.0000, -0.7798,\n         -0.9867, -0.9522,  0.9948, -0.9978,  1.0000, -0.9881, -0.9905,  0.9944,\n          0.9871, -0.9434, -0.8677,  0.7637, -0.9775,  0.7947, -0.9945,  0.9808,\n          0.9346, -0.6588,  0.9742, -0.9940, -0.7931,  0.7875, -0.9799, -0.7599,\n          0.9980,  0.9043, -0.7754,  0.6658, -0.7986, -0.3307, -0.9923,  0.9022,\n          1.0000, -0.8227,  0.9825, -0.9080, -0.6014,  0.6226,  0.9159,  0.9415,\n         -0.7960, -0.9544,  0.9823, -0.9982, -0.9964,  0.9476,  0.7602, -0.8235,\n          1.0000,  0.9153,  0.7399,  0.8395,  1.0000,  0.6071,  0.9156,  0.9986,\n          0.9961, -0.7822,  0.8492,  0.9883, -0.9988, -0.8254, -0.9167,  0.6585,\n         -0.9827, -0.6974, -0.9918,  0.9918,  0.9995,  0.8936,  0.7949,  0.9690,\n          1.0000, -0.4737,  0.9129, -0.9544,  0.9918, -1.0000, -0.9814, -0.8310,\n         -0.7560, -0.9961, -0.7968,  0.7888, -0.9939,  0.9953,  0.9693, -0.9999,\n         -0.9981, -0.8581,  0.9874,  0.6808, -0.9999, -0.9777, -0.8569,  0.9685,\n         -0.8493, -0.9911, -0.9130, -0.8793,  0.8907, -0.7382,  0.7991,  0.9954,\n         -0.3901, -0.9847, -0.7989, -0.6627, -0.9784,  0.9864, -0.9725, -0.9983,\n         -0.7337,  1.0000, -0.7928,  0.9937,  0.9591,  0.9633, -0.7954,  0.6570,\n          0.9967,  0.8362, -0.9908, -0.9979, -0.9884, -0.8979,  0.9179,  0.9442,\n          0.9760,  0.9389,  0.9495,  0.7606, -0.6604,  0.7730,  1.0000, -0.7958,\n         -0.8235, -0.8818, -0.6877, -0.8061, -0.9523,  1.0000,  0.7959,  0.9194,\n         -0.9978, -0.9934, -0.9967,  1.0000,  0.9537, -0.9557,  0.9569,  0.9294,\n         -0.6975,  0.9865, -0.7497, -0.7547,  0.7697,  0.6506,  0.9939, -0.8970,\n         -0.9937, -0.8969,  0.8814, -0.9936,  1.0000, -0.9344, -0.6993, -0.7738,\n         -0.9229,  0.9756,  0.5358, -0.9948, -0.8095,  0.7254,  0.9943,  0.8051,\n         -0.8519, -0.9900,  0.9966,  0.9833, -0.9981, -0.9795,  0.9948, -0.9960,\n          0.9296,  1.0000,  0.7765,  0.9189,  0.8173, -0.8967,  0.8645, -0.8983,\n          0.9594, -0.9923, -0.8647, -0.7741,  0.8819, -0.8473, -0.8005,  0.9022,\n          0.7010, -0.7941, -0.9262, -0.8005,  0.8966,  0.9892, -0.7817, -0.7274,\n          0.7499, -0.7966, -0.9950, -0.8403, -0.9028, -1.0000,  0.9396, -1.0000,\n          0.9699,  0.8453, -0.6894,  0.9600,  0.5040,  0.9370, -0.9575, -0.9969,\n         -0.7215,  0.9566, -0.8462, -0.9478, -0.9579,  0.8933, -0.7940,  0.6971,\n         -0.9605,  0.9234, -0.8134,  1.0000,  0.7787, -0.9636, -0.9995,  0.7418,\n         -0.8454,  1.0000, -0.9968, -0.9925,  0.8237, -0.9792, -0.9584,  0.7873,\n          0.6013, -0.9759, -0.9990,  0.9966,  0.9955, -0.7298,  0.9346, -0.8549,\n         -0.9028,  0.5879,  0.9959,  0.9975,  0.9175,  0.9933, -0.5805, -0.7641,\n          0.9928,  0.8033,  0.9636,  0.6838,  1.0000,  0.8710, -0.9845, -0.5421,\n         -0.9976, -0.8036, -0.9960,  0.8349,  0.8067,  0.9849, -0.8317,  0.9972,\n         -0.9945,  0.6559, -0.9616, -0.9538,  0.8082, -0.9879, -0.9956, -0.9971,\n          0.9609, -0.8136, -0.6031,  0.7689,  0.7609,  0.9146,  0.8965, -1.0000,\n          0.9870,  0.9008,  0.9970,  0.9928,  0.9553,  0.9059,  0.7928, -0.9978,\n         -0.9997, -0.8499, -0.7567,  0.9731,  0.9451,  0.9759,  0.8792, -0.7774,\n         -0.8035, -0.9736, -0.6400, -0.9987,  0.8177, -0.9809, -0.9993,  0.9907,\n          0.5525, -0.6939, -0.7384, -0.9846,  0.9975,  0.9612,  0.8804,  0.6486,\n          0.8515,  0.9766,  0.9948,  0.9970, -0.9918,  0.9730, -0.9867,  0.8941,\n          0.5481, -0.9805,  0.7424,  0.9325, -0.8293,  0.7965, -0.7773, -0.9986,\n          0.5689, -0.7585,  0.9433, -0.8013, -0.6182, -0.8715, -0.6922, -0.9015,\n         -0.9589,  0.8264,  0.9391,  0.9861,  0.9824, -0.6870, -0.9766, -0.7581,\n         -0.9901, -0.9811,  0.9974, -0.7849, -0.9224,  0.9792,  0.6575,  0.7181,\n          0.7718, -0.8658, -0.8692, -0.9748,  0.9783, -0.7775, -0.9432, -0.9298,\n          0.9382,  0.8087,  1.0000, -0.9894, -0.9983, -0.8440, -0.8447,  0.7453,\n         -0.9005, -1.0000,  0.8348, -0.9475,  0.9618, -0.9782,  0.9927, -0.9642,\n         -0.9994, -0.8306,  0.8780,  0.9822, -0.8960, -0.9683,  0.8213, -0.9105,\n          0.9998,  0.9668, -0.9696, -0.6894,  0.8576, -0.9900, -0.9290,  0.9831]])"
     },
     "execution_count": 14,
     "metadata": {},
     "output_type": "execute_result"
    }
   ],
   "source": [
    "outputs[1]"
   ]
  },
  {
   "cell_type": "markdown",
   "id": "straight-intelligence",
   "metadata": {},
   "source": [
    "We can also predict the masked token as follows.  We make the predictions as before (using the last layer of the BERT model) but then we find the token id which maximises the prediction for the masked token."
   ]
  },
  {
   "cell_type": "code",
   "execution_count": 15,
   "id": "postal-genealogy",
   "metadata": {},
   "outputs": [
    {
     "name": "stderr",
     "output_type": "stream",
     "text": [
      "Some weights of the model checkpoint at bert-base-uncased were not used when initializing BertForMaskedLM: ['cls.seq_relationship.weight', 'cls.seq_relationship.bias']\n",
      "- This IS expected if you are initializing BertForMaskedLM from the checkpoint of a model trained on another task or with another architecture (e.g. initializing a BertForSequenceClassification model from a BertForPreTraining model).\n",
      "- This IS NOT expected if you are initializing BertForMaskedLM from the checkpoint of a model that you expect to be exactly identical (initializing a BertForSequenceClassification model from a BertForSequenceClassification model).\n"
     ]
    },
    {
     "name": "stdout",
     "output_type": "stream",
     "text": [
      "form\n"
     ]
    }
   ],
   "source": [
    "model = BertForMaskedLM.from_pretrained('bert-base-uncased')\n",
    "model.eval()\n",
    "\n",
    "# If you have a GPU, put everything on cuda\n",
    "#tokens_tensor = tokens_tensor.to('cuda')\n",
    "#segments_tensors = segments_tensors.to('cuda')\n",
    "#model.to('cuda')\n",
    "\n",
    "# Predict all tokens\n",
    "with torch.no_grad():\n",
    "    outputs = model(tokens_tensor, token_type_ids=segments_tensors)\n",
    "    predictions = outputs[0]\n",
    "\n",
    "        \n",
    "# find the token id which maximises the prediction for the masked token and then convert this back to a word\n",
    "predicted_index = torch.argmax(predictions[0, masked_index]).item()\n",
    "predicted_token = tokenizer.convert_ids_to_tokens([predicted_index])[0]\n",
    "print(predicted_token)"
   ]
  },
  {
   "cell_type": "markdown",
   "id": "peaceful-handbook",
   "metadata": {},
   "source": [
    "### Exercise 0\n",
    "Mask each token in turn and see what BERT predicts.   How accurate are its predictions?  As an extension, you could look at masking multiple words in the sequence."
   ]
  },
  {
   "cell_type": "code",
   "execution_count": 16,
   "id": "capital-johnston",
   "metadata": {
    "pycharm": {
     "name": "#%%\n"
    }
   },
   "outputs": [
    {
     "name": "stdout",
     "output_type": "stream",
     "text": [
      "['[CLS]', 'what', 'are', 'ign', '##eous', 'rocks', '?', '[SEP]', 'ign', '##eous', 'rocks', 'form', 'when', 'hot', ',', 'molten', 'rock', 'crystal', '##li', '##zes', 'and', 'solid', '##ifies', '.', '[SEP]']\n"
     ]
    }
   ],
   "source": [
    "# Tokenize input\n",
    "text = \"[CLS] What are igneous rocks? [SEP] Igneous rocks form when hot , molten rock crystallizes and solidifies. [SEP] \"\n",
    "tokenized_text= tokenizer.tokenize(text)\n",
    "print(tokenized_text)"
   ]
  },
  {
   "cell_type": "code",
   "execution_count": 17,
   "outputs": [],
   "source": [
    "# Mask a token that we will try to predict back with `BertForMaskedLM`\n",
    "def get_masked_tokens(text, masked_index):\n",
    "    tokenized_text = tokenizer.tokenize(text)\n",
    "    tokenized_text[masked_index] = '[MASK]'\n",
    "    return tokenized_text"
   ],
   "metadata": {
    "collapsed": false,
    "pycharm": {
     "name": "#%%\n"
    }
   }
  },
  {
   "cell_type": "code",
   "execution_count": 18,
   "outputs": [
    {
     "name": "stdout",
     "output_type": "stream",
     "text": [
      "['[CLS]', '[MASK]', 'are', 'ign', '##eous', 'rocks', '?', '[SEP]', 'ign', '##eous', 'rocks', 'form', 'when', 'hot', ',', 'molten', 'rock', 'crystal', '##li', '##zes', 'and', 'solid', '##ifies', '.', '[SEP]']\n"
     ]
    }
   ],
   "source": [
    "masked_1 = get_masked_tokens(text, 1)\n",
    "print(masked_1)"
   ],
   "metadata": {
    "collapsed": false,
    "pycharm": {
     "name": "#%%\n"
    }
   }
  },
  {
   "cell_type": "code",
   "execution_count": 19,
   "outputs": [],
   "source": [
    "def get_tensors(tokens):\n",
    "    indexed_tokens = tokenizer.convert_tokens_to_ids(tokens)\n",
    "    segment_ids=make_segment_ids(tokens)\n",
    "    tokens_tensor = torch.tensor([indexed_tokens])\n",
    "    segments_tensors = torch.tensor([segment_ids])\n",
    "    return tokens_tensor, segments_tensors"
   ],
   "metadata": {
    "collapsed": false,
    "pycharm": {
     "name": "#%%\n"
    }
   }
  },
  {
   "cell_type": "code",
   "execution_count": 20,
   "outputs": [
    {
     "name": "stderr",
     "output_type": "stream",
     "text": [
      "Some weights of the model checkpoint at bert-base-uncased were not used when initializing BertForMaskedLM: ['cls.seq_relationship.weight', 'cls.seq_relationship.bias']\n",
      "- This IS expected if you are initializing BertForMaskedLM from the checkpoint of a model trained on another task or with another architecture (e.g. initializing a BertForSequenceClassification model from a BertForPreTraining model).\n",
      "- This IS NOT expected if you are initializing BertForMaskedLM from the checkpoint of a model that you expect to be exactly identical (initializing a BertForSequenceClassification model from a BertForSequenceClassification model).\n"
     ]
    }
   ],
   "source": [
    "model = BertForMaskedLM.from_pretrained('bert-base-uncased')\n",
    "model.eval()\n",
    "\n",
    "def predict_mask(model, tokens, index):\n",
    "    tokens_tensor, segments_tensors = get_tensors(tokens)\n",
    "    # Predict all tokens\n",
    "    with torch.no_grad():\n",
    "        outputs = model(tokens_tensor, token_type_ids=segments_tensors)\n",
    "        predictions = outputs[0]\n",
    "    # find the token id which maximises the prediction for the masked token and then convert this back to a word\n",
    "    predicted_index = torch.argmax(predictions[0, index]).item()\n",
    "    predicted_token = tokenizer.convert_ids_to_tokens([predicted_index])[0]\n",
    "    return predicted_token\n"
   ],
   "metadata": {
    "collapsed": false,
    "pycharm": {
     "name": "#%%\n"
    }
   }
  },
  {
   "cell_type": "code",
   "execution_count": 21,
   "outputs": [
    {
     "name": "stdout",
     "output_type": "stream",
     "text": [
      "['[CLS]', '[MASK]', 'are', 'ign', '##eous', 'rocks', '?', '[SEP]', 'ign', '##eous', 'rocks', 'form', 'when', 'hot', ',', 'molten', 'rock', 'crystal', '##li', '##zes', 'and', 'solid', '##ifies', '.', '[SEP]']\n"
     ]
    }
   ],
   "source": [
    "masked_1 = get_masked_tokens(text, 1)\n",
    "print(masked_1)"
   ],
   "metadata": {
    "collapsed": false,
    "pycharm": {
     "name": "#%%\n"
    }
   }
  },
  {
   "cell_type": "code",
   "execution_count": 22,
   "outputs": [
    {
     "name": "stdout",
     "output_type": "stream",
     "text": [
      "what\n"
     ]
    }
   ],
   "source": [
    "predicted_1 = predict_mask(model, masked_1, 1)\n",
    "print(predicted_1)"
   ],
   "metadata": {
    "collapsed": false,
    "pycharm": {
     "name": "#%%\n"
    }
   }
  },
  {
   "cell_type": "code",
   "execution_count": 23,
   "outputs": [
    {
     "name": "stdout",
     "output_type": "stream",
     "text": [
      "['[CLS]', 'what', '[MASK]', 'ign', '##eous', 'rocks', '?', '[SEP]', 'ign', '##eous', 'rocks', 'form', 'when', 'hot', ',', 'molten', 'rock', 'crystal', '##li', '##zes', 'and', 'solid', '##ifies', '.', '[SEP]']\n"
     ]
    }
   ],
   "source": [
    "masked_2 = get_masked_tokens(text, 2)\n",
    "print(masked_2)"
   ],
   "metadata": {
    "collapsed": false,
    "pycharm": {
     "name": "#%%\n"
    }
   }
  },
  {
   "cell_type": "code",
   "execution_count": 24,
   "outputs": [
    {
     "name": "stdout",
     "output_type": "stream",
     "text": [
      "about\n"
     ]
    }
   ],
   "source": [
    "predicted_2 = predict_mask(model, masked_2, 2)\n",
    "print(predicted_2)"
   ],
   "metadata": {
    "collapsed": false,
    "pycharm": {
     "name": "#%%\n"
    }
   }
  },
  {
   "cell_type": "code",
   "execution_count": 25,
   "outputs": [
    {
     "name": "stdout",
     "output_type": "stream",
     "text": [
      "['[CLS]', 'what', 'are', 'ign', '##eous', 'rocks', '?', '[SEP]', 'ign', '##eous', 'rocks', 'form', 'when', 'hot', ',', 'molten', 'rock', 'crystal', '##li', '##zes', 'and', 'solid', '##ifies', '.', '[SEP]']\n"
     ]
    }
   ],
   "source": [
    "tokenized_text = tokenizer.tokenize(text)\n",
    "print(tokenized_text)"
   ],
   "metadata": {
    "collapsed": false,
    "pycharm": {
     "name": "#%%\n"
    }
   }
  },
  {
   "cell_type": "code",
   "execution_count": 26,
   "outputs": [
    {
     "name": "stdout",
     "output_type": "stream",
     "text": [
      "what what\n",
      "are about\n",
      "ign ign\n",
      "##eous ##eous\n",
      "rocks rocks\n",
      "? ?\n",
      "[SEP] \"\n",
      "ign ign\n",
      "##eous ##eous\n",
      "rocks rocks\n",
      "form form\n",
      "when when\n",
      "hot solid\n",
      ", ,\n",
      "molten hard\n",
      "rock rock\n",
      "crystal crystal\n",
      "##li ##li\n",
      "##zes ##zes\n",
      "and and\n",
      "solid solid\n",
      "##ifies ##ifies\n",
      ". .\n",
      "[SEP] \"\n"
     ]
    }
   ],
   "source": [
    "for i in range(1, len(tokenized_text)):\n",
    "    masked_tokens = get_masked_tokens(text, i)\n",
    "    predicted = predict_mask(model, masked_tokens, i)\n",
    "    print(tokenized_text[i], predicted)"
   ],
   "metadata": {
    "collapsed": false,
    "pycharm": {
     "name": "#%%\n"
    }
   }
  },
  {
   "cell_type": "markdown",
   "id": "threaded-muslim",
   "metadata": {},
   "source": [
    "## Representing Sentential Meaning\n",
    "We are going to be looking at different strategies for representing sentential meaning\n",
    "* CLS token representation\n",
    "* centroid/sum of output embeddings\n",
    "\n",
    "The file `examples.txt` contains some example sentences.\n",
    "\n",
    "### Exercise 1\n",
    "Read in the sentences and store them as a list of sentences.  Add `[CLS]` and `[SEP]` tokens to the beginning and end of each and then pass them through the bert-base-uncased tokenizer"
   ]
  },
  {
   "cell_type": "code",
   "execution_count": 27,
   "id": "collectible-large",
   "metadata": {},
   "outputs": [
    {
     "name": "stdout",
     "output_type": "stream",
     "text": [
      "['[CLS] The boy kicks the ball. [SEP]', '[CLS] The ball kicks the boy. [SEP]', '[CLS] The child kicks the ball. [SEP]', '[CLS] The ball is kicked by the boy. [SEP]', '[CLS] The ball is kicked. [SEP]', '[CLS] The boy kicks. [SEP]', '[CLS] The child kicks. [SEP]', '[CLS] The boy kicks a round object. [SEP]', '[CLS] The male child kicks the ball. [SEP]', '[CLS] The boy is playing football. [SEP]', '[CLS] The boy hits the ball. [SEP]', '[CLS] The ball hits the boy. [SEP]', '[CLS] The boy is hit by the ball. [SEP]', '[CLS] The ball is hit by the boy. [SEP]', '[CLS] The female child kicks the ball. [SEP]', '[CLS] The girl kicks the ball. [SEP]', '[CLS] The child plays with dolls. [SEP]', '[CLS] The female child plays with dolls. [SEP]', '[CLS] The male child plays with dolls. [SEP]', '[CLS] The girl plays with dolls. [SEP]', '[CLS] The boy plays with dolls. [SEP]', '[CLS] The boy is kicking the ball. [SEP]', '[CLS] The boy is not kicking the ball. [SEP]', '[CLS] All boys kick balls. [SEP]', '[CLS] Every boy kicks a ball. [SEP]', '[CLS] There is a boy kicking a ball. [SEP]', '[CLS] There is not a boy kicking a ball. [SEP]', '[CLS] I can see a boy kicking a ball. [SEP]', '[CLS] I cannot see a boy kicking a ball. [SEP]', '[CLS] I believe the boy is kicking the ball. [SEP]', '[CLS] No boys kick balls. [SEP]', '[CLS] Boys do not kick balls. [SEP]', '[CLS] Boys always kick balls. [SEP]', '[CLS] I can see a male child kicking a ball. [SEP]', '[CLS] I can see a girl kicking a ball. [SEP]']\n"
     ]
    }
   ],
   "source": [
    "sentences = []\n",
    "with open('examples.txt') as f:\n",
    "    sentences = ['[CLS] ' +line.rstrip()+ ' [SEP]'  for line in f]\n",
    "print(sentences)"
   ]
  },
  {
   "cell_type": "code",
   "execution_count": 28,
   "id": "meaningful-employer",
   "metadata": {},
   "outputs": [
    {
     "name": "stdout",
     "output_type": "stream",
     "text": [
      "[['[CLS]', 'the', 'boy', 'kicks', 'the', 'ball', '.', '[SEP]'], ['[CLS]', 'the', 'ball', 'kicks', 'the', 'boy', '.', '[SEP]'], ['[CLS]', 'the', 'child', 'kicks', 'the', 'ball', '.', '[SEP]'], ['[CLS]', 'the', 'ball', 'is', 'kicked', 'by', 'the', 'boy', '.', '[SEP]'], ['[CLS]', 'the', 'ball', 'is', 'kicked', '.', '[SEP]'], ['[CLS]', 'the', 'boy', 'kicks', '.', '[SEP]'], ['[CLS]', 'the', 'child', 'kicks', '.', '[SEP]'], ['[CLS]', 'the', 'boy', 'kicks', 'a', 'round', 'object', '.', '[SEP]'], ['[CLS]', 'the', 'male', 'child', 'kicks', 'the', 'ball', '.', '[SEP]'], ['[CLS]', 'the', 'boy', 'is', 'playing', 'football', '.', '[SEP]'], ['[CLS]', 'the', 'boy', 'hits', 'the', 'ball', '.', '[SEP]'], ['[CLS]', 'the', 'ball', 'hits', 'the', 'boy', '.', '[SEP]'], ['[CLS]', 'the', 'boy', 'is', 'hit', 'by', 'the', 'ball', '.', '[SEP]'], ['[CLS]', 'the', 'ball', 'is', 'hit', 'by', 'the', 'boy', '.', '[SEP]'], ['[CLS]', 'the', 'female', 'child', 'kicks', 'the', 'ball', '.', '[SEP]'], ['[CLS]', 'the', 'girl', 'kicks', 'the', 'ball', '.', '[SEP]'], ['[CLS]', 'the', 'child', 'plays', 'with', 'dolls', '.', '[SEP]'], ['[CLS]', 'the', 'female', 'child', 'plays', 'with', 'dolls', '.', '[SEP]'], ['[CLS]', 'the', 'male', 'child', 'plays', 'with', 'dolls', '.', '[SEP]'], ['[CLS]', 'the', 'girl', 'plays', 'with', 'dolls', '.', '[SEP]'], ['[CLS]', 'the', 'boy', 'plays', 'with', 'dolls', '.', '[SEP]'], ['[CLS]', 'the', 'boy', 'is', 'kicking', 'the', 'ball', '.', '[SEP]'], ['[CLS]', 'the', 'boy', 'is', 'not', 'kicking', 'the', 'ball', '.', '[SEP]'], ['[CLS]', 'all', 'boys', 'kick', 'balls', '.', '[SEP]'], ['[CLS]', 'every', 'boy', 'kicks', 'a', 'ball', '.', '[SEP]'], ['[CLS]', 'there', 'is', 'a', 'boy', 'kicking', 'a', 'ball', '.', '[SEP]'], ['[CLS]', 'there', 'is', 'not', 'a', 'boy', 'kicking', 'a', 'ball', '.', '[SEP]'], ['[CLS]', 'i', 'can', 'see', 'a', 'boy', 'kicking', 'a', 'ball', '.', '[SEP]'], ['[CLS]', 'i', 'cannot', 'see', 'a', 'boy', 'kicking', 'a', 'ball', '.', '[SEP]'], ['[CLS]', 'i', 'believe', 'the', 'boy', 'is', 'kicking', 'the', 'ball', '.', '[SEP]'], ['[CLS]', 'no', 'boys', 'kick', 'balls', '.', '[SEP]'], ['[CLS]', 'boys', 'do', 'not', 'kick', 'balls', '.', '[SEP]'], ['[CLS]', 'boys', 'always', 'kick', 'balls', '.', '[SEP]'], ['[CLS]', 'i', 'can', 'see', 'a', 'male', 'child', 'kicking', 'a', 'ball', '.', '[SEP]'], ['[CLS]', 'i', 'can', 'see', 'a', 'girl', 'kicking', 'a', 'ball', '.', '[SEP]']]\n"
     ]
    }
   ],
   "source": [
    "sentences_tokens = [tokenizer.tokenize(sentence) for sentence in sentences]\n",
    "print(sentences_tokens)"
   ]
  },
  {
   "cell_type": "code",
   "execution_count": 29,
   "outputs": [],
   "source": [
    "sentences_indexed_tokens = [tokenizer.convert_tokens_to_ids(tokens) for tokens in sentences_tokens]\n",
    "sentences_segment_ids= [make_segment_ids(tokens) for tokens in sentences_tokens]\n",
    "sentences_tokens_tensor = [torch.tensor([indexed_tokens]) for indexed_tokens in sentences_indexed_tokens]\n",
    "sentences_segments_tensors = [torch.tensor([segment_ids]) for segment_ids in sentences_segment_ids]"
   ],
   "metadata": {
    "collapsed": false,
    "pycharm": {
     "name": "#%%\n"
    }
   }
  },
  {
   "cell_type": "markdown",
   "id": "basic-direction",
   "metadata": {},
   "source": [
    "When encoding sentences, it is actually more typical to pool the hidden states for each layer (at depth n) rather than the output layer.  We can access the hidden states of the model using `output_hidden_states=True` "
   ]
  },
  {
   "cell_type": "code",
   "execution_count": 30,
   "id": "nervous-effort",
   "metadata": {},
   "outputs": [],
   "source": [
    "model = BertModel.from_pretrained('bert-base-uncased')\n",
    "\n",
    "\n",
    "model.eval()\n",
    "\n",
    "# Predict hidden states features for each layer\n",
    "with torch.no_grad():\n",
    "    # See the models docstrings for the detail of the inputs\n",
    "    outputs = model(tokens_tensor, token_type_ids=segments_tensors,output_hidden_states=True)\n",
    "   \n",
    "    \n",
    "    "
   ]
  },
  {
   "cell_type": "code",
   "execution_count": 31,
   "id": "eligible-juvenile",
   "metadata": {},
   "outputs": [
    {
     "data": {
      "text/plain": "(tensor([[[-0.6674,  0.9458, -0.5036,  ..., -0.5302,  0.1874,  0.6336],\n          [ 0.3067, -0.0335,  0.0011,  ...,  0.1267, -0.3640, -0.9253],\n          [ 0.4349,  0.3408,  0.5464,  ..., -0.4371, -0.1396,  0.6499],\n          ...,\n          [ 0.2870,  0.5662, -0.0956,  ..., -0.5547, -0.4900, -0.2980],\n          [ 0.6253,  0.0615, -0.2790,  ...,  0.0038, -0.5781, -0.4948],\n          [ 0.6399,  0.0483, -0.2593,  ...,  0.0093, -0.5864, -0.4718]]]),\n tensor([[-0.9920, -0.8534, -0.9981,  0.9898,  0.9694, -0.7778,  0.9918,  0.7435,\n          -0.9951, -1.0000, -0.9537,  0.9990,  0.9948,  0.9125,  0.9905, -0.9797,\n          -0.9501, -0.9055,  0.7429, -0.9396,  0.9539,  1.0000, -0.7118,  0.8053,\n           0.8925,  1.0000, -0.9784,  0.9881,  0.9908,  0.8765, -0.9697,  0.7592,\n          -0.9981, -0.6847, -0.9970, -0.9994,  0.9093, -0.9470, -0.6564, -0.6737,\n          -0.9759,  0.8515,  1.0000,  0.4217,  0.8609, -0.7738, -1.0000,  0.7504,\n          -0.9733,  0.9991,  0.9951,  0.9958,  0.8245,  0.9274,  0.9106, -0.8983,\n           0.6171,  0.6578, -0.7522, -0.9329, -0.8695,  0.8373, -0.9920, -0.9770,\n           0.9985,  0.9901, -0.7740, -0.8020, -0.7395,  0.4467,  0.9907,  0.7470,\n          -0.6924, -0.9460,  0.9862,  0.7678, -0.8415,  1.0000, -0.9650, -0.9968,\n           0.9861,  0.9893,  0.8187, -0.9405,  0.9565, -1.0000,  0.9414, -0.6060,\n          -0.9974,  0.7915,  0.9118, -0.7666,  0.9441,  0.8653, -0.8785, -0.9049,\n          -0.8647, -0.9939, -0.7791, -0.8847,  0.6838, -0.7547, -0.9171, -0.7626,\n           0.7974, -0.9089, -0.9127,  0.9330,  0.8373,  0.9413,  0.7347, -0.7677,\n           0.9071, -0.9925,  0.9362, -0.7880, -0.9977, -0.8618, -0.9973,  0.8958,\n          -0.8342, -0.7956,  0.9952, -0.7976,  0.8478, -0.7864, -0.9984, -1.0000,\n          -0.9598, -0.9045, -0.7693, -0.8251, -0.9955, -0.9902,  0.9385,  0.9900,\n           0.7818,  1.0000, -0.8784,  0.9820, -0.8444, -0.9638,  0.9604, -0.8807,\n           0.9772,  0.8863, -0.9577,  0.7125, -0.9123,  0.8488, -0.9688, -0.8415,\n          -0.9844, -0.9808, -0.7662,  0.9912, -0.8856, -0.9991, -0.7581, -0.7853,\n          -0.8826,  0.9685,  0.9713,  0.8696, -0.9014,  0.8728,  0.8884,  0.9016,\n          -0.9784, -0.7636,  0.8841, -0.8225, -0.9879, -0.9964, -0.8620,  0.8534,\n           0.9980,  0.9479,  0.7873,  0.9910, -0.7581,  0.9552, -0.9899,  0.9966,\n          -0.7570,  0.5980, -0.7977,  0.8375, -0.9794,  0.5972,  0.9890, -0.9660,\n          -0.9679, -0.7693, -0.8489, -0.9049, -0.9854,  0.8821, -0.7518, -0.7079,\n          -0.6682,  0.9754,  0.9996,  0.9721,  0.9171,  0.9500, -0.9908, -0.8700,\n           0.7582,  0.7664,  0.7310,  0.9992, -0.9316, -0.7278, -0.9734, -0.9959,\n           0.6740, -0.9737, -0.7451, -0.9224,  0.9654, -0.8308,  0.9702,  0.8731,\n          -0.9997, -0.9499,  0.8576, -0.8373,  0.8823, -0.7450,  0.6808,  0.9977,\n          -0.9323,  0.9893,  0.9728, -0.9950, -0.9247,  0.9822, -0.8109,  0.9878,\n          -0.9496,  0.9998,  0.9973,  0.9920, -0.9888, -0.9745, -0.9904, -0.9865,\n          -0.7125,  0.8473,  0.9979,  0.8981,  0.9016, -0.5928, -0.9488,  1.0000,\n          -0.3508, -0.9907, -0.1536, -0.8569, -0.9974,  0.9897,  0.7493,  0.9048,\n          -0.8930, -0.9627, -0.9920,  0.9959,  0.7362,  0.9997, -0.8934, -0.9988,\n          -0.9553, -0.9907,  0.6157, -0.7970, -0.9377,  0.4954, -0.9907,  0.8796,\n           0.8464,  0.9228, -0.9960,  1.0000,  1.0000,  0.9947,  0.9719,  0.9923,\n          -1.0000, -0.6040,  1.0000, -1.0000, -1.0000, -0.9882, -0.9459,  0.7377,\n          -1.0000, -0.6635, -0.6586, -0.9673,  0.9837,  0.9952,  1.0000, -1.0000,\n           0.9634,  0.9909, -0.8944,  0.9994, -0.9058,  0.9945,  0.8854,  0.8465,\n          -0.7271,  0.8456, -0.9985, -0.9951, -0.9732, -0.9846,  1.0000,  0.6920,\n          -0.9485, -0.9853,  0.8946, -0.7972,  0.6410, -0.9914, -0.7770,  0.9767,\n           0.9624,  0.7348,  0.7770, -0.9365,  0.8198,  0.6665,  0.8833,  0.8675,\n          -0.9828, -0.8991, -0.8155,  0.6827, -0.9729, -0.9920,  0.9961, -0.8314,\n           0.9971,  1.0000,  0.8267, -0.9900,  0.9614,  0.8303, -0.5444,  1.0000,\n           0.9586, -0.9967, -0.8382,  0.9182, -0.9399, -0.9588,  1.0000, -0.7798,\n          -0.9867, -0.9522,  0.9948, -0.9978,  1.0000, -0.9881, -0.9905,  0.9944,\n           0.9871, -0.9434, -0.8677,  0.7637, -0.9775,  0.7947, -0.9945,  0.9808,\n           0.9346, -0.6588,  0.9742, -0.9940, -0.7931,  0.7875, -0.9799, -0.7599,\n           0.9980,  0.9043, -0.7754,  0.6658, -0.7986, -0.3307, -0.9923,  0.9022,\n           1.0000, -0.8227,  0.9825, -0.9080, -0.6014,  0.6226,  0.9159,  0.9415,\n          -0.7960, -0.9544,  0.9823, -0.9982, -0.9964,  0.9476,  0.7602, -0.8235,\n           1.0000,  0.9153,  0.7399,  0.8395,  1.0000,  0.6071,  0.9156,  0.9986,\n           0.9961, -0.7822,  0.8492,  0.9883, -0.9988, -0.8254, -0.9167,  0.6585,\n          -0.9827, -0.6974, -0.9918,  0.9918,  0.9995,  0.8936,  0.7949,  0.9690,\n           1.0000, -0.4737,  0.9129, -0.9544,  0.9918, -1.0000, -0.9814, -0.8310,\n          -0.7560, -0.9961, -0.7968,  0.7888, -0.9939,  0.9953,  0.9693, -0.9999,\n          -0.9981, -0.8581,  0.9874,  0.6808, -0.9999, -0.9777, -0.8569,  0.9685,\n          -0.8493, -0.9911, -0.9130, -0.8793,  0.8907, -0.7382,  0.7991,  0.9954,\n          -0.3901, -0.9847, -0.7989, -0.6627, -0.9784,  0.9864, -0.9725, -0.9983,\n          -0.7337,  1.0000, -0.7928,  0.9937,  0.9591,  0.9633, -0.7954,  0.6570,\n           0.9967,  0.8362, -0.9908, -0.9979, -0.9884, -0.8979,  0.9179,  0.9442,\n           0.9760,  0.9389,  0.9495,  0.7606, -0.6604,  0.7730,  1.0000, -0.7958,\n          -0.8235, -0.8818, -0.6877, -0.8061, -0.9523,  1.0000,  0.7959,  0.9194,\n          -0.9978, -0.9934, -0.9967,  1.0000,  0.9537, -0.9557,  0.9569,  0.9294,\n          -0.6975,  0.9865, -0.7497, -0.7547,  0.7697,  0.6506,  0.9939, -0.8970,\n          -0.9937, -0.8969,  0.8814, -0.9936,  1.0000, -0.9344, -0.6993, -0.7738,\n          -0.9229,  0.9756,  0.5358, -0.9948, -0.8095,  0.7254,  0.9943,  0.8051,\n          -0.8519, -0.9900,  0.9966,  0.9833, -0.9981, -0.9795,  0.9948, -0.9960,\n           0.9296,  1.0000,  0.7765,  0.9189,  0.8173, -0.8967,  0.8645, -0.8983,\n           0.9594, -0.9923, -0.8647, -0.7741,  0.8819, -0.8473, -0.8005,  0.9022,\n           0.7010, -0.7941, -0.9262, -0.8005,  0.8966,  0.9892, -0.7817, -0.7274,\n           0.7499, -0.7966, -0.9950, -0.8403, -0.9028, -1.0000,  0.9396, -1.0000,\n           0.9699,  0.8453, -0.6894,  0.9600,  0.5040,  0.9370, -0.9575, -0.9969,\n          -0.7215,  0.9566, -0.8462, -0.9478, -0.9579,  0.8933, -0.7940,  0.6971,\n          -0.9605,  0.9234, -0.8134,  1.0000,  0.7787, -0.9636, -0.9995,  0.7418,\n          -0.8454,  1.0000, -0.9968, -0.9925,  0.8237, -0.9792, -0.9584,  0.7873,\n           0.6013, -0.9759, -0.9990,  0.9966,  0.9955, -0.7298,  0.9346, -0.8549,\n          -0.9028,  0.5879,  0.9959,  0.9975,  0.9175,  0.9933, -0.5805, -0.7641,\n           0.9928,  0.8033,  0.9636,  0.6838,  1.0000,  0.8710, -0.9845, -0.5421,\n          -0.9976, -0.8036, -0.9960,  0.8349,  0.8067,  0.9849, -0.8317,  0.9972,\n          -0.9945,  0.6559, -0.9616, -0.9538,  0.8082, -0.9879, -0.9956, -0.9971,\n           0.9609, -0.8136, -0.6031,  0.7689,  0.7609,  0.9146,  0.8965, -1.0000,\n           0.9870,  0.9008,  0.9970,  0.9928,  0.9553,  0.9059,  0.7928, -0.9978,\n          -0.9997, -0.8499, -0.7567,  0.9731,  0.9451,  0.9759,  0.8792, -0.7774,\n          -0.8035, -0.9736, -0.6400, -0.9987,  0.8177, -0.9809, -0.9993,  0.9907,\n           0.5525, -0.6939, -0.7384, -0.9846,  0.9975,  0.9612,  0.8804,  0.6486,\n           0.8515,  0.9766,  0.9948,  0.9970, -0.9918,  0.9730, -0.9867,  0.8941,\n           0.5481, -0.9805,  0.7424,  0.9325, -0.8293,  0.7965, -0.7773, -0.9986,\n           0.5689, -0.7585,  0.9433, -0.8013, -0.6182, -0.8715, -0.6922, -0.9015,\n          -0.9589,  0.8264,  0.9391,  0.9861,  0.9824, -0.6870, -0.9766, -0.7581,\n          -0.9901, -0.9811,  0.9974, -0.7849, -0.9224,  0.9792,  0.6575,  0.7181,\n           0.7718, -0.8658, -0.8692, -0.9748,  0.9783, -0.7775, -0.9432, -0.9298,\n           0.9382,  0.8087,  1.0000, -0.9894, -0.9983, -0.8440, -0.8447,  0.7453,\n          -0.9005, -1.0000,  0.8348, -0.9475,  0.9618, -0.9782,  0.9927, -0.9642,\n          -0.9994, -0.8306,  0.8780,  0.9822, -0.8960, -0.9683,  0.8213, -0.9105,\n           0.9998,  0.9668, -0.9696, -0.6894,  0.8576, -0.9900, -0.9290,  0.9831]]),\n (tensor([[[ 0.1686, -0.2858, -0.3261,  ..., -0.0276,  0.0383,  0.1640],\n           [ 0.9868,  0.4540, -1.0180,  ...,  0.7542,  0.2929, -1.5443],\n           [-0.2330,  0.1164,  0.5087,  ...,  0.3019,  0.1804,  0.3744],\n           ...,\n           [ 0.9994,  0.9047, -1.2890,  ...,  0.8085, -0.8090, -0.2074],\n           [-0.1864,  0.2774, -0.2251,  ...,  0.7510,  0.4162,  0.3754],\n           [-0.4083, -0.0742, -0.2198,  ..., -0.0169,  0.0754, -0.1792]]]),\n  tensor([[[ 0.1878, -0.0751, -0.0687,  ..., -0.0758,  0.0329,  0.1157],\n           [ 1.0104,  0.7452, -1.0832,  ...,  0.4940,  0.1567, -1.8934],\n           [ 0.0868,  0.2392,  0.8932,  ..., -0.4396,  0.2071,  0.1481],\n           ...,\n           [ 1.5032,  0.8035, -0.8785,  ...,  0.0416, -0.6364, -0.5124],\n           [-0.1756,  0.2548, -0.0932,  ...,  0.3335,  0.2138,  0.2482],\n           [-0.1456,  0.0736, -0.0938,  ..., -0.0030,  0.4308,  0.0211]]]),\n  tensor([[[ 0.1896, -0.0662, -0.1031,  ..., -0.1848, -0.0491,  0.0516],\n           [ 0.8948,  1.1034, -0.5450,  ...,  0.5724,  0.1053, -2.0584],\n           [-0.3607,  0.4527,  1.2999,  ..., -0.7480,  0.0715, -0.0329],\n           ...,\n           [ 1.9348,  1.1485, -0.7927,  ...,  0.2501, -1.1113, -0.4855],\n           [-0.1928,  0.1680,  0.1940,  ..., -0.0887,  0.0998,  0.3689],\n           [-0.2485,  0.0031,  0.0798,  ..., -0.0797,  0.4023, -0.0918]]]),\n  tensor([[[-0.0099, -0.0595, -0.0674,  ..., -0.1763,  0.0344,  0.1454],\n           [ 0.6131,  0.5871, -0.0202,  ...,  0.8430,  0.1292, -1.9087],\n           [-0.9492,  0.1793,  0.3505,  ..., -0.5398, -0.1869, -0.0091],\n           ...,\n           [ 1.9983,  1.0839, -0.6500,  ..., -0.0065, -0.6949, -0.5403],\n           [-0.3257,  0.1625,  0.3971,  ..., -0.1528,  0.0231,  0.0504],\n           [-0.0940, -0.0621,  0.0881,  ...,  0.0595,  0.0472, -0.0133]]]),\n  tensor([[[ 2.4220e-02, -1.3628e-01, -2.8082e-01,  ..., -3.3888e-01,\n             1.3546e-01,  5.8827e-01],\n           [ 3.8286e-01, -5.5265e-03,  4.1677e-01,  ...,  9.9048e-01,\n            -3.8671e-01, -2.1947e+00],\n           [-9.7198e-01, -1.8916e-01,  6.5491e-01,  ..., -5.1022e-01,\n            -6.7464e-01,  8.0497e-02],\n           ...,\n           [ 2.1391e+00,  1.1571e+00, -3.3452e-01,  ..., -3.0247e-02,\n            -3.8332e-01, -4.6245e-01],\n           [-2.2154e-01,  3.9203e-01,  4.7023e-01,  ..., -5.4786e-01,\n             1.7319e-01,  1.7003e-01],\n           [-4.9989e-02, -2.6487e-02, -7.3693e-04,  ...,  2.8987e-02,\n             2.5606e-02, -1.0847e-02]]]),\n  tensor([[[ 2.2290e-02,  4.2560e-01, -3.5848e-01,  ..., -3.8712e-01,\n             2.7991e-01,  8.1028e-01],\n           [ 8.7145e-01, -4.7755e-01,  1.8456e-01,  ...,  5.6867e-01,\n            -4.4134e-01, -2.1077e+00],\n           [-5.8751e-01, -3.5007e-01,  2.2960e-01,  ..., -9.3782e-01,\n             8.0303e-02,  3.6373e-01],\n           ...,\n           [ 2.1366e+00,  9.0747e-01, -4.3225e-02,  ...,  3.7353e-01,\n            -7.3293e-02, -2.0660e-01],\n           [ 7.7742e-02,  2.9835e-01,  4.3609e-01,  ..., -1.7222e-01,\n             1.8098e-01,  6.6856e-02],\n           [-3.1906e-02, -2.6378e-02,  1.8792e-03,  ...,  2.5791e-02,\n            -2.1704e-02, -2.6086e-02]]]),\n  tensor([[[-2.5147e-01,  9.6250e-01, -9.3097e-01,  ..., -6.7206e-01,\n            -9.9479e-02,  8.7910e-01],\n           [ 8.0019e-01, -3.5505e-01, -5.1568e-02,  ...,  4.1974e-01,\n            -4.6207e-01, -2.0910e+00],\n           [-1.4063e-01,  1.5655e-01, -2.7989e-01,  ..., -1.3049e+00,\n             5.7566e-01,  1.6716e-01],\n           ...,\n           [ 2.2153e+00,  6.8225e-01, -2.2407e-01,  ..., -2.9019e-03,\n            -1.5447e-01,  1.8675e-03],\n           [ 1.9071e-01,  6.3617e-01,  1.1504e-01,  ..., -6.3296e-01,\n             4.4848e-02,  3.3373e-01],\n           [ 1.4959e-02,  3.8074e-03, -2.4339e-02,  ...,  2.0348e-02,\n            -2.4315e-02, -3.8528e-02]]]),\n  tensor([[[ 0.1075,  1.0070, -1.1332,  ..., -0.4228, -0.2015,  0.9617],\n           [ 1.1078,  0.0123, -0.4682,  ...,  0.1286, -0.3706, -2.1118],\n           [-0.0890,  0.0114, -0.1082,  ..., -1.4991,  0.8509,  0.0510],\n           ...,\n           [ 1.7290,  0.1479,  0.1721,  ..., -0.8372, -0.6202,  0.2057],\n           [ 0.1875,  0.2427,  0.4634,  ..., -0.4594,  0.6873,  0.1799],\n           [ 0.0435,  0.0140, -0.0314,  ..., -0.0033, -0.0108, -0.0581]]]),\n  tensor([[[-0.2115,  0.8808, -1.0971,  ..., -0.5508, -0.0234,  0.9936],\n           [ 0.6476, -0.1967, -0.7240,  ...,  0.2487, -0.5307, -1.5184],\n           [-0.1062, -0.0633, -0.5265,  ..., -1.3062,  0.3024,  0.6285],\n           ...,\n           [ 1.4874, -0.1015,  0.1410,  ..., -0.6806, -0.5149,  0.1774],\n           [ 0.1932,  0.1688, -0.0382,  ..., -0.3819,  0.3284,  0.1854],\n           [ 0.0585,  0.0456,  0.0231,  ..., -0.0249, -0.0634, -0.0358]]]),\n  tensor([[[-0.3265,  0.7796, -0.8486,  ..., -0.2415, -0.0544,  1.2388],\n           [ 0.8846, -0.0268, -0.3214,  ...,  0.5336, -0.7036, -1.6202],\n           [ 0.1849, -0.0824, -0.7020,  ..., -0.8908, -0.1001,  0.7738],\n           ...,\n           [ 1.4154,  0.1376,  0.1987,  ..., -0.6051, -0.3726,  0.3278],\n           [ 0.1159,  0.3690, -0.2104,  ..., -0.2336, -0.1170,  0.1151],\n           [ 0.0430,  0.0962, -0.0180,  ..., -0.0372, -0.0545,  0.0391]]]),\n  tensor([[[-0.0130,  0.6184, -0.3917,  ..., -0.3721, -0.2895,  1.3896],\n           [ 0.5188,  0.1178, -0.3327,  ...,  0.5222, -0.3539, -1.9068],\n           [ 0.0906,  0.0401, -0.6387,  ..., -0.7916, -0.2043,  1.1811],\n           ...,\n           [ 0.7623,  0.1608,  0.3415,  ..., -0.2797, -0.3516,  0.0500],\n           [ 0.0135,  0.0201, -0.0485,  ...,  0.0150, -0.0273,  0.0070],\n           [ 0.0166,  0.0117, -0.0412,  ...,  0.0443, -0.0142,  0.0160]]]),\n  tensor([[[-3.4760e-01,  6.1722e-01, -6.2986e-01,  ..., -5.5267e-02,\n            -4.7414e-01,  1.1962e+00],\n           [ 2.4667e-01, -1.1385e-01, -3.2224e-01,  ...,  3.9890e-01,\n            -4.0355e-01, -1.5206e+00],\n           [-1.5780e-01,  2.0670e-01, -3.2949e-01,  ..., -7.0685e-01,\n            -8.9301e-02,  1.3601e+00],\n           ...,\n           [ 3.1460e-01,  4.2031e-01,  1.2168e-01,  ..., -4.4048e-01,\n            -5.6069e-01, -1.8098e-01],\n           [ 4.6541e-02,  1.3745e-02, -3.7530e-02,  ...,  1.9264e-02,\n            -1.4171e-02, -4.5845e-03],\n           [ 4.5347e-02,  8.7523e-03, -3.7831e-02,  ...,  1.8386e-02,\n            -1.5910e-02, -1.1673e-03]]]),\n  tensor([[[-0.6674,  0.9458, -0.5036,  ..., -0.5302,  0.1874,  0.6336],\n           [ 0.3067, -0.0335,  0.0011,  ...,  0.1267, -0.3640, -0.9253],\n           [ 0.4349,  0.3408,  0.5464,  ..., -0.4371, -0.1396,  0.6499],\n           ...,\n           [ 0.2870,  0.5662, -0.0956,  ..., -0.5547, -0.4900, -0.2980],\n           [ 0.6253,  0.0615, -0.2790,  ...,  0.0038, -0.5781, -0.4948],\n           [ 0.6399,  0.0483, -0.2593,  ...,  0.0093, -0.5864, -0.4718]]])))"
     },
     "execution_count": 31,
     "metadata": {},
     "output_type": "execute_result"
    }
   ],
   "source": [
    "outputs.to_tuple()"
   ]
  },
  {
   "cell_type": "code",
   "execution_count": 32,
   "id": "executed-protocol",
   "metadata": {},
   "outputs": [
    {
     "name": "stdout",
     "output_type": "stream",
     "text": [
      "3\n",
      "torch.Size([1, 25, 768])\n",
      "torch.Size([1, 768])\n",
      "13\n"
     ]
    }
   ],
   "source": [
    "print(len(outputs))\n",
    "for i in range(len(outputs)):\n",
    "    try:\n",
    "        print(outputs[i].shape)\n",
    "    except:\n",
    "        print(len(outputs[i]))"
   ]
  },
  {
   "cell_type": "markdown",
   "id": "continent-wright",
   "metadata": {},
   "source": [
    "Here:\n",
    "* outputs[0] contains the output representation of each token\n",
    "* outputs[1] is representation of the first token (after being put through an additional layer)\n",
    "* outputs[2] is a a tuple.  Each element is the hidden layer at depth n.  If we want the last layer then we need outputs[2][-1]\n"
   ]
  },
  {
   "cell_type": "code",
   "execution_count": 33,
   "id": "royal-kazakhstan",
   "metadata": {},
   "outputs": [
    {
     "data": {
      "text/plain": "tensor([[[-0.6674,  0.9458, -0.5036,  ..., -0.5302,  0.1874,  0.6336],\n         [ 0.3067, -0.0335,  0.0011,  ...,  0.1267, -0.3640, -0.9253],\n         [ 0.4349,  0.3408,  0.5464,  ..., -0.4371, -0.1396,  0.6499],\n         ...,\n         [ 0.2870,  0.5662, -0.0956,  ..., -0.5547, -0.4900, -0.2980],\n         [ 0.6253,  0.0615, -0.2790,  ...,  0.0038, -0.5781, -0.4948],\n         [ 0.6399,  0.0483, -0.2593,  ...,  0.0093, -0.5864, -0.4718]]])"
     },
     "execution_count": 33,
     "metadata": {},
     "output_type": "execute_result"
    }
   ],
   "source": [
    "#outputs[2][-1] is the last hidden layer also output as outputs[0]\n",
    "outputs[2][-1]"
   ]
  },
  {
   "cell_type": "code",
   "execution_count": 34,
   "id": "tutorial-category",
   "metadata": {},
   "outputs": [
    {
     "data": {
      "text/plain": "tensor([[[-3.4760e-01,  6.1722e-01, -6.2986e-01,  ..., -5.5267e-02,\n          -4.7414e-01,  1.1962e+00],\n         [ 2.4667e-01, -1.1385e-01, -3.2224e-01,  ...,  3.9890e-01,\n          -4.0355e-01, -1.5206e+00],\n         [-1.5780e-01,  2.0670e-01, -3.2949e-01,  ..., -7.0685e-01,\n          -8.9301e-02,  1.3601e+00],\n         ...,\n         [ 3.1460e-01,  4.2031e-01,  1.2168e-01,  ..., -4.4048e-01,\n          -5.6069e-01, -1.8098e-01],\n         [ 4.6541e-02,  1.3745e-02, -3.7530e-02,  ...,  1.9264e-02,\n          -1.4171e-02, -4.5845e-03],\n         [ 4.5347e-02,  8.7523e-03, -3.7831e-02,  ...,  1.8386e-02,\n          -1.5910e-02, -1.1673e-03]]])"
     },
     "execution_count": 34,
     "metadata": {},
     "output_type": "execute_result"
    }
   ],
   "source": [
    "#so if you want the penultimate hidden layer you need outputs[2][-2]\n",
    "outputs[2][-2]"
   ]
  },
  {
   "cell_type": "code",
   "execution_count": 51,
   "outputs": [
    {
     "data": {
      "text/plain": "tensor([[[-0.6674,  0.9458, -0.5036,  ..., -0.5302,  0.1874,  0.6336],\n         [ 0.3067, -0.0335,  0.0011,  ...,  0.1267, -0.3640, -0.9253],\n         [ 0.4349,  0.3408,  0.5464,  ..., -0.4371, -0.1396,  0.6499],\n         ...,\n         [ 0.2870,  0.5662, -0.0956,  ..., -0.5547, -0.4900, -0.2980],\n         [ 0.6253,  0.0615, -0.2790,  ...,  0.0038, -0.5781, -0.4948],\n         [ 0.6399,  0.0483, -0.2593,  ...,  0.0093, -0.5864, -0.4718]]])"
     },
     "execution_count": 51,
     "metadata": {},
     "output_type": "execute_result"
    }
   ],
   "source": [
    "outputs[0]"
   ],
   "metadata": {
    "collapsed": false,
    "pycharm": {
     "name": "#%%\n"
    }
   }
  },
  {
   "cell_type": "code",
   "execution_count": 52,
   "outputs": [
    {
     "data": {
      "text/plain": "tensor([[-0.6674,  0.9458, -0.5036,  ..., -0.5302,  0.1874,  0.6336],\n        [ 0.3067, -0.0335,  0.0011,  ...,  0.1267, -0.3640, -0.9253],\n        [ 0.4349,  0.3408,  0.5464,  ..., -0.4371, -0.1396,  0.6499],\n        ...,\n        [ 0.2870,  0.5662, -0.0956,  ..., -0.5547, -0.4900, -0.2980],\n        [ 0.6253,  0.0615, -0.2790,  ...,  0.0038, -0.5781, -0.4948],\n        [ 0.6399,  0.0483, -0.2593,  ...,  0.0093, -0.5864, -0.4718]])"
     },
     "execution_count": 52,
     "metadata": {},
     "output_type": "execute_result"
    }
   ],
   "source": [
    "outputs[0][0]"
   ],
   "metadata": {
    "collapsed": false,
    "pycharm": {
     "name": "#%%\n"
    }
   }
  },
  {
   "cell_type": "code",
   "execution_count": 39,
   "id": "exotic-grant",
   "metadata": {},
   "outputs": [
    {
     "data": {
      "text/plain": "tensor([-6.6741e-01,  9.4580e-01, -5.0362e-01,  7.6330e-02, -1.2090e+00,\n         1.2795e-01,  9.3474e-01,  1.1574e+00, -1.9790e-01,  9.3847e-02,\n        -7.1620e-01, -4.7296e-01, -2.1994e-01,  1.0530e+00,  3.7979e-01,\n        -1.6461e-01, -2.0667e-01,  1.0136e+00,  3.5675e-01, -2.8986e-02,\n         1.4404e-01, -2.0457e-01, -1.0594e-01,  9.7713e-03,  9.4189e-03,\n        -5.7983e-01, -1.4214e-01, -4.3860e-01,  6.5073e-01, -4.3919e-01,\n        -2.3003e-01,  1.1294e+00, -5.0243e-01, -1.7202e-01,  3.5664e-01,\n        -6.0078e-02,  1.5558e-01, -5.6304e-02,  3.3006e-01,  1.5681e-01,\n        -1.7278e-01,  1.3906e-01,  5.0966e-01,  3.3143e-01, -1.8095e-01,\n        -3.5913e-01, -1.8010e+00, -2.8397e-01, -3.3440e-01, -3.4394e-01,\n         1.7959e-01, -6.9788e-02,  8.8394e-01,  4.0845e-01, -3.3890e-01,\n         1.4026e+00, -9.4726e-01,  3.8425e-01,  1.7327e-01,  9.4517e-01,\n        -6.2579e-02, -7.5702e-02, -6.6680e-01, -4.6924e-01,  4.4900e-01,\n         9.2037e-01, -2.3056e-01,  8.5764e-01, -8.6860e-01,  4.7084e-01,\n        -1.1902e+00, -3.2860e-01,  1.0397e+00,  3.0817e-01, -4.8567e-01,\n         1.4067e-01, -2.4033e-02, -5.6978e-02, -1.6964e-01, -7.0868e-01,\n        -3.0032e-01,  1.1778e+00,  6.9872e-02,  1.9421e-01,  2.9240e-01,\n         4.3828e-01, -7.6978e-01, -6.2159e-01,  2.8799e-02,  9.7471e-01,\n        -5.9622e-01, -1.1416e-01,  9.1988e-02,  3.6834e-01,  1.5232e-01,\n        -4.7043e-01,  2.3515e-01, -2.9097e-01,  8.8956e-02,  1.0576e+00,\n         1.7939e-01,  1.2377e-01,  8.2968e-01, -5.0684e-01,  5.6706e-01,\n        -2.0957e-01, -5.6403e-01, -6.9695e-02,  6.7254e-01, -2.4246e+00,\n         3.7075e-01,  6.2553e-02, -1.3087e+00, -2.4063e-01, -1.6477e-01,\n         9.4754e-01,  6.8219e-01, -1.6098e-01,  3.2634e-01, -2.1106e-01,\n        -2.9645e-01,  6.7521e-02, -7.2849e-01, -1.1178e-01, -8.2746e-01,\n         6.5379e-01,  4.0921e-01, -2.2107e-01,  9.0913e-01,  4.3992e-01,\n        -1.8877e-01,  8.6647e-01,  2.8881e-01, -4.5078e-01, -1.0170e-01,\n        -4.3986e-01,  4.8777e-01,  6.0497e-01,  3.0857e-02,  4.7059e-02,\n        -3.4385e-01, -5.2550e-01, -2.4673e+00, -2.2917e-01,  6.9254e-01,\n         3.8068e-01, -3.6974e-01, -2.2660e-01,  6.1755e-01,  2.4143e-01,\n         2.0336e-01, -8.8882e-01,  4.0455e-01,  3.5941e-01, -3.4577e-01,\n        -4.0526e-01,  5.4673e-02, -5.1193e-01,  1.1819e+00,  3.8866e-01,\n        -1.9277e-01, -3.1344e-01,  2.3146e-01,  5.0904e-01, -8.8234e-01,\n         5.4669e-01,  9.3161e-01,  5.3568e-02, -2.2892e-01,  5.2604e-01,\n        -1.1699e+00,  2.1122e-02,  7.7598e-01, -3.2805e-01,  6.3798e-01,\n        -2.9925e-01,  4.5614e-01,  4.7945e-01,  3.1654e-01, -3.1910e-01,\n        -3.1567e-01,  5.7835e-01,  1.8409e-01,  3.1043e-01,  5.1138e-01,\n        -2.9181e-01,  7.0780e-01, -3.5996e-01, -1.2918e-01,  4.2341e-01,\n        -7.9498e-02, -1.3966e-01,  4.0272e-01,  1.9161e-01,  8.5323e-01,\n        -2.2554e-02,  5.6472e-01, -6.1660e-01,  3.4306e-01,  8.2930e-01,\n        -1.0811e-01, -1.5321e-01, -3.0524e-01,  4.3786e-01, -5.1105e-01,\n         3.3641e+00,  4.3857e-01,  1.6934e-01,  8.6702e-01,  2.9070e-01,\n         3.2152e-01,  3.0186e-01,  8.0267e-01, -3.6412e-01,  3.2114e-01,\n        -8.3257e-02, -8.9604e-02,  3.4259e-01, -5.1924e-01, -2.4413e-01,\n        -1.4795e-01,  1.6816e-01, -3.5884e-01,  5.3054e-01,  4.4307e-01,\n         4.1894e-01,  1.0622e-01,  2.4817e-01, -4.5394e-01, -7.2784e-01,\n         9.7641e-01, -7.7481e-02,  5.3338e-01,  4.0313e-01, -1.2049e+00,\n        -6.8491e-01, -6.3579e-01, -6.6552e-01, -4.1859e-01, -3.3715e-01,\n         3.0639e-01,  1.6492e-01, -5.7925e-01, -3.7338e-01, -3.1983e-01,\n         2.1585e-01,  3.6299e-01,  1.4849e-01,  2.6189e-01,  2.3880e-01,\n         2.1548e-01, -6.8556e-01,  6.2622e-01, -9.5585e-01, -5.1477e-02,\n        -2.0382e-01, -8.3096e-02,  1.8789e-01, -8.5980e-03, -1.2277e-01,\n        -1.8059e-01, -2.9426e-01,  5.5130e-01,  7.6096e-02, -1.0988e+00,\n        -1.1064e+00, -2.5757e-01,  7.6243e-02, -2.5939e-01, -3.3558e-01,\n         1.9520e-01, -4.7766e-01, -1.1611e-01, -2.8115e+00,  5.5441e-01,\n        -1.8944e-01, -1.5243e-01,  7.2636e-02, -7.4335e-01,  7.3357e-01,\n         5.5081e-01,  8.9753e-01, -6.3250e-01,  3.3272e-01, -9.9308e-01,\n         1.3286e-03,  6.2839e-01, -2.5147e-01,  2.5518e-01, -2.6105e-01,\n        -3.3124e-01, -5.8868e-01,  2.7249e-02,  2.0748e-01, -2.2294e-01,\n        -1.7389e-01, -1.5892e-01, -3.8122e-01, -2.0711e-01, -3.4736e-02,\n        -2.5498e-01, -1.7735e-01, -9.3978e-01,  1.7215e-01, -7.8436e-01,\n         1.0991e-01, -1.1592e-01,  9.9066e-02, -1.1170e+00,  4.3972e-01,\n         1.9943e-01, -3.1572e-01,  2.8662e-01, -8.7572e-02,  7.9462e-01,\n        -3.5997e-01, -1.2174e+00,  5.2946e-01, -5.2777e-01, -5.4497e-01,\n        -5.6919e-01,  7.4264e-01,  2.1747e-01,  2.8808e-01,  7.6460e-01,\n        -4.8651e-02,  1.2436e-01,  3.1120e-02, -4.7701e-01,  3.4804e-01,\n        -2.5628e-01, -2.4857e-01,  6.4914e-01,  4.9078e-01,  1.5116e-01,\n        -8.7774e-02, -3.9235e-01,  3.7593e-01, -3.2711e-01,  2.5793e-01,\n         1.8958e-01, -4.4051e-01, -8.9796e-01,  9.6463e-02,  1.4170e-01,\n         2.1279e-01,  3.9481e-01, -3.2454e-01, -7.8815e-01,  2.5107e-02,\n         9.3080e-02,  5.9011e-01,  7.7913e-01, -2.7237e-01, -4.7161e-01,\n        -1.2207e-01,  5.3881e-02,  2.3138e-01, -4.1126e-01,  1.3383e-01,\n         1.1416e+00,  1.5800e-01, -2.0349e-01, -3.0697e-01,  1.0403e+00,\n        -7.1395e-02,  2.9326e-01, -1.2865e-01,  1.1477e+00, -2.6029e-01,\n         4.6532e-01,  1.5326e-01,  8.1022e-01, -1.4058e+00, -1.5984e-01,\n        -4.0350e-01, -1.2381e-01,  6.3821e-01,  1.7226e-01,  7.5017e-01,\n        -6.9502e-01, -6.6469e-01, -2.6254e-02, -5.6596e-01, -3.1603e-01,\n         4.6462e-01,  6.0223e-01,  3.6813e-01, -2.0499e-01, -1.7435e-01,\n        -1.2028e+00,  5.9364e-01,  5.6916e-01,  8.5300e-02, -2.0547e-01,\n         2.5087e-01, -8.8546e-01, -6.8360e-01, -3.3006e-01,  5.4998e-01,\n         6.3073e-01,  6.9859e-01, -2.6504e-01,  4.2360e-02,  7.3518e-01,\n        -3.5852e-01,  6.2170e-01, -5.7687e-01, -2.9432e-01, -7.5390e-01,\n         2.0893e-01,  1.6238e-01, -2.9089e-01, -6.4753e-02, -1.2353e-01,\n         1.7404e-01, -1.6941e-01,  6.2851e-01, -1.8589e-01, -1.6391e-02,\n        -6.4829e-02,  1.8691e-01,  7.9685e-01,  3.1080e-01, -1.2678e-01,\n         8.4880e-01,  4.1906e-01,  8.2147e-01,  5.0436e-01,  3.8134e-01,\n         1.9335e-01, -8.5362e-01, -4.7178e-01, -1.0232e-01,  4.9575e-01,\n        -4.3223e-01, -4.1342e-01, -3.1547e-01, -3.0003e-01, -4.3377e-01,\n        -3.7583e-01, -6.3916e-01,  1.9552e-02, -2.4496e-01, -2.0752e-02,\n         1.1802e-01,  1.3051e-01, -3.5114e-01,  4.0449e-01,  1.1090e-01,\n        -5.5814e-01,  4.9496e-01,  4.0182e-02,  8.8175e-01,  3.3322e-01,\n        -1.9028e-01, -6.8003e-01,  2.1375e-02, -5.3601e-01, -5.9620e-01,\n        -1.7686e-01, -9.6230e-01,  1.5528e-01,  5.2032e-02,  4.5542e-02,\n         2.7541e-01, -2.4839e-02, -5.8453e-01, -1.3960e-01,  3.0781e-01,\n        -1.0028e+00, -1.2819e-01,  6.2772e-01, -4.0983e-01, -3.0886e-03,\n        -2.2511e-01, -7.6442e-01,  6.8231e-01, -3.9717e-01,  2.0950e-01,\n        -3.5221e-01, -5.3640e-01,  4.2392e-01, -1.2159e-01,  1.9132e-01,\n         3.6890e-01,  9.2833e-02, -6.1476e-01, -3.9579e-01, -2.7676e-02,\n        -3.1010e-01,  5.1340e-01,  7.8428e-02, -1.9585e-01, -2.5119e-01,\n        -3.7082e-01, -7.8127e-01,  4.6326e-01, -2.2708e-01,  6.2857e-01,\n        -9.4253e-02, -8.6835e-01, -9.8331e-01, -6.1424e-01, -7.0709e-02,\n        -1.8560e-02,  8.2780e-01, -1.0939e+00,  1.2963e+00,  4.6576e-01,\n        -6.6037e-02,  6.2975e-01,  6.0202e-01, -8.4167e-01,  1.2952e-01,\n         6.4952e-01, -4.4175e-01,  5.0394e-01,  1.3314e-01, -1.9608e-01,\n        -5.2173e-02,  8.4321e-02, -1.9377e-01, -5.8389e-01,  6.9108e-01,\n        -3.5703e-02, -2.2884e-01, -1.1306e-02, -5.4155e-01, -5.3724e-02,\n        -3.5426e-01, -5.1736e-01, -6.8069e-01,  4.4947e-01, -5.4171e-01,\n        -6.1554e-01,  7.9103e-01, -1.0076e+00, -7.1541e-01,  3.4459e-01,\n         2.6330e-01,  5.4404e-02, -4.1122e-01,  3.7553e-01, -5.5839e-01,\n         5.0389e-01, -1.3331e-02,  3.5283e-02,  5.5120e-02,  2.4099e-01,\n         5.3178e-01, -4.0029e-01, -4.5434e-01, -1.3725e-01,  4.5073e-01,\n         1.5819e-02, -6.4217e-01, -2.6076e-01, -2.0190e-01, -3.8685e-01,\n        -9.2641e-01, -8.9073e-01,  9.7078e-01, -4.9514e-01,  2.3998e-01,\n         1.1570e-02, -4.3794e-02, -3.6548e-01, -8.2815e-02,  2.5287e-01,\n        -2.2564e-01,  5.5260e-01,  2.7756e-01, -3.1936e-01,  1.2364e-01,\n         1.2992e+00,  8.2253e-01, -1.6216e-01, -2.8127e-01, -1.9145e-01,\n        -4.0202e-01, -1.7151e-01,  1.5738e-01, -1.2331e-01,  7.0661e-01,\n        -1.0176e+00, -1.1714e-01, -1.2592e+00,  1.3901e+00,  4.4673e-01,\n         4.7428e-01, -4.8312e-01,  8.7902e-01, -5.2070e-01, -9.9674e-02,\n        -1.1396e-01, -5.2742e-01,  3.7698e-01, -6.5867e-01, -3.8330e-01,\n        -3.1016e-01,  4.4299e-01,  7.5155e-01,  4.3820e-01, -5.3230e-01,\n        -8.0889e-02, -4.8584e-01,  1.9351e-02, -8.1618e-01,  1.1474e+00,\n         3.5501e-01,  3.4397e-01,  7.0017e-01,  3.0013e-02, -2.1908e-01,\n         1.1023e-01,  3.9017e-01,  6.8644e-01, -4.3876e-01,  4.7409e-01,\n        -1.1305e-01,  1.0065e+00,  1.7304e-01,  4.2045e-02,  2.2059e-01,\n        -9.0484e-01, -3.3388e-01,  1.0922e+00, -8.3940e-02, -9.9888e-01,\n         6.6390e-01, -1.6283e-01,  1.5321e-01,  7.4428e-01, -3.2533e-01,\n        -5.3569e-01,  8.1608e-02, -1.8913e-02,  3.4249e-01, -9.9655e-02,\n        -9.9712e-01,  1.8448e-01, -5.4033e-01, -1.7282e-01,  8.8373e-02,\n        -9.2203e-02, -1.5629e-01,  7.7086e-01, -4.3689e-02,  1.0868e+00,\n         2.2141e-01, -5.4605e-01, -6.8471e-01,  6.5065e-02, -2.3383e-01,\n         9.0462e-01,  1.1526e-01, -6.2660e-01, -6.6228e-03,  9.3953e-02,\n         5.5547e-01, -2.2430e-01,  3.7673e-01, -8.4830e-02,  5.5365e-01,\n        -9.6829e-02,  1.5077e-01, -2.3043e+00, -5.3875e-01, -3.5429e-01,\n         3.7661e-01,  3.3981e-01,  9.5326e-01, -3.2908e-01,  8.1280e-02,\n         1.1020e-01, -3.5380e-01,  5.7937e-02,  1.5098e-01,  5.4818e-01,\n         2.9483e-01,  2.5742e-02,  8.9497e-02,  5.5480e-01, -2.5026e-01,\n        -2.1588e-01,  4.8700e-02, -5.5741e-01, -2.7332e-01,  2.0498e-01,\n        -1.9226e-01, -7.1594e-01,  4.5581e-01,  5.2864e-02, -2.0981e-01,\n         2.8480e-01,  1.1746e+00, -2.3350e-01,  7.1755e-01,  2.3455e-01,\n         2.9920e-01, -9.6465e-02, -2.3288e-01, -4.7658e-01,  7.0056e-02,\n         2.7475e-01, -2.9672e-01, -2.8575e-01,  5.8956e-02,  1.2950e-01,\n        -5.3878e-02, -2.9274e-01, -5.2540e-01,  6.6574e-01, -2.3546e-01,\n         1.1864e+00, -3.0109e-01,  1.3985e-01, -1.7385e-01, -6.6286e-01,\n        -3.6984e-01,  3.8112e-01, -6.5707e-02, -2.4742e-01,  9.9321e-02,\n        -3.9066e-01, -2.0028e-01,  2.0686e-01,  2.1707e-01, -3.9271e-01,\n        -3.0403e-01,  1.8488e-02, -2.2376e-01, -6.5105e-01, -8.9502e-02,\n        -5.7499e-02, -5.3365e-02, -4.5792e-01,  7.2859e-02,  1.3909e+00,\n         2.9599e-02, -2.6510e-01,  5.4750e-02,  2.9000e-01,  2.5214e-01,\n         8.9416e-01,  7.3908e-02, -6.8553e-02,  4.2690e-01, -4.8072e-01,\n         5.4342e-01,  4.5997e-01, -5.8937e+00, -7.6322e-01, -6.5320e-01,\n        -5.9052e-01,  7.6064e-01, -9.5550e-02,  2.8271e-01, -3.8772e-01,\n        -3.4043e-01,  1.7632e-01, -6.3767e-01, -8.6608e-02, -9.0863e-02,\n        -5.3022e-01,  1.8736e-01,  6.3362e-01])"
     },
     "execution_count": 39,
     "metadata": {},
     "output_type": "execute_result"
    }
   ],
   "source": [
    "outputs[0][0,0]"
   ]
  },
  {
   "cell_type": "code",
   "execution_count": 40,
   "outputs": [
    {
     "data": {
      "text/plain": "tensor([[-0.9920, -0.8534, -0.9981,  0.9898,  0.9694, -0.7778,  0.9918,  0.7435,\n         -0.9951, -1.0000, -0.9537,  0.9990,  0.9948,  0.9125,  0.9905, -0.9797,\n         -0.9501, -0.9055,  0.7429, -0.9396,  0.9539,  1.0000, -0.7118,  0.8053,\n          0.8925,  1.0000, -0.9784,  0.9881,  0.9908,  0.8765, -0.9697,  0.7592,\n         -0.9981, -0.6847, -0.9970, -0.9994,  0.9093, -0.9470, -0.6564, -0.6737,\n         -0.9759,  0.8515,  1.0000,  0.4217,  0.8609, -0.7738, -1.0000,  0.7504,\n         -0.9733,  0.9991,  0.9951,  0.9958,  0.8245,  0.9274,  0.9106, -0.8983,\n          0.6171,  0.6578, -0.7522, -0.9329, -0.8695,  0.8373, -0.9920, -0.9770,\n          0.9985,  0.9901, -0.7740, -0.8020, -0.7395,  0.4467,  0.9907,  0.7470,\n         -0.6924, -0.9460,  0.9862,  0.7678, -0.8415,  1.0000, -0.9650, -0.9968,\n          0.9861,  0.9893,  0.8187, -0.9405,  0.9565, -1.0000,  0.9414, -0.6060,\n         -0.9974,  0.7915,  0.9118, -0.7666,  0.9441,  0.8653, -0.8785, -0.9049,\n         -0.8647, -0.9939, -0.7791, -0.8847,  0.6838, -0.7547, -0.9171, -0.7626,\n          0.7974, -0.9089, -0.9127,  0.9330,  0.8373,  0.9413,  0.7347, -0.7677,\n          0.9071, -0.9925,  0.9362, -0.7880, -0.9977, -0.8618, -0.9973,  0.8958,\n         -0.8342, -0.7956,  0.9952, -0.7976,  0.8478, -0.7864, -0.9984, -1.0000,\n         -0.9598, -0.9045, -0.7693, -0.8251, -0.9955, -0.9902,  0.9385,  0.9900,\n          0.7818,  1.0000, -0.8784,  0.9820, -0.8444, -0.9638,  0.9604, -0.8807,\n          0.9772,  0.8863, -0.9577,  0.7125, -0.9123,  0.8488, -0.9688, -0.8415,\n         -0.9844, -0.9808, -0.7662,  0.9912, -0.8856, -0.9991, -0.7581, -0.7853,\n         -0.8826,  0.9685,  0.9713,  0.8696, -0.9014,  0.8728,  0.8884,  0.9016,\n         -0.9784, -0.7636,  0.8841, -0.8225, -0.9879, -0.9964, -0.8620,  0.8534,\n          0.9980,  0.9479,  0.7873,  0.9910, -0.7581,  0.9552, -0.9899,  0.9966,\n         -0.7570,  0.5980, -0.7977,  0.8375, -0.9794,  0.5972,  0.9890, -0.9660,\n         -0.9679, -0.7693, -0.8489, -0.9049, -0.9854,  0.8821, -0.7518, -0.7079,\n         -0.6682,  0.9754,  0.9996,  0.9721,  0.9171,  0.9500, -0.9908, -0.8700,\n          0.7582,  0.7664,  0.7310,  0.9992, -0.9316, -0.7278, -0.9734, -0.9959,\n          0.6740, -0.9737, -0.7451, -0.9224,  0.9654, -0.8308,  0.9702,  0.8731,\n         -0.9997, -0.9499,  0.8576, -0.8373,  0.8823, -0.7450,  0.6808,  0.9977,\n         -0.9323,  0.9893,  0.9728, -0.9950, -0.9247,  0.9822, -0.8109,  0.9878,\n         -0.9496,  0.9998,  0.9973,  0.9920, -0.9888, -0.9745, -0.9904, -0.9865,\n         -0.7125,  0.8473,  0.9979,  0.8981,  0.9016, -0.5928, -0.9488,  1.0000,\n         -0.3508, -0.9907, -0.1536, -0.8569, -0.9974,  0.9897,  0.7493,  0.9048,\n         -0.8930, -0.9627, -0.9920,  0.9959,  0.7362,  0.9997, -0.8934, -0.9988,\n         -0.9553, -0.9907,  0.6157, -0.7970, -0.9377,  0.4954, -0.9907,  0.8796,\n          0.8464,  0.9228, -0.9960,  1.0000,  1.0000,  0.9947,  0.9719,  0.9923,\n         -1.0000, -0.6040,  1.0000, -1.0000, -1.0000, -0.9882, -0.9459,  0.7377,\n         -1.0000, -0.6635, -0.6586, -0.9673,  0.9837,  0.9952,  1.0000, -1.0000,\n          0.9634,  0.9909, -0.8944,  0.9994, -0.9058,  0.9945,  0.8854,  0.8465,\n         -0.7271,  0.8456, -0.9985, -0.9951, -0.9732, -0.9846,  1.0000,  0.6920,\n         -0.9485, -0.9853,  0.8946, -0.7972,  0.6410, -0.9914, -0.7770,  0.9767,\n          0.9624,  0.7348,  0.7770, -0.9365,  0.8198,  0.6665,  0.8833,  0.8675,\n         -0.9828, -0.8991, -0.8155,  0.6827, -0.9729, -0.9920,  0.9961, -0.8314,\n          0.9971,  1.0000,  0.8267, -0.9900,  0.9614,  0.8303, -0.5444,  1.0000,\n          0.9586, -0.9967, -0.8382,  0.9182, -0.9399, -0.9588,  1.0000, -0.7798,\n         -0.9867, -0.9522,  0.9948, -0.9978,  1.0000, -0.9881, -0.9905,  0.9944,\n          0.9871, -0.9434, -0.8677,  0.7637, -0.9775,  0.7947, -0.9945,  0.9808,\n          0.9346, -0.6588,  0.9742, -0.9940, -0.7931,  0.7875, -0.9799, -0.7599,\n          0.9980,  0.9043, -0.7754,  0.6658, -0.7986, -0.3307, -0.9923,  0.9022,\n          1.0000, -0.8227,  0.9825, -0.9080, -0.6014,  0.6226,  0.9159,  0.9415,\n         -0.7960, -0.9544,  0.9823, -0.9982, -0.9964,  0.9476,  0.7602, -0.8235,\n          1.0000,  0.9153,  0.7399,  0.8395,  1.0000,  0.6071,  0.9156,  0.9986,\n          0.9961, -0.7822,  0.8492,  0.9883, -0.9988, -0.8254, -0.9167,  0.6585,\n         -0.9827, -0.6974, -0.9918,  0.9918,  0.9995,  0.8936,  0.7949,  0.9690,\n          1.0000, -0.4737,  0.9129, -0.9544,  0.9918, -1.0000, -0.9814, -0.8310,\n         -0.7560, -0.9961, -0.7968,  0.7888, -0.9939,  0.9953,  0.9693, -0.9999,\n         -0.9981, -0.8581,  0.9874,  0.6808, -0.9999, -0.9777, -0.8569,  0.9685,\n         -0.8493, -0.9911, -0.9130, -0.8793,  0.8907, -0.7382,  0.7991,  0.9954,\n         -0.3901, -0.9847, -0.7989, -0.6627, -0.9784,  0.9864, -0.9725, -0.9983,\n         -0.7337,  1.0000, -0.7928,  0.9937,  0.9591,  0.9633, -0.7954,  0.6570,\n          0.9967,  0.8362, -0.9908, -0.9979, -0.9884, -0.8979,  0.9179,  0.9442,\n          0.9760,  0.9389,  0.9495,  0.7606, -0.6604,  0.7730,  1.0000, -0.7958,\n         -0.8235, -0.8818, -0.6877, -0.8061, -0.9523,  1.0000,  0.7959,  0.9194,\n         -0.9978, -0.9934, -0.9967,  1.0000,  0.9537, -0.9557,  0.9569,  0.9294,\n         -0.6975,  0.9865, -0.7497, -0.7547,  0.7697,  0.6506,  0.9939, -0.8970,\n         -0.9937, -0.8969,  0.8814, -0.9936,  1.0000, -0.9344, -0.6993, -0.7738,\n         -0.9229,  0.9756,  0.5358, -0.9948, -0.8095,  0.7254,  0.9943,  0.8051,\n         -0.8519, -0.9900,  0.9966,  0.9833, -0.9981, -0.9795,  0.9948, -0.9960,\n          0.9296,  1.0000,  0.7765,  0.9189,  0.8173, -0.8967,  0.8645, -0.8983,\n          0.9594, -0.9923, -0.8647, -0.7741,  0.8819, -0.8473, -0.8005,  0.9022,\n          0.7010, -0.7941, -0.9262, -0.8005,  0.8966,  0.9892, -0.7817, -0.7274,\n          0.7499, -0.7966, -0.9950, -0.8403, -0.9028, -1.0000,  0.9396, -1.0000,\n          0.9699,  0.8453, -0.6894,  0.9600,  0.5040,  0.9370, -0.9575, -0.9969,\n         -0.7215,  0.9566, -0.8462, -0.9478, -0.9579,  0.8933, -0.7940,  0.6971,\n         -0.9605,  0.9234, -0.8134,  1.0000,  0.7787, -0.9636, -0.9995,  0.7418,\n         -0.8454,  1.0000, -0.9968, -0.9925,  0.8237, -0.9792, -0.9584,  0.7873,\n          0.6013, -0.9759, -0.9990,  0.9966,  0.9955, -0.7298,  0.9346, -0.8549,\n         -0.9028,  0.5879,  0.9959,  0.9975,  0.9175,  0.9933, -0.5805, -0.7641,\n          0.9928,  0.8033,  0.9636,  0.6838,  1.0000,  0.8710, -0.9845, -0.5421,\n         -0.9976, -0.8036, -0.9960,  0.8349,  0.8067,  0.9849, -0.8317,  0.9972,\n         -0.9945,  0.6559, -0.9616, -0.9538,  0.8082, -0.9879, -0.9956, -0.9971,\n          0.9609, -0.8136, -0.6031,  0.7689,  0.7609,  0.9146,  0.8965, -1.0000,\n          0.9870,  0.9008,  0.9970,  0.9928,  0.9553,  0.9059,  0.7928, -0.9978,\n         -0.9997, -0.8499, -0.7567,  0.9731,  0.9451,  0.9759,  0.8792, -0.7774,\n         -0.8035, -0.9736, -0.6400, -0.9987,  0.8177, -0.9809, -0.9993,  0.9907,\n          0.5525, -0.6939, -0.7384, -0.9846,  0.9975,  0.9612,  0.8804,  0.6486,\n          0.8515,  0.9766,  0.9948,  0.9970, -0.9918,  0.9730, -0.9867,  0.8941,\n          0.5481, -0.9805,  0.7424,  0.9325, -0.8293,  0.7965, -0.7773, -0.9986,\n          0.5689, -0.7585,  0.9433, -0.8013, -0.6182, -0.8715, -0.6922, -0.9015,\n         -0.9589,  0.8264,  0.9391,  0.9861,  0.9824, -0.6870, -0.9766, -0.7581,\n         -0.9901, -0.9811,  0.9974, -0.7849, -0.9224,  0.9792,  0.6575,  0.7181,\n          0.7718, -0.8658, -0.8692, -0.9748,  0.9783, -0.7775, -0.9432, -0.9298,\n          0.9382,  0.8087,  1.0000, -0.9894, -0.9983, -0.8440, -0.8447,  0.7453,\n         -0.9005, -1.0000,  0.8348, -0.9475,  0.9618, -0.9782,  0.9927, -0.9642,\n         -0.9994, -0.8306,  0.8780,  0.9822, -0.8960, -0.9683,  0.8213, -0.9105,\n          0.9998,  0.9668, -0.9696, -0.6894,  0.8576, -0.9900, -0.9290,  0.9831]])"
     },
     "execution_count": 40,
     "metadata": {},
     "output_type": "execute_result"
    }
   ],
   "source": [
    "outputs[1]"
   ],
   "metadata": {
    "collapsed": false,
    "pycharm": {
     "name": "#%%\n"
    }
   }
  },
  {
   "cell_type": "markdown",
   "id": "exposed-humor",
   "metadata": {},
   "source": [
    "### Exercise 2\n",
    "* Encode each sentence using the output representation for its CLS token - note that you do not need to mask the CLS token.  We are just interested in the output layer embedding for this token.  You can use outputs[0][0] or outputs[1] as a representation of the CLS token - but you will get different results as outputs[1] as gone through an additional layer (trained for next sentence prediction during fine-tuning and classification IF the model has been fine-tuned).\n",
    "* Use cosine similarity to determine all pairs similarities for the sentences.\n",
    "* Identify the 10 most similar pairs of sentences using this sentence encoding"
   ]
  },
  {
   "cell_type": "code",
   "execution_count": 41,
   "outputs": [
    {
     "data": {
      "text/plain": "torch.Size([1, 25, 768])"
     },
     "execution_count": 41,
     "metadata": {},
     "output_type": "execute_result"
    }
   ],
   "source": [
    "encoded_layers.size()"
   ],
   "metadata": {
    "collapsed": false,
    "pycharm": {
     "name": "#%%\n"
    }
   }
  },
  {
   "cell_type": "code",
   "execution_count": 117,
   "id": "unusual-transsexual",
   "metadata": {},
   "outputs": [
    {
     "name": "stdout",
     "output_type": "stream",
     "text": [
      "tensor([-6.6741e-01,  9.4580e-01, -5.0362e-01,  7.6330e-02, -1.2090e+00,\n",
      "         1.2795e-01,  9.3474e-01,  1.1574e+00, -1.9790e-01,  9.3847e-02,\n",
      "        -7.1620e-01, -4.7296e-01, -2.1994e-01,  1.0530e+00,  3.7979e-01,\n",
      "        -1.6461e-01, -2.0667e-01,  1.0136e+00,  3.5675e-01, -2.8986e-02,\n",
      "         1.4404e-01, -2.0457e-01, -1.0594e-01,  9.7713e-03,  9.4189e-03,\n",
      "        -5.7983e-01, -1.4214e-01, -4.3860e-01,  6.5073e-01, -4.3919e-01,\n",
      "        -2.3003e-01,  1.1294e+00, -5.0243e-01, -1.7202e-01,  3.5664e-01,\n",
      "        -6.0078e-02,  1.5558e-01, -5.6304e-02,  3.3006e-01,  1.5681e-01,\n",
      "        -1.7278e-01,  1.3906e-01,  5.0966e-01,  3.3143e-01, -1.8095e-01,\n",
      "        -3.5913e-01, -1.8010e+00, -2.8397e-01, -3.3440e-01, -3.4394e-01,\n",
      "         1.7959e-01, -6.9788e-02,  8.8394e-01,  4.0845e-01, -3.3890e-01,\n",
      "         1.4026e+00, -9.4726e-01,  3.8425e-01,  1.7327e-01,  9.4517e-01,\n",
      "        -6.2579e-02, -7.5702e-02, -6.6680e-01, -4.6924e-01,  4.4900e-01,\n",
      "         9.2037e-01, -2.3056e-01,  8.5764e-01, -8.6860e-01,  4.7084e-01,\n",
      "        -1.1902e+00, -3.2860e-01,  1.0397e+00,  3.0817e-01, -4.8567e-01,\n",
      "         1.4067e-01, -2.4033e-02, -5.6978e-02, -1.6964e-01, -7.0868e-01,\n",
      "        -3.0032e-01,  1.1778e+00,  6.9872e-02,  1.9421e-01,  2.9240e-01,\n",
      "         4.3828e-01, -7.6978e-01, -6.2159e-01,  2.8799e-02,  9.7471e-01,\n",
      "        -5.9622e-01, -1.1416e-01,  9.1988e-02,  3.6834e-01,  1.5232e-01,\n",
      "        -4.7043e-01,  2.3515e-01, -2.9097e-01,  8.8956e-02,  1.0576e+00,\n",
      "         1.7939e-01,  1.2377e-01,  8.2968e-01, -5.0684e-01,  5.6706e-01,\n",
      "        -2.0957e-01, -5.6403e-01, -6.9695e-02,  6.7254e-01, -2.4246e+00,\n",
      "         3.7075e-01,  6.2553e-02, -1.3087e+00, -2.4063e-01, -1.6477e-01,\n",
      "         9.4754e-01,  6.8219e-01, -1.6098e-01,  3.2634e-01, -2.1106e-01,\n",
      "        -2.9645e-01,  6.7521e-02, -7.2849e-01, -1.1178e-01, -8.2746e-01,\n",
      "         6.5379e-01,  4.0921e-01, -2.2107e-01,  9.0913e-01,  4.3992e-01,\n",
      "        -1.8877e-01,  8.6647e-01,  2.8881e-01, -4.5078e-01, -1.0170e-01,\n",
      "        -4.3986e-01,  4.8777e-01,  6.0497e-01,  3.0857e-02,  4.7059e-02,\n",
      "        -3.4385e-01, -5.2550e-01, -2.4673e+00, -2.2917e-01,  6.9254e-01,\n",
      "         3.8068e-01, -3.6974e-01, -2.2660e-01,  6.1755e-01,  2.4143e-01,\n",
      "         2.0336e-01, -8.8882e-01,  4.0455e-01,  3.5941e-01, -3.4577e-01,\n",
      "        -4.0526e-01,  5.4673e-02, -5.1193e-01,  1.1819e+00,  3.8866e-01,\n",
      "        -1.9277e-01, -3.1344e-01,  2.3146e-01,  5.0904e-01, -8.8234e-01,\n",
      "         5.4669e-01,  9.3161e-01,  5.3568e-02, -2.2892e-01,  5.2604e-01,\n",
      "        -1.1699e+00,  2.1122e-02,  7.7598e-01, -3.2805e-01,  6.3798e-01,\n",
      "        -2.9925e-01,  4.5614e-01,  4.7945e-01,  3.1654e-01, -3.1910e-01,\n",
      "        -3.1567e-01,  5.7835e-01,  1.8409e-01,  3.1043e-01,  5.1138e-01,\n",
      "        -2.9181e-01,  7.0780e-01, -3.5996e-01, -1.2918e-01,  4.2341e-01,\n",
      "        -7.9498e-02, -1.3966e-01,  4.0272e-01,  1.9161e-01,  8.5323e-01,\n",
      "        -2.2554e-02,  5.6472e-01, -6.1660e-01,  3.4306e-01,  8.2930e-01,\n",
      "        -1.0811e-01, -1.5321e-01, -3.0524e-01,  4.3786e-01, -5.1105e-01,\n",
      "         3.3641e+00,  4.3857e-01,  1.6934e-01,  8.6702e-01,  2.9070e-01,\n",
      "         3.2152e-01,  3.0186e-01,  8.0267e-01, -3.6412e-01,  3.2114e-01,\n",
      "        -8.3257e-02, -8.9604e-02,  3.4259e-01, -5.1924e-01, -2.4413e-01,\n",
      "        -1.4795e-01,  1.6816e-01, -3.5884e-01,  5.3054e-01,  4.4307e-01,\n",
      "         4.1894e-01,  1.0622e-01,  2.4817e-01, -4.5394e-01, -7.2784e-01,\n",
      "         9.7641e-01, -7.7481e-02,  5.3338e-01,  4.0313e-01, -1.2049e+00,\n",
      "        -6.8491e-01, -6.3579e-01, -6.6552e-01, -4.1859e-01, -3.3715e-01,\n",
      "         3.0639e-01,  1.6492e-01, -5.7925e-01, -3.7338e-01, -3.1983e-01,\n",
      "         2.1585e-01,  3.6299e-01,  1.4849e-01,  2.6189e-01,  2.3880e-01,\n",
      "         2.1548e-01, -6.8556e-01,  6.2622e-01, -9.5585e-01, -5.1477e-02,\n",
      "        -2.0382e-01, -8.3096e-02,  1.8789e-01, -8.5980e-03, -1.2277e-01,\n",
      "        -1.8059e-01, -2.9426e-01,  5.5130e-01,  7.6096e-02, -1.0988e+00,\n",
      "        -1.1064e+00, -2.5757e-01,  7.6243e-02, -2.5939e-01, -3.3558e-01,\n",
      "         1.9520e-01, -4.7766e-01, -1.1611e-01, -2.8115e+00,  5.5441e-01,\n",
      "        -1.8944e-01, -1.5243e-01,  7.2636e-02, -7.4335e-01,  7.3357e-01,\n",
      "         5.5081e-01,  8.9753e-01, -6.3250e-01,  3.3272e-01, -9.9308e-01,\n",
      "         1.3286e-03,  6.2839e-01, -2.5147e-01,  2.5518e-01, -2.6105e-01,\n",
      "        -3.3124e-01, -5.8868e-01,  2.7249e-02,  2.0748e-01, -2.2294e-01,\n",
      "        -1.7389e-01, -1.5892e-01, -3.8122e-01, -2.0711e-01, -3.4736e-02,\n",
      "        -2.5498e-01, -1.7735e-01, -9.3978e-01,  1.7215e-01, -7.8436e-01,\n",
      "         1.0991e-01, -1.1592e-01,  9.9066e-02, -1.1170e+00,  4.3972e-01,\n",
      "         1.9943e-01, -3.1572e-01,  2.8662e-01, -8.7572e-02,  7.9462e-01,\n",
      "        -3.5997e-01, -1.2174e+00,  5.2946e-01, -5.2777e-01, -5.4497e-01,\n",
      "        -5.6919e-01,  7.4264e-01,  2.1747e-01,  2.8808e-01,  7.6460e-01,\n",
      "        -4.8651e-02,  1.2436e-01,  3.1120e-02, -4.7701e-01,  3.4804e-01,\n",
      "        -2.5628e-01, -2.4857e-01,  6.4914e-01,  4.9078e-01,  1.5116e-01,\n",
      "        -8.7774e-02, -3.9235e-01,  3.7593e-01, -3.2711e-01,  2.5793e-01,\n",
      "         1.8958e-01, -4.4051e-01, -8.9796e-01,  9.6463e-02,  1.4170e-01,\n",
      "         2.1279e-01,  3.9481e-01, -3.2454e-01, -7.8815e-01,  2.5107e-02,\n",
      "         9.3080e-02,  5.9011e-01,  7.7913e-01, -2.7237e-01, -4.7161e-01,\n",
      "        -1.2207e-01,  5.3881e-02,  2.3138e-01, -4.1126e-01,  1.3383e-01,\n",
      "         1.1416e+00,  1.5800e-01, -2.0349e-01, -3.0697e-01,  1.0403e+00,\n",
      "        -7.1395e-02,  2.9326e-01, -1.2865e-01,  1.1477e+00, -2.6029e-01,\n",
      "         4.6532e-01,  1.5326e-01,  8.1022e-01, -1.4058e+00, -1.5984e-01,\n",
      "        -4.0350e-01, -1.2381e-01,  6.3821e-01,  1.7226e-01,  7.5017e-01,\n",
      "        -6.9502e-01, -6.6469e-01, -2.6254e-02, -5.6596e-01, -3.1603e-01,\n",
      "         4.6462e-01,  6.0223e-01,  3.6813e-01, -2.0499e-01, -1.7435e-01,\n",
      "        -1.2028e+00,  5.9364e-01,  5.6916e-01,  8.5300e-02, -2.0547e-01,\n",
      "         2.5087e-01, -8.8546e-01, -6.8360e-01, -3.3006e-01,  5.4998e-01,\n",
      "         6.3073e-01,  6.9859e-01, -2.6504e-01,  4.2360e-02,  7.3518e-01,\n",
      "        -3.5852e-01,  6.2170e-01, -5.7687e-01, -2.9432e-01, -7.5390e-01,\n",
      "         2.0893e-01,  1.6238e-01, -2.9089e-01, -6.4753e-02, -1.2353e-01,\n",
      "         1.7404e-01, -1.6941e-01,  6.2851e-01, -1.8589e-01, -1.6391e-02,\n",
      "        -6.4829e-02,  1.8691e-01,  7.9685e-01,  3.1080e-01, -1.2678e-01,\n",
      "         8.4880e-01,  4.1906e-01,  8.2147e-01,  5.0436e-01,  3.8134e-01,\n",
      "         1.9335e-01, -8.5362e-01, -4.7178e-01, -1.0232e-01,  4.9575e-01,\n",
      "        -4.3223e-01, -4.1342e-01, -3.1547e-01, -3.0003e-01, -4.3377e-01,\n",
      "        -3.7583e-01, -6.3916e-01,  1.9552e-02, -2.4496e-01, -2.0752e-02,\n",
      "         1.1802e-01,  1.3051e-01, -3.5114e-01,  4.0449e-01,  1.1090e-01,\n",
      "        -5.5814e-01,  4.9496e-01,  4.0182e-02,  8.8175e-01,  3.3322e-01,\n",
      "        -1.9028e-01, -6.8003e-01,  2.1375e-02, -5.3601e-01, -5.9620e-01,\n",
      "        -1.7686e-01, -9.6230e-01,  1.5528e-01,  5.2032e-02,  4.5542e-02,\n",
      "         2.7541e-01, -2.4839e-02, -5.8453e-01, -1.3960e-01,  3.0781e-01,\n",
      "        -1.0028e+00, -1.2819e-01,  6.2772e-01, -4.0983e-01, -3.0886e-03,\n",
      "        -2.2511e-01, -7.6442e-01,  6.8231e-01, -3.9717e-01,  2.0950e-01,\n",
      "        -3.5221e-01, -5.3640e-01,  4.2392e-01, -1.2159e-01,  1.9132e-01,\n",
      "         3.6890e-01,  9.2833e-02, -6.1476e-01, -3.9579e-01, -2.7676e-02,\n",
      "        -3.1010e-01,  5.1340e-01,  7.8428e-02, -1.9585e-01, -2.5119e-01,\n",
      "        -3.7082e-01, -7.8127e-01,  4.6326e-01, -2.2708e-01,  6.2857e-01,\n",
      "        -9.4253e-02, -8.6835e-01, -9.8331e-01, -6.1424e-01, -7.0709e-02,\n",
      "        -1.8560e-02,  8.2780e-01, -1.0939e+00,  1.2963e+00,  4.6576e-01,\n",
      "        -6.6037e-02,  6.2975e-01,  6.0202e-01, -8.4167e-01,  1.2952e-01,\n",
      "         6.4952e-01, -4.4175e-01,  5.0394e-01,  1.3314e-01, -1.9608e-01,\n",
      "        -5.2173e-02,  8.4321e-02, -1.9377e-01, -5.8389e-01,  6.9108e-01,\n",
      "        -3.5703e-02, -2.2884e-01, -1.1306e-02, -5.4155e-01, -5.3724e-02,\n",
      "        -3.5426e-01, -5.1736e-01, -6.8069e-01,  4.4947e-01, -5.4171e-01,\n",
      "        -6.1554e-01,  7.9103e-01, -1.0076e+00, -7.1541e-01,  3.4459e-01,\n",
      "         2.6330e-01,  5.4404e-02, -4.1122e-01,  3.7553e-01, -5.5839e-01,\n",
      "         5.0389e-01, -1.3331e-02,  3.5283e-02,  5.5120e-02,  2.4099e-01,\n",
      "         5.3178e-01, -4.0029e-01, -4.5434e-01, -1.3725e-01,  4.5073e-01,\n",
      "         1.5819e-02, -6.4217e-01, -2.6076e-01, -2.0190e-01, -3.8685e-01,\n",
      "        -9.2641e-01, -8.9073e-01,  9.7078e-01, -4.9514e-01,  2.3998e-01,\n",
      "         1.1570e-02, -4.3794e-02, -3.6548e-01, -8.2815e-02,  2.5287e-01,\n",
      "        -2.2564e-01,  5.5260e-01,  2.7756e-01, -3.1936e-01,  1.2364e-01,\n",
      "         1.2992e+00,  8.2253e-01, -1.6216e-01, -2.8127e-01, -1.9145e-01,\n",
      "        -4.0202e-01, -1.7151e-01,  1.5738e-01, -1.2331e-01,  7.0661e-01,\n",
      "        -1.0176e+00, -1.1714e-01, -1.2592e+00,  1.3901e+00,  4.4673e-01,\n",
      "         4.7428e-01, -4.8312e-01,  8.7902e-01, -5.2070e-01, -9.9674e-02,\n",
      "        -1.1396e-01, -5.2742e-01,  3.7698e-01, -6.5867e-01, -3.8330e-01,\n",
      "        -3.1016e-01,  4.4299e-01,  7.5155e-01,  4.3820e-01, -5.3230e-01,\n",
      "        -8.0889e-02, -4.8584e-01,  1.9351e-02, -8.1618e-01,  1.1474e+00,\n",
      "         3.5501e-01,  3.4397e-01,  7.0017e-01,  3.0013e-02, -2.1908e-01,\n",
      "         1.1023e-01,  3.9017e-01,  6.8644e-01, -4.3876e-01,  4.7409e-01,\n",
      "        -1.1305e-01,  1.0065e+00,  1.7304e-01,  4.2045e-02,  2.2059e-01,\n",
      "        -9.0484e-01, -3.3388e-01,  1.0922e+00, -8.3940e-02, -9.9888e-01,\n",
      "         6.6390e-01, -1.6283e-01,  1.5321e-01,  7.4428e-01, -3.2533e-01,\n",
      "        -5.3569e-01,  8.1608e-02, -1.8913e-02,  3.4249e-01, -9.9655e-02,\n",
      "        -9.9712e-01,  1.8448e-01, -5.4033e-01, -1.7282e-01,  8.8373e-02,\n",
      "        -9.2203e-02, -1.5629e-01,  7.7086e-01, -4.3689e-02,  1.0868e+00,\n",
      "         2.2141e-01, -5.4605e-01, -6.8471e-01,  6.5065e-02, -2.3383e-01,\n",
      "         9.0462e-01,  1.1526e-01, -6.2660e-01, -6.6228e-03,  9.3953e-02,\n",
      "         5.5547e-01, -2.2430e-01,  3.7673e-01, -8.4830e-02,  5.5365e-01,\n",
      "        -9.6829e-02,  1.5077e-01, -2.3043e+00, -5.3875e-01, -3.5429e-01,\n",
      "         3.7661e-01,  3.3981e-01,  9.5326e-01, -3.2908e-01,  8.1280e-02,\n",
      "         1.1020e-01, -3.5380e-01,  5.7937e-02,  1.5098e-01,  5.4818e-01,\n",
      "         2.9483e-01,  2.5742e-02,  8.9497e-02,  5.5480e-01, -2.5026e-01,\n",
      "        -2.1588e-01,  4.8700e-02, -5.5741e-01, -2.7332e-01,  2.0498e-01,\n",
      "        -1.9226e-01, -7.1594e-01,  4.5581e-01,  5.2864e-02, -2.0981e-01,\n",
      "         2.8480e-01,  1.1746e+00, -2.3350e-01,  7.1755e-01,  2.3455e-01,\n",
      "         2.9920e-01, -9.6465e-02, -2.3288e-01, -4.7658e-01,  7.0056e-02,\n",
      "         2.7475e-01, -2.9672e-01, -2.8575e-01,  5.8956e-02,  1.2950e-01,\n",
      "        -5.3878e-02, -2.9274e-01, -5.2540e-01,  6.6574e-01, -2.3546e-01,\n",
      "         1.1864e+00, -3.0109e-01,  1.3985e-01, -1.7385e-01, -6.6286e-01,\n",
      "        -3.6984e-01,  3.8112e-01, -6.5707e-02, -2.4742e-01,  9.9321e-02,\n",
      "        -3.9066e-01, -2.0028e-01,  2.0686e-01,  2.1707e-01, -3.9271e-01,\n",
      "        -3.0403e-01,  1.8488e-02, -2.2376e-01, -6.5105e-01, -8.9502e-02,\n",
      "        -5.7499e-02, -5.3365e-02, -4.5792e-01,  7.2859e-02,  1.3909e+00,\n",
      "         2.9599e-02, -2.6510e-01,  5.4750e-02,  2.9000e-01,  2.5214e-01,\n",
      "         8.9416e-01,  7.3908e-02, -6.8553e-02,  4.2690e-01, -4.8072e-01,\n",
      "         5.4342e-01,  4.5997e-01, -5.8937e+00, -7.6322e-01, -6.5320e-01,\n",
      "        -5.9052e-01,  7.6064e-01, -9.5550e-02,  2.8271e-01, -3.8772e-01,\n",
      "        -3.4043e-01,  1.7632e-01, -6.3767e-01, -8.6608e-02, -9.0863e-02,\n",
      "        -5.3022e-01,  1.8736e-01,  6.3362e-01]) tensor([ 3.0667e-01, -3.3532e-02,  1.0752e-03,  4.4275e-01,  3.2029e-01,\n",
      "        -2.6729e-02, -1.5691e-01,  1.1625e+00, -2.0618e-01, -2.2093e-02,\n",
      "        -7.4281e-02, -4.9072e-01, -4.7165e-04,  4.0149e-01, -4.1905e-01,\n",
      "         1.0091e-01,  6.2423e-01, -1.7302e-01,  1.2183e-01, -2.8289e-01,\n",
      "         9.6517e-02,  6.5701e-01,  2.6484e-01, -3.2353e-01, -9.9294e-02,\n",
      "        -5.1268e-01, -9.4364e-02, -2.7154e-01,  4.8921e-01,  4.2687e-02,\n",
      "        -2.6434e-02,  4.5403e-01, -2.7992e-01, -5.4655e-01, -1.3765e-01,\n",
      "        -3.6692e-01,  4.4758e-01, -1.4239e-01, -4.1255e-01,  2.4425e-01,\n",
      "        -7.1896e-01, -2.0170e-01,  6.3418e-03,  1.2347e+00, -3.1898e-01,\n",
      "        -6.8181e-01,  3.8732e-01, -3.7708e-01, -1.2271e-01, -1.4587e-01,\n",
      "        -3.6772e-02,  7.8068e-01,  8.5411e-01,  4.9214e-01, -4.8294e-01,\n",
      "        -1.7819e-01, -6.3786e-01, -3.6930e-01, -3.2711e-01, -3.3182e-01,\n",
      "         2.2415e-01,  3.5899e-01, -3.2835e-02,  4.1382e-02,  1.2450e+00,\n",
      "         2.0317e-01,  8.3671e-01,  4.9295e-01, -5.1438e-01,  1.0705e-01,\n",
      "         5.6193e-01, -6.4334e-01, -6.1415e-01,  1.1681e-01,  1.1104e+00,\n",
      "        -3.7178e-01, -8.5010e-02,  8.1951e-02, -3.2776e-02, -3.7218e-01,\n",
      "        -6.4762e-01,  3.1243e-01, -8.9423e-01,  4.9363e-01, -7.6426e-01,\n",
      "        -3.7837e-01, -4.6097e-01,  7.8962e-01,  1.7100e-01,  7.6952e-01,\n",
      "         4.7635e-01, -3.6583e-01, -4.4496e-01,  3.0118e-01, -1.2286e-01,\n",
      "         2.8040e-02,  6.1499e-01,  2.4582e-01, -1.4291e-01,  1.2782e-01,\n",
      "        -4.5667e-01, -8.7482e-01,  3.9512e-01, -5.1047e-01, -4.5077e-01,\n",
      "        -1.3423e-01, -1.8840e-01,  3.8904e-01,  3.6842e-01,  1.5889e-01,\n",
      "         1.3033e-01,  1.7403e-01, -1.9520e-01,  5.1434e-02, -4.9269e-01,\n",
      "         4.8417e-01,  5.0251e-01, -4.3680e-01,  2.9263e-01,  4.3156e-01,\n",
      "        -7.1657e-02, -1.0873e-02,  4.0260e-01,  1.2633e-01,  6.5683e-01,\n",
      "         7.9791e-02, -6.1925e-01,  1.3173e-01, -6.4816e-01, -6.3237e-01,\n",
      "        -1.1164e-01,  1.1027e+00,  5.9867e-01,  4.3747e-01, -3.5963e-01,\n",
      "         6.2791e-01, -5.1916e-04, -2.5158e-01,  3.6624e-01,  3.4455e-01,\n",
      "         6.0196e-01,  3.2179e-01,  1.1164e-01, -6.0467e-01,  5.9987e-01,\n",
      "        -1.9058e-01,  6.6859e-02, -2.2976e-01, -5.5191e-01, -1.9517e-01,\n",
      "         2.2850e-01,  3.3771e-01,  2.2834e-01,  2.9871e-01,  8.1473e-01,\n",
      "         2.9031e-01, -2.9281e-01,  2.7147e-01, -2.7205e-01, -8.5180e-02,\n",
      "        -2.2813e-01, -4.3509e-01, -9.2137e-02,  1.8061e-01, -1.8865e-01,\n",
      "        -7.3241e-01,  6.6998e-01,  2.9763e-01, -4.2102e-01,  3.9378e-01,\n",
      "         8.1210e-01, -1.4014e-01,  2.7677e-01, -4.9307e-01, -6.0383e-01,\n",
      "        -3.6778e-01, -5.0655e-02, -2.3362e-01,  9.8355e-01, -8.3922e-02,\n",
      "        -3.3101e-01,  4.3763e-01,  1.3514e-01,  4.8411e-01,  4.1684e-01,\n",
      "        -2.0011e-01,  7.6374e-01, -5.9127e-02, -1.4640e-01,  3.0664e-01,\n",
      "        -3.1967e-03, -1.8512e-02,  3.8891e-01,  1.2498e-01,  1.1074e-01,\n",
      "        -7.1085e-01,  4.9549e-01, -3.0350e-01,  2.7973e-01, -1.5082e-01,\n",
      "         1.0919e-02,  8.7896e-01,  2.2012e-01,  1.6145e-01, -6.5695e-01,\n",
      "        -4.0485e-02,  3.9664e-01,  6.4327e-02,  1.2115e-01, -7.7427e-01,\n",
      "         5.4080e-01, -2.0258e-01, -3.6133e-01, -4.6346e-01,  1.7169e-01,\n",
      "        -4.6177e-01, -5.7242e-01, -3.4087e-01,  6.2519e-01,  3.3813e-01,\n",
      "         7.1200e-01, -9.9155e-01,  2.8915e-01,  3.1273e-01, -9.6509e-01,\n",
      "        -1.4588e-01,  2.1139e-01, -7.0425e-01,  5.9164e-01,  4.8681e-01,\n",
      "         9.7042e-02, -7.1456e-01,  9.2102e-01, -6.4809e-02,  4.6707e-01,\n",
      "        -8.7948e-02, -1.4600e-01, -5.2997e-01, -3.2284e-01, -2.4691e-01,\n",
      "        -5.6349e-02,  1.1274e+00,  1.4644e-01,  2.0490e-01,  9.6959e-02,\n",
      "        -7.2059e-01,  1.6085e-01,  6.8498e-02, -4.3314e-01,  2.8657e-02,\n",
      "        -7.4291e-01, -4.9677e-01,  3.4825e-02, -2.2077e-01,  5.7356e-02,\n",
      "        -3.4108e-01, -9.7976e-02, -4.3955e-01,  3.9767e-01,  5.7848e-01,\n",
      "         3.1014e-01, -3.3086e-01,  8.2937e-01, -2.5437e-01, -4.1137e-01,\n",
      "        -7.0100e-01,  2.6318e-01,  1.7358e-01, -8.2820e-02,  4.6205e-02,\n",
      "         1.0902e+00,  2.2257e-01,  5.1592e-01,  1.7767e-01, -7.6318e-02,\n",
      "        -1.4638e+00, -6.1887e-02, -1.1950e-02,  2.8668e-01,  2.1781e-01,\n",
      "         1.5340e-01,  9.1381e-01,  6.5248e-01,  6.1326e-02, -2.4523e-01,\n",
      "        -7.9657e-02,  9.4573e-01,  2.9124e-02, -7.2831e-02, -5.4457e-01,\n",
      "        -6.9149e-01,  1.5890e-01, -4.2303e-01, -7.7417e-01,  1.0518e+00,\n",
      "        -5.0467e-02,  1.5799e-01,  4.3011e-02,  8.1766e-03, -1.0243e+00,\n",
      "        -2.7836e-01, -9.1407e-02, -4.3162e-01,  5.7414e-02, -2.8216e-01,\n",
      "        -1.4208e-01, -7.0225e-01, -1.4403e-01, -4.9066e+00, -8.4784e-01,\n",
      "         9.9937e-01, -5.7613e-01, -1.6073e-01, -4.2822e-01,  3.3643e-01,\n",
      "        -4.2142e-01, -7.1507e-01,  4.6388e-01,  2.1143e-01, -4.2349e-02,\n",
      "         4.4469e-01,  8.8837e-01, -4.0169e-01, -5.4593e-01,  3.5594e-01,\n",
      "         2.4216e-01, -4.4335e-01,  2.9744e-01, -5.3396e-01, -2.8734e-01,\n",
      "         1.0109e-01, -5.0626e-01, -3.0190e-01,  3.0362e-01,  6.8893e-02,\n",
      "         1.6905e-01,  1.0720e-01, -4.1307e-02,  4.2619e-01,  3.0142e-01,\n",
      "         2.8206e-01,  5.1490e-01, -7.5329e-01,  1.6415e-01, -1.7633e-01,\n",
      "        -4.6045e-01,  8.1390e-02,  3.6582e-02, -2.3605e-01,  1.3011e-01,\n",
      "         3.2164e-01,  1.5381e-01,  1.0331e+00, -6.5726e-01,  4.1976e-01,\n",
      "        -4.5490e-01,  1.0335e-04,  9.6430e-01,  3.2615e-01, -4.1549e-01,\n",
      "         7.2616e-01,  6.3262e-01, -3.1601e-01,  2.5063e-01,  5.6600e-01,\n",
      "         1.0678e+00, -4.2935e-02, -6.4846e-01,  3.0794e-01, -8.7929e-01,\n",
      "        -4.6600e-01, -2.8208e-01, -4.9757e-01, -8.2367e-01, -5.7190e-01,\n",
      "        -4.4045e-01,  2.9727e-01,  7.3110e-01, -3.4597e-01, -1.9331e-01,\n",
      "        -6.3029e-01, -7.8174e-01, -2.5071e-01, -4.0026e-01,  6.0404e-01,\n",
      "         9.6245e-03,  1.1589e-01,  6.1282e-01, -6.6005e-01,  1.7596e-01,\n",
      "        -2.0269e-01, -2.3671e-01, -6.4653e-01, -6.4444e-01, -1.9199e-01,\n",
      "         1.9487e-01, -2.4814e-01, -1.5660e-01,  3.0066e-01, -5.6214e-01,\n",
      "        -3.5008e-01, -1.1914e-01,  1.6034e-01, -5.2772e-02,  1.2424e-01,\n",
      "        -3.8933e-01,  1.1477e-01,  1.0069e-01,  3.2503e-02, -7.7355e-02,\n",
      "         3.0097e-01,  7.9985e-03, -1.0629e-01, -3.6130e-01,  2.7655e-01,\n",
      "         3.4095e-01,  4.7538e-01, -5.5082e-01, -1.4483e-01, -4.6069e-01,\n",
      "         1.8647e-01,  1.2608e-01, -5.7630e-02, -3.9136e-01,  1.5034e-02,\n",
      "         5.4111e-01,  5.4270e-01,  1.3659e-01, -3.4714e-01,  6.2010e-01,\n",
      "        -9.6292e-01, -7.0716e-01,  8.5955e-01, -3.4040e-01, -1.3047e-01,\n",
      "         2.4774e-02, -5.2698e-01,  8.5743e-01, -2.5805e-01, -4.1002e-01,\n",
      "        -3.0510e-01, -1.9948e-01,  6.2789e-01,  3.6851e-01, -8.4755e-01,\n",
      "        -1.5122e-01,  4.5255e-02, -1.0161e-01, -1.4755e-01,  3.4131e-01,\n",
      "        -5.3072e-01,  2.5030e-01,  1.3450e-01,  1.0854e+00, -1.9741e-02,\n",
      "        -2.3741e-01, -2.7139e-01,  3.9444e-02, -4.6475e-02, -3.5039e-01,\n",
      "         5.5387e-03,  8.6229e-02, -5.4990e-01, -7.9379e-01,  5.1597e-01,\n",
      "        -4.0489e-01, -2.3193e-01, -9.8356e-01, -6.6232e-02, -1.3407e-02,\n",
      "        -4.1251e-01, -2.1532e-01, -6.7994e-01,  5.9044e-01, -3.1517e-01,\n",
      "        -9.4973e-01,  2.8993e-01,  1.1519e-01,  4.4014e-01, -1.0434e-01,\n",
      "         6.7943e-01, -4.5325e-02, -3.8497e-01,  7.3918e-02,  6.4195e-01,\n",
      "        -6.4655e-01, -1.3758e-01, -1.3325e-01,  1.0212e-01, -3.9200e-03,\n",
      "         5.7144e-01,  3.4736e-02, -5.2904e-02,  2.8033e-01,  5.5774e-01,\n",
      "         1.0824e-01, -5.4268e-01, -7.6452e-02,  8.2369e-01,  6.0344e-01,\n",
      "        -4.9621e-01, -4.1321e-01, -8.8904e-01,  4.9827e-01,  6.3094e-01,\n",
      "        -1.7789e-01,  4.3664e-01,  3.3260e-01, -8.3538e-01, -4.6461e-01,\n",
      "        -7.5608e-02,  4.6226e-02,  1.2492e-01, -8.7609e-01,  1.3545e-01,\n",
      "         3.6125e-01,  3.6187e-01,  1.6601e-01, -1.0225e+00,  5.3059e-02,\n",
      "        -5.7565e-01,  2.2998e-01, -1.4223e+00, -1.2301e-01, -3.3977e-01,\n",
      "         8.0947e-02, -1.2195e-01, -6.1156e-01, -2.8067e-03, -6.9777e-02,\n",
      "        -2.9610e-01, -6.3686e-01, -1.0589e+00, -4.8471e-02,  5.3173e-01,\n",
      "        -1.4490e-01,  4.0267e-01, -3.3775e-01,  9.5787e-01, -8.5017e-01,\n",
      "         4.0323e-01,  4.4814e-01,  2.3142e-02,  4.1542e-01,  8.2443e-01,\n",
      "        -5.3148e-01,  1.1808e-02,  3.9614e-01, -1.8924e-01, -4.4528e-02,\n",
      "         2.2675e-01, -9.4293e-02,  2.9077e-01, -7.5685e-01,  7.1830e-01,\n",
      "         8.3089e-02,  4.9716e-02, -2.4040e-01,  2.0570e-02,  6.7326e-01,\n",
      "         1.2027e-01, -4.9504e-01,  5.5387e-01,  3.0724e-01,  3.0695e-02,\n",
      "         2.3908e-01, -2.9771e-01, -5.0016e-02, -1.0509e-01,  9.4569e-02,\n",
      "         2.3732e-02,  1.0903e-01,  4.2101e-01,  1.0154e-01,  5.9128e-03,\n",
      "         4.9465e-01,  3.4485e-01,  3.9819e-01,  6.1088e-01,  3.8279e-01,\n",
      "         5.3023e-01, -3.9308e-01,  4.8094e-01, -4.7023e-01, -2.2844e-01,\n",
      "        -7.4099e-01,  6.8161e-01,  6.2957e-02, -2.4314e-01,  3.0825e-01,\n",
      "        -6.2211e-03,  1.5663e-01, -4.2281e-01,  6.2650e-02,  3.9846e-01,\n",
      "        -1.7244e-01,  1.2154e-01, -1.5552e-01,  6.9881e-02, -5.0767e-01,\n",
      "         7.3179e-02,  6.6642e-01,  8.3370e-01, -1.4294e-01,  2.7906e-01,\n",
      "         7.2443e-02,  4.4940e-01,  3.2904e-01, -6.8150e-02,  3.8360e-01,\n",
      "        -3.4263e-01,  2.4536e-01,  3.4695e-01, -5.3156e-01, -4.1758e-01,\n",
      "        -2.1993e-01,  8.3991e-02,  8.9166e-01, -4.1943e-01,  1.2725e-01,\n",
      "         2.2911e-01,  5.9130e-01,  2.1256e-01, -7.2545e-02,  3.3336e-01,\n",
      "        -6.5255e-01,  2.9253e-01, -1.5527e-01,  2.5367e-01,  6.8592e-01,\n",
      "         8.1754e-01, -1.9586e-01, -1.8196e-01,  3.8216e-02, -5.3986e-01,\n",
      "        -3.7729e-01,  2.2362e-01,  7.8646e-01,  5.5331e-01,  1.2317e+00,\n",
      "        -7.8198e-01, -2.4781e-01, -1.0098e+00,  3.3352e-01, -5.1059e-01,\n",
      "         2.2928e-01,  5.9087e-01,  5.3175e-01,  5.4193e-01,  2.0350e-01,\n",
      "         6.0036e-01, -1.5916e-01, -5.5642e-01,  3.8326e-01,  2.6679e-01,\n",
      "        -3.6887e-01,  1.5012e+00, -2.9788e-01,  1.0739e-01, -3.0869e-01,\n",
      "        -9.7456e-02, -1.8928e+00, -1.2783e+00, -5.6112e-01, -5.2898e-02,\n",
      "         1.2139e-01,  1.7606e-01,  3.0923e-01, -1.9326e-01,  3.9484e-01,\n",
      "        -1.5058e-01, -4.7983e-03,  6.0716e-01,  1.9312e-01, -8.4253e-01,\n",
      "        -1.5631e-01, -4.8636e-01, -3.5978e-01, -6.0869e-01,  6.7241e-01,\n",
      "        -3.0830e-01,  4.5944e-01, -4.5105e-01,  6.6979e-01,  4.4634e-01,\n",
      "        -3.1697e-02,  5.7910e-01,  7.2013e-01, -2.3601e-01, -8.9587e-02,\n",
      "        -2.1428e-01, -4.5908e-01, -1.5606e-01, -1.0681e+00,  3.3689e-01,\n",
      "         3.9914e-01, -4.0523e-01, -7.2061e-01,  5.0093e-01, -5.8293e-01,\n",
      "         3.3036e-01, -5.5723e-01, -2.9140e-01, -1.5720e-01,  6.2031e-01,\n",
      "         3.3338e-01,  2.2213e-01, -2.9876e-01,  6.5421e-02,  4.5112e-02,\n",
      "        -4.6162e-01,  2.3242e-01,  9.9712e-02, -4.6508e-01,  1.4308e-01,\n",
      "        -4.3757e-01, -5.8069e-01, -7.3894e-02,  4.8986e-01,  9.1258e-02,\n",
      "        -2.0579e-01,  4.2314e-01, -9.4585e-02,  4.5499e-01, -2.3914e-01,\n",
      "         2.8518e-01, -3.3063e-01, -6.7729e-02, -5.4989e-02, -5.0081e-01,\n",
      "         7.7919e-02, -1.2118e-01,  9.0742e-01, -5.0140e-01,  4.5210e-01,\n",
      "        -4.5017e-01, -1.0701e+00, -3.9470e-01, -5.2098e-01,  8.0926e-01,\n",
      "        -2.2286e-01, -4.2602e-02,  6.9901e-01, -4.5089e-01,  4.5160e-01,\n",
      "        -1.3761e+00, -2.3607e-01,  7.0740e-02,  5.4892e-01,  4.0661e-02,\n",
      "         1.7226e-01,  4.5018e-01,  2.6999e-01, -6.2015e-01, -8.1615e-02,\n",
      "        -1.4236e-01,  5.5874e-01,  3.6571e-01, -5.7428e-01,  2.9463e-01,\n",
      "         1.5420e-01, -1.0278e+00, -1.9293e-01, -1.1643e-02,  5.9939e-01,\n",
      "         1.2669e-01, -3.6397e-01, -9.2534e-01])\n",
      "0.1333962231874466\n"
     ]
    }
   ],
   "source": [
    "## this is a handy way of finding the cosine similarity between two tensors\n",
    "# see https://pytorch.org/docs/stable/generated/torch.nn.CosineSimilarity.html\n",
    "cos = torch.nn.CosineSimilarity(dim=0, eps=1e-6)\n",
    "\n",
    "#you use this as:\n",
    "print(encoded_layers[0,0],encoded_layers[0,1])\n",
    "output=cos(encoded_layers[0,0],encoded_layers[0,1])\n",
    "print(output.item())"
   ]
  },
  {
   "cell_type": "code",
   "execution_count": null,
   "outputs": [],
   "source": [],
   "metadata": {
    "collapsed": false,
    "pycharm": {
     "name": "#%%\n"
    }
   }
  },
  {
   "cell_type": "code",
   "execution_count": 118,
   "id": "tropical-directive",
   "metadata": {},
   "outputs": [],
   "source": [
    "with torch.no_grad():\n",
    "    # See the models docstrings for the detail of the inputs\n",
    "    sentences_outputs = [model(tokens_tensor, token_type_ids=segments_tensors)\n",
    "                         for (tokens_tensor, segments_tensors) in zip(sentences_tokens_tensor, sentences_segments_tensors)]\n",
    "    sentences_cls = [output[0][0,0] for output in sentences_outputs]"
   ]
  },
  {
   "cell_type": "code",
   "execution_count": 119,
   "outputs": [
    {
     "data": {
      "text/plain": "tensor([ 1.1590e-01,  6.5324e-01, -2.0935e-01, -2.5611e-02, -3.8921e-01,\n        -6.2618e-01,  3.0078e-01,  5.4555e-01, -2.0464e-03, -6.0749e-01,\n        -4.2318e-01, -1.9440e-01,  4.5724e-01,  7.6823e-02,  3.3098e-01,\n        -5.0582e-01,  1.5183e-01,  1.0898e-01, -1.2321e-01, -5.4610e-01,\n        -5.0400e-02, -5.3258e-01, -3.2013e-01,  2.9357e-01,  4.9870e-01,\n         5.0016e-02,  1.4715e-01, -1.0674e-01, -2.2981e-01, -1.5368e-01,\n         2.7195e-01,  1.0101e+00, -1.6937e-01, -1.3404e-01,  8.9786e-02,\n        -5.1196e-01,  2.3494e-01, -9.3254e-02,  4.7672e-01,  1.4907e-01,\n        -3.0858e-01,  1.5049e-01, -8.5428e-02, -4.1467e-01,  6.8358e-01,\n        -9.3506e-01, -2.8060e+00, -3.7640e-01, -4.8633e-01, -4.4476e-01,\n         1.5088e-01,  1.3590e-02,  1.5590e-02, -2.3847e-02, -6.3058e-01,\n        -3.2194e-02, -1.7782e-01,  4.7192e-01,  5.1622e-03,  7.3014e-02,\n        -1.0110e-01,  4.8777e-01, -2.3079e-01, -1.0471e-01,  1.7462e-01,\n        -2.1536e-01, -5.5140e-01,  2.9230e-01,  4.2244e-01, -4.5619e-03,\n        -1.0422e+00, -3.1379e-01,  6.8258e-01, -2.6908e-01,  1.9590e-01,\n         2.1552e-01, -2.7235e-01,  3.0017e-01,  3.8827e-01, -7.0422e-01,\n        -2.7942e-01,  3.7931e-01,  2.7898e-01,  4.9354e-01,  7.0218e-01,\n         2.0626e-01, -4.1888e-01, -2.8278e-01, -2.4512e-01,  6.5858e-01,\n        -5.2615e-01, -1.4173e-01, -4.2188e-01,  2.9260e-01, -1.7257e-01,\n         2.8533e-01,  3.5069e-01, -7.6199e-02,  2.5998e-02,  3.4288e-01,\n         3.3639e-01,  2.2183e-01,  5.8936e-01,  2.9654e-03, -2.4017e-01,\n         3.3043e-02, -1.2861e-01, -4.8223e-01, -9.6241e-02, -1.8068e+00,\n        -2.8172e-02, -2.9028e-01,  3.0946e-01, -3.0317e-01, -3.5705e-02,\n         5.5971e-01,  2.0310e-01,  7.9145e-02, -4.1049e-01,  1.1813e-01,\n         4.1034e-02, -4.9580e-01, -2.7328e-01, -2.3286e-01, -3.9741e-01,\n         1.2443e-01,  1.9448e-02,  1.6900e-01,  9.2249e-01,  1.7946e-01,\n         3.2200e-01,  8.2654e-01,  8.5658e-02, -7.7113e-01, -5.1677e-01,\n         3.0586e-01,  1.4860e+00,  2.7552e-01, -6.3776e-01, -2.1914e-01,\n        -2.4054e-01, -6.6011e-02, -2.4402e+00, -2.7750e-01,  1.2882e+00,\n         1.8857e-01, -8.4487e-02, -2.3283e-02,  1.7290e-01,  2.2102e-01,\n         3.5925e-01, -1.3768e-01, -3.5281e-01, -1.4440e-01, -5.1616e-01,\n        -2.7022e-01,  3.5873e-01,  3.3860e-01,  6.4717e-01,  7.2777e-01,\n         2.9012e-02, -3.9766e-01,  3.7516e-01, -6.0595e-01, -4.3903e-01,\n         3.4705e-01,  2.1362e-01,  3.7970e-01, -5.1161e-01,  3.3525e-02,\n         3.7689e-01,  2.2278e-01,  7.9125e-01, -2.6300e-02,  6.1793e-01,\n        -6.4445e-01, -1.8955e-01,  5.3023e-01,  6.6123e-01, -4.4725e-01,\n        -5.4649e-01, -2.2094e-01,  3.8545e-01,  2.6154e-01,  7.4572e-01,\n        -3.8806e-01,  2.6236e-01, -7.6420e-02, -7.7985e-02, -1.1529e-01,\n         4.5678e-01,  1.7024e-01,  1.2740e-01, -5.7944e-01, -1.8510e-01,\n        -1.1349e-01,  8.7931e-01, -1.4567e+00,  7.1815e-02,  3.0207e-01,\n        -5.7906e-01,  5.8417e-02, -5.3499e-01,  6.0014e-01, -2.5382e-01,\n         3.5458e+00,  3.5225e-01,  1.0280e-01,  6.7219e-02, -4.7430e-02,\n        -4.8129e-01,  3.8180e-01,  2.1538e-01, -1.3555e-01, -3.0002e-01,\n         5.8343e-02,  2.8310e-01,  8.1547e-02, -2.2757e-01, -7.7611e-02,\n         2.3593e-02,  3.7413e-01, -7.0320e-01,  1.6263e-01,  1.8417e-01,\n         5.3734e-01, -7.0835e-02,  8.6493e-01, -5.8448e-01, -1.6071e+00,\n         8.4874e-02,  4.1975e-01, -3.6027e-01,  4.5936e-01, -1.0119e+00,\n        -6.3739e-01, -2.8339e-01, -5.3361e-01,  6.7183e-01, -2.9194e-01,\n        -2.4721e-01,  2.4926e-01,  2.8754e-01, -2.4230e-01,  5.8720e-01,\n         8.5862e-01,  2.0861e-01,  2.8214e-01, -1.3961e-01, -3.2301e-01,\n         1.7868e-01, -1.6379e-01,  9.7548e-02, -4.5754e-01, -6.2267e-01,\n        -1.0117e-01,  3.5866e-01,  5.3634e-01, -6.7003e-01,  1.9913e-01,\n         1.4773e-01, -4.7992e-01,  9.8591e-01,  3.9027e-01, -1.1099e+00,\n        -3.0936e-01,  1.1402e-01,  2.5797e-01, -5.0226e-01, -1.3407e-01,\n        -2.1485e-01, -4.1478e-01, -1.2694e-01, -3.5210e+00, -2.9710e-01,\n        -3.2502e-01,  2.5835e-01,  4.9705e-01,  2.9560e-02,  2.1077e-01,\n         3.8948e-01,  1.7912e-01, -1.0762e+00,  4.5225e-01,  3.3855e-02,\n         2.2465e-01,  1.6279e-01, -5.3019e-01,  6.6594e-01, -6.9040e-01,\n        -4.4015e-01,  2.6472e-01, -3.0975e-01, -2.7847e-01, -7.0794e-01,\n        -2.6748e-02, -7.0373e-02,  3.8144e-01,  2.8355e-01, -3.5640e-01,\n        -7.0714e-01,  5.0975e-01, -2.7017e-01,  2.6729e-01, -3.8630e-01,\n         1.6283e-01,  3.2635e-01, -2.8849e-02, -1.5262e+00,  6.0059e-01,\n        -1.7686e-01, -8.6587e-02,  6.2183e-01, -3.9052e-02,  6.7082e-01,\n        -3.1884e-01, -7.7856e-01,  2.5135e-01, -2.8386e-02, -4.3636e-01,\n         1.4068e-01,  2.2626e-01,  6.8112e-01,  9.5695e-02,  1.5795e-01,\n        -5.8609e-01,  7.4834e-02,  4.7017e-01, -1.7805e-01, -5.7508e-01,\n         1.7177e-01, -2.8863e-01,  3.4882e-01,  2.1520e-01, -9.1947e-02,\n        -7.8305e-01, -3.7408e-01,  4.4254e-02,  4.1198e-01, -3.6840e-01,\n         5.6263e-01, -2.3526e-01, -7.5937e-01, -8.7898e-02,  5.6718e-03,\n        -1.3663e-02,  4.7349e-01,  5.5681e-01, -3.3603e-01,  7.0666e-01,\n         3.0347e-01,  9.2271e-01,  7.8166e-01,  3.0045e-01, -2.8392e-01,\n        -4.7234e-01,  2.6896e-01, -1.8769e-01,  1.1326e-01, -1.0235e-01,\n         3.6119e-01,  3.0561e-01,  6.6178e-02, -1.0599e-01,  7.4888e-01,\n         2.8928e-01, -3.0281e-02, -1.5065e-01,  5.8537e-01, -3.3775e-01,\n        -2.3524e-01,  5.9068e-01,  6.2429e-01, -1.5480e+00, -7.5713e-02,\n        -2.4853e-01, -3.0043e-01,  1.7806e-02, -2.7200e-01,  1.0646e-01,\n        -6.4410e-01, -1.1351e+00,  1.3414e-01,  2.1878e-01, -1.6711e-01,\n        -5.2799e-02,  5.5902e-01, -8.9824e-02,  3.1571e-01, -3.1513e-01,\n        -6.8633e-01,  4.2168e-01, -3.1753e-01, -6.4525e-01,  1.9142e-01,\n         4.8077e-01,  1.9426e-01, -2.3343e-01, -1.0219e-01,  8.0683e-01,\n         7.9453e-01, -1.1075e-02, -4.9284e-01,  4.3240e-01,  8.2281e-01,\n        -1.3213e-01,  3.0731e-01, -1.6896e-01, -6.4477e-01, -7.2337e-01,\n        -4.5664e-01,  3.8293e-01, -3.1089e-01, -1.6120e-01, -3.5393e-01,\n         1.6997e-01,  1.2711e-01,  2.5400e-01, -4.5101e-01, -6.0249e-01,\n         1.9741e-01, -3.1603e-01,  7.3063e-01, -5.0484e-01,  2.6063e-01,\n         1.0494e+00, -1.5813e-01,  4.2716e-01,  7.1588e-02,  4.3783e-01,\n         8.7975e-02, -1.8471e-01, -7.0003e-01, -5.4579e-01, -9.6693e-02,\n         4.2108e-02,  4.4071e-01, -1.9267e-01,  9.7316e-02, -3.1544e-01,\n        -7.2181e-01, -7.3972e-01,  1.4894e-01, -6.5210e-02,  6.9108e-02,\n         1.8239e-01,  3.0237e-01, -2.4508e-01, -2.5495e-01, -5.0927e-01,\n        -1.2350e-01,  2.1490e-01, -9.3769e-03,  7.2048e-01,  2.6960e-01,\n         6.3286e-01, -3.3074e-01,  9.2122e-01, -9.4936e-02,  2.5995e-01,\n         1.6754e-01, -3.4983e-01,  1.2471e-01, -3.4486e-01, -7.4762e-01,\n        -7.7841e-02,  2.2135e-01, -3.2262e-01,  2.5627e-01,  2.4877e-01,\n        -1.6683e+00, -2.4489e-01, -2.7264e-02, -3.1862e-01,  4.4667e-01,\n        -5.5095e-01, -1.0015e+00,  8.1237e-01, -1.4715e-01, -3.5789e-01,\n        -4.0079e-01, -5.1056e-01, -2.2989e-01,  4.0200e-01, -9.8022e-02,\n         2.1219e-02,  4.6477e-01, -7.1388e-01, -3.5988e-01, -2.1317e-01,\n        -4.2756e-01,  4.4585e-01,  1.1898e-01, -3.0018e-01,  8.8493e-03,\n        -1.6603e-01,  1.4899e-01,  3.1418e-03, -7.7406e-02,  4.2302e-01,\n         3.1226e-01, -2.2406e-01, -9.4258e-01, -6.3401e-01, -2.5231e-01,\n         2.0841e-01,  4.0573e-01, -3.0170e-01,  6.6232e-01,  4.5924e-01,\n        -2.4505e-02,  2.9027e-01,  4.3603e-01, -8.6763e-01,  2.3497e-01,\n         6.5689e-01, -3.6948e-02, -5.8200e-02, -1.4996e-01, -1.0635e+00,\n         1.9546e-01,  1.7884e-01, -4.1895e-01, -1.2793e-01,  4.4218e-01,\n        -9.0998e-01,  1.9917e-01,  4.7140e-01, -8.2923e-01, -4.8776e-01,\n         1.4749e-01, -3.3495e-01, -4.6390e-01, -9.0634e-02, -6.6519e-01,\n         7.2239e-02,  3.5400e-01, -8.4653e-01,  3.7681e-01,  2.3432e-01,\n         1.7783e-01,  3.9690e-02,  2.5658e-02,  6.3386e-01, -3.9494e-01,\n        -4.3192e-02,  2.6470e-01, -2.1356e-01, -4.2141e-01, -3.3503e-02,\n         4.5262e-01, -5.9143e-02,  5.3204e-01,  2.6143e-01,  8.2191e-01,\n        -2.8924e-02, -6.7508e-01, -2.3602e-01,  1.2202e-01,  4.4009e-01,\n        -9.2478e-01,  2.1572e-01,  2.4378e-01,  6.1115e-02, -5.7138e-01,\n        -5.0124e-01,  6.8947e-01, -1.3051e-01,  1.1107e-01,  1.9433e-02,\n        -4.2456e-01,  6.7350e-01,  7.1933e-01, -1.3813e-01, -1.6235e-01,\n         8.9807e-01,  6.7443e-01,  2.7224e-01, -5.6567e-01, -4.1620e-01,\n         2.4768e-01, -2.6947e-02, -2.9330e-01, -1.4177e-01,  6.7303e-01,\n        -2.1976e-02, -5.7909e-01, -6.9786e-01,  1.5073e+00,  1.1618e+00,\n        -2.2080e-01, -6.6806e-01,  2.6299e-01, -1.5917e-02, -3.9291e-01,\n         2.4765e-01, -7.2480e-01,  9.0370e-01, -2.8857e-01, -2.1109e-01,\n        -3.2242e-01,  4.3697e-01,  8.6358e-01, -1.7162e-02,  2.6060e-01,\n        -4.7218e-02, -3.7399e-01, -1.9928e-01, -5.2313e-01,  6.3539e-01,\n         1.7907e-01, -3.6916e-01,  3.8229e-01,  3.7985e-01,  1.3078e-01,\n         2.8356e-01, -3.9916e-01,  1.2467e+00, -7.0442e-01, -9.1238e-02,\n         2.7948e-01,  3.7071e-01, -4.8416e-01,  3.0498e-01, -3.8631e-01,\n        -4.3647e-01, -2.2701e-01,  1.7423e-01,  1.1603e-01, -5.2579e-01,\n         4.8158e-01, -5.9443e-02, -2.5014e-01,  6.0271e-01,  1.8537e-02,\n        -1.8035e-01,  3.8543e-01,  3.4542e-01, -2.9603e-01, -6.8103e-02,\n        -2.0732e-01,  6.7647e-01, -2.1114e-01, -6.3621e-01,  4.8532e-01,\n         4.0133e-01,  2.0924e-01, -9.8137e-02,  9.1959e-02,  2.9928e-01,\n         6.2606e-01, -4.1554e-01, -6.3427e-02, -4.4514e-01, -1.8517e-01,\n         5.6285e-01,  2.8982e-01, -2.3079e-01, -5.7665e-01,  1.0370e+00,\n         7.4114e-01,  7.4572e-02,  5.6944e-01, -5.1627e-01,  5.1249e-01,\n         9.1332e-02, -5.3119e-01, -2.1344e+00,  1.2020e-01,  5.9702e-01,\n         2.7099e-01,  3.7422e-01,  9.3681e-01,  3.5162e-01,  3.5978e-02,\n         2.4112e-01,  3.8652e-01,  7.4705e-01,  3.0475e-01,  4.9180e-01,\n         1.6494e-02,  3.0880e-01,  4.1235e-01,  4.2150e-01, -7.9015e-01,\n        -3.4576e-01, -3.5547e-01,  3.0056e-01, -8.5013e-02,  8.2072e-01,\n        -1.3895e+00, -6.3416e-01,  3.7246e-02, -7.3585e-02, -2.5993e-01,\n        -1.9754e-01, -9.5113e-02, -2.0810e-01, -1.3808e-01,  2.0543e-01,\n         2.4087e-01,  1.9564e-01, -5.4238e-01, -2.8531e-01,  3.1720e-01,\n         6.9587e-01,  2.8638e-01,  3.4255e-01,  1.1064e+00, -5.0137e-01,\n        -4.2167e-01, -4.6307e-01,  1.1306e-01, -1.0600e-03,  2.1978e-02,\n         9.6045e-03, -9.1354e-02,  1.3596e-01,  3.4259e-01,  2.2004e-01,\n         3.8647e-01,  3.4387e-01, -1.3143e-01, -1.7151e-01, -1.2886e-02,\n        -1.1356e-01, -5.0032e-01,  9.8610e-02,  3.2815e-01,  4.0266e-01,\n        -4.0521e-01,  7.7180e-01, -9.1947e-01, -2.5562e-01,  2.9822e-01,\n        -6.9234e-03,  3.7165e-01, -2.6673e-01, -3.9439e-01,  4.1092e-01,\n         2.7959e-01, -4.3032e-01,  5.4515e-01,  4.4880e-01,  8.9054e-02,\n         8.6575e-01,  2.0555e-01, -3.7057e-01,  1.1174e+00, -4.5989e-01,\n        -2.5864e-01,  7.1212e-02, -6.9087e+00, -4.4154e-01, -7.2722e-01,\n         4.0432e-01,  2.0531e-01, -1.5756e-01, -5.9716e-01,  5.2506e-01,\n         1.5421e-01,  2.2587e-01,  1.3691e-02,  4.1956e-01,  2.9722e-01,\n        -3.8847e-01,  2.9550e-01,  9.9017e-01])"
     },
     "execution_count": 119,
     "metadata": {},
     "output_type": "execute_result"
    }
   ],
   "source": [
    "len(sentences_cls)\n",
    "sentences_cls[0]"
   ],
   "metadata": {
    "collapsed": false,
    "pycharm": {
     "name": "#%%\n"
    }
   }
  },
  {
   "cell_type": "code",
   "execution_count": 120,
   "id": "worse-calcium",
   "metadata": {},
   "outputs": [
    {
     "name": "stdout",
     "output_type": "stream",
     "text": [
      "[[1.0, 0.9455853700637817, 0.9646619558334351, 0.8514178991317749, 0.8286489248275757, 0.9401548504829407, 0.9227976202964783, 0.9353488087654114, 0.9003757238388062, 0.8708136081695557, 0.9646222591400146, 0.9289807677268982, 0.8759903907775879, 0.870566725730896, 0.88913494348526, 0.9722212553024292, 0.8038939833641052, 0.7822104096412659, 0.7883208990097046, 0.8124408721923828, 0.8199416399002075, 0.8976421356201172, 0.875326931476593, 0.8014339208602905, 0.8331339955329895, 0.8581059575080872, 0.815019965171814, 0.8298882246017456, 0.8301887512207031, 0.8170695304870605, 0.7577216029167175, 0.7726884484291077, 0.7968733310699463, 0.8189309239387512, 0.8209186792373657], [0.9455853700637817, 1.0, 0.9564514756202698, 0.8817493915557861, 0.8290425539016724, 0.9268245697021484, 0.9358603358268738, 0.8994765281677246, 0.91685551404953, 0.8586716651916504, 0.958881139755249, 0.9730361700057983, 0.9118578433990479, 0.9189797639846802, 0.9177204966545105, 0.9352853298187256, 0.7993500232696533, 0.7898556590080261, 0.8016611933708191, 0.7972248792648315, 0.7920941114425659, 0.9072962999343872, 0.8962507843971252, 0.848162829875946, 0.859182596206665, 0.8564857244491577, 0.8511126637458801, 0.8404128551483154, 0.86257404088974, 0.868401050567627, 0.8085996508598328, 0.827061116695404, 0.8473984003067017, 0.8424035310745239, 0.8361530303955078], [0.9646619558334351, 0.9564514756202698, 1.0, 0.9117506742477417, 0.8816899657249451, 0.93951416015625, 0.9621486663818359, 0.9265244007110596, 0.96146160364151, 0.8821805119514465, 0.9718308448791504, 0.948294997215271, 0.9182114005088806, 0.9269350171089172, 0.9569569230079651, 0.9597517848014832, 0.8609095811843872, 0.8516212701797485, 0.859977126121521, 0.8403399586677551, 0.8404905796051025, 0.9216599464416504, 0.9164484143257141, 0.8451418876647949, 0.8621219396591187, 0.8775164484977722, 0.8542197346687317, 0.8507410287857056, 0.8655115365982056, 0.8722650408744812, 0.8007721304893494, 0.828484296798706, 0.8410305380821228, 0.8598226308822632, 0.8459930419921875], [0.8514178991317749, 0.8817493915557861, 0.9117506742477417, 1.0, 0.9396190047264099, 0.8537359833717346, 0.8725475668907166, 0.8441326022148132, 0.9325941205024719, 0.845893383026123, 0.9019992351531982, 0.8924017548561096, 0.9395023584365845, 0.9677861928939819, 0.932820200920105, 0.850202202796936, 0.8343726992607117, 0.844558835029602, 0.8600440621376038, 0.8154052495956421, 0.809066116809845, 0.8793718218803406, 0.9007810950279236, 0.8569075465202332, 0.842727541923523, 0.8291757702827454, 0.834986686706543, 0.8130488395690918, 0.8379970192909241, 0.8675832748413086, 0.8011590838432312, 0.8495943546295166, 0.8469591736793518, 0.8250473737716675, 0.8087084889411926], [0.8286489248275757, 0.8290425539016724, 0.8816899657249451, 0.9396190047264099, 1.0, 0.8408747315406799, 0.8500581979751587, 0.78173828125, 0.87982577085495, 0.8023076057434082, 0.8760204911231995, 0.8486009240150452, 0.8745188117027283, 0.9008713364601135, 0.8785331845283508, 0.8288041353225708, 0.7907533645629883, 0.7883694767951965, 0.7938926815986633, 0.7763190269470215, 0.7696205377578735, 0.8392195701599121, 0.8623226284980774, 0.7942628264427185, 0.7918888926506042, 0.7925392985343933, 0.772922694683075, 0.7636736035346985, 0.7791312336921692, 0.8073133826255798, 0.7490166425704956, 0.7955336570739746, 0.7800734639167786, 0.7697615623474121, 0.7645108699798584], [0.9401548504829407, 0.9268245697021484, 0.93951416015625, 0.8537359833717346, 0.8408747315406799, 1.0, 0.9734714031219482, 0.90886390209198, 0.8877175450325012, 0.8727378845214844, 0.9342760443687439, 0.9175242781639099, 0.8712759613990784, 0.8676888346672058, 0.8789346218109131, 0.9184009432792664, 0.8414502143859863, 0.8183336853981018, 0.8227121829986572, 0.8451150059700012, 0.8495284914970398, 0.8932444453239441, 0.8777415156364441, 0.8348456621170044, 0.8603562116622925, 0.8704407215118408, 0.8291288614273071, 0.8403359651565552, 0.8463572263717651, 0.8388330936431885, 0.7953411340713501, 0.8098407983779907, 0.8282479643821716, 0.8329641222953796, 0.8364284634590149], [0.9227976202964783, 0.9358603358268738, 0.9621486663818359, 0.8725475668907166, 0.8500581979751587, 0.9734714031219482, 1.0, 0.9043192267417908, 0.919624388217926, 0.874465823173523, 0.9368659853935242, 0.9305446147918701, 0.8848846554756165, 0.8910646438598633, 0.9181888103485107, 0.9193911552429199, 0.8649221658706665, 0.8514696955680847, 0.857580840587616, 0.845145583152771, 0.8444819450378418, 0.9094635844230652, 0.8999601602554321, 0.8497472405433655, 0.8683227300643921, 0.8818307518959045, 0.8565822839736938, 0.8525791764259338, 0.8751255869865417, 0.8687487840652466, 0.8173546195030212, 0.8364943265914917, 0.8479936122894287, 0.8605117201805115, 0.8518143892288208], [0.9353488087654114, 0.8994765281677246, 0.9265244007110596, 0.8441326022148132, 0.78173828125, 0.90886390209198, 0.9043192267417908, 1.0, 0.891063928604126, 0.8825092911720276, 0.917456328868866, 0.8905618786811829, 0.8670179843902588, 0.8611140847206116, 0.8849491477012634, 0.9137923717498779, 0.8255732655525208, 0.8181695938110352, 0.8281559348106384, 0.8228050470352173, 0.8303832411766052, 0.8888195157051086, 0.8685264587402344, 0.8085405230522156, 0.8346828818321228, 0.8638315200805664, 0.828829288482666, 0.8421880006790161, 0.8555469512939453, 0.8424479365348816, 0.7710152268409729, 0.7955007553100586, 0.8055474162101746, 0.8428678512573242, 0.8303666114807129], [0.9003757238388062, 0.91685551404953, 0.96146160364151, 0.9325941205024719, 0.87982577085495, 0.8877175450325012, 0.919624388217926, 0.891063928604126, 1.0, 0.8520733118057251, 0.9243918657302856, 0.9070565700531006, 0.9046047329902649, 0.9233579635620117, 0.9927845597267151, 0.9042631387710571, 0.8443352580070496, 0.867443323135376, 0.8886503577232361, 0.8113538026809692, 0.8078297972679138, 0.8959892392158508, 0.9018006920814514, 0.857366144657135, 0.8507790565490723, 0.8405206799507141, 0.8447476625442505, 0.8298203945159912, 0.8531520962715149, 0.8818076848983765, 0.8021602034568787, 0.8464593291282654, 0.850296139717102, 0.8602010607719421, 0.8253777027130127], [0.8708136081695557, 0.8586716651916504, 0.8821805119514465, 0.845893383026123, 0.8023076057434082, 0.8727378845214844, 0.874465823173523, 0.8825092911720276, 0.8520733118057251, 1.0, 0.9016528725624084, 0.8840904235839844, 0.8798795342445374, 0.8713952302932739, 0.8500168323516846, 0.8613604307174683, 0.882771909236908, 0.8656867742538452, 0.872377872467041, 0.8868458271026611, 0.8929175734519958, 0.9514316320419312, 0.911845326423645, 0.8512049913406372, 0.8703445196151733, 0.9454559087753296, 0.8731416463851929, 0.9230835437774658, 0.9001690745353699, 0.8925411105155945, 0.8370197415351868, 0.8335409164428711, 0.8541609048843384, 0.9136974811553955, 0.9161739945411682], [0.9646222591400146, 0.958881139755249, 0.9718308448791504, 0.9019992351531982, 0.8760204911231995, 0.9342760443687439, 0.9368659853935242, 0.917456328868866, 0.9243918657302856, 0.9016528725624084, 1.0, 0.9748114943504333, 0.9356526136398315, 0.9368680715560913, 0.9230576157569885, 0.9526842832565308, 0.8315664529800415, 0.8186314105987549, 0.8273808360099792, 0.8287562131881714, 0.8291242718696594, 0.9354851841926575, 0.9149104356765747, 0.859394907951355, 0.8728238940238953, 0.887262225151062, 0.8613804578781128, 0.8628182411193848, 0.8717494010925293, 0.8822748064994812, 0.8214314579963684, 0.8403781056404114, 0.8592587113380432, 0.8595587611198425, 0.8594894409179688], [0.9289807677268982, 0.9730361700057983, 0.948294997215271, 0.8924017548561096, 0.8486009240150452, 0.9175242781639099, 0.9305446147918701, 0.8905618786811829, 0.9070565700531006, 0.8840904235839844, 0.9748114943504333, 1.0, 0.9226900935173035, 0.93671715259552, 0.908161997795105, 0.9250255823135376, 0.8114455342292786, 0.7988231778144836, 0.8124939799308777, 0.8019009232521057, 0.7992579340934753, 0.9305189847946167, 0.9150687456130981, 0.8759851455688477, 0.8813420534133911, 0.8817093968391418, 0.880607545375824, 0.8651731610298157, 0.8836449384689331, 0.9007103443145752, 0.8489010334014893, 0.8633326888084412, 0.8797454833984375, 0.865385890007019, 0.8635656833648682], [0.8759903907775879, 0.9118578433990479, 0.9182114005088806, 0.9395023584365845, 0.8745188117027283, 0.8712759613990784, 0.8848846554756165, 0.8670179843902588, 0.9046047329902649, 0.8798795342445374, 0.9356526136398315, 0.9226900935173035, 1.0, 0.9816993474960327, 0.9103280901908875, 0.87165766954422, 0.8351223468780518, 0.8322964310646057, 0.8430323600769043, 0.830439567565918, 0.8264883756637573, 0.8954693078994751, 0.9034529328346252, 0.8422670960426331, 0.844340980052948, 0.8576275110244751, 0.8406460285186768, 0.8349029421806335, 0.8526689410209656, 0.866611897945404, 0.7987209558486938, 0.8323137760162354, 0.8397670984268188, 0.8401296734809875, 0.8305375576019287], [0.870566725730896, 0.9189797639846802, 0.9269350171089172, 0.9677861928939819, 0.9008713364601135, 0.8676888346672058, 0.8910646438598633, 0.8611140847206116, 0.9233579635620117, 0.8713952302932739, 0.9368680715560913, 0.93671715259552, 0.9816993474960327, 1.0, 0.9293289184570312, 0.8767269849777222, 0.8352319002151489, 0.8380308151245117, 0.8525133728981018, 0.8241916298866272, 0.8140288591384888, 0.9052972197532654, 0.911872386932373, 0.8708749413490295, 0.8623757362365723, 0.8565705418586731, 0.858738124370575, 0.8392874598503113, 0.8660184144973755, 0.8923607468605042, 0.8281768560409546, 0.8601920008659363, 0.8697493076324463, 0.8493605852127075, 0.8383156061172485], [0.88913494348526, 0.9177204966545105, 0.9569569230079651, 0.932820200920105, 0.8785331845283508, 0.8789346218109131, 0.9181888103485107, 0.8849491477012634, 0.9927845597267151, 0.8500168323516846, 0.9230576157569885, 0.908161997795105, 0.9103280901908875, 0.9293289184570312, 1.0, 0.9080406427383423, 0.8453202843666077, 0.8726094365119934, 0.886605441570282, 0.8165929913520813, 0.8052873015403748, 0.894698441028595, 0.8990207314491272, 0.8575493097305298, 0.8483102321624756, 0.8425422310829163, 0.8446900844573975, 0.8346997499465942, 0.8591609001159668, 0.8803448677062988, 0.8062505125999451, 0.8482335209846497, 0.852539598941803, 0.8648902773857117, 0.8345005512237549], [0.9722212553024292, 0.9352853298187256, 0.9597517848014832, 0.850202202796936, 0.8288041353225708, 0.9184009432792664, 0.9193911552429199, 0.9137923717498779, 0.9042631387710571, 0.8613604307174683, 0.9526842832565308, 0.9250255823135376, 0.87165766954422, 0.8767269849777222, 0.9080406427383423, 1.0, 0.8102367520332336, 0.7978664040565491, 0.7994698286056519, 0.8244521021842957, 0.8138607740402222, 0.8939117193222046, 0.8699270486831665, 0.8249959349632263, 0.8412953019142151, 0.8603771924972534, 0.8286065459251404, 0.8420774936676025, 0.8477134108543396, 0.8234130144119263, 0.7852026224136353, 0.795826256275177, 0.8212181925773621, 0.8333714008331299, 0.8469259142875671], [0.8038939833641052, 0.7993500232696533, 0.8609095811843872, 0.8343726992607117, 0.7907533645629883, 0.8414502143859863, 0.8649221658706665, 0.8255732655525208, 0.8443352580070496, 0.882771909236908, 0.8315664529800415, 0.8114455342292786, 0.8351223468780518, 0.8352319002151489, 0.8453202843666077, 0.8102367520332336, 1.0, 0.9780153632164001, 0.9670138955116272, 0.971379280090332, 0.9770835041999817, 0.8450275659561157, 0.8346511721611023, 0.810555100440979, 0.8319282531738281, 0.8874210119247437, 0.7958473563194275, 0.8582330942153931, 0.8322960734367371, 0.8015677332878113, 0.7554311156272888, 0.7786901593208313, 0.7955554127693176, 0.8592321872711182, 0.8538030982017517], [0.7822104096412659, 0.7898556590080261, 0.8516212701797485, 0.844558835029602, 0.7883694767951965, 0.8183336853981018, 0.8514696955680847, 0.8181695938110352, 0.867443323135376, 0.8656867742538452, 0.8186314105987549, 0.7988231778144836, 0.8322964310646057, 0.8380308151245117, 0.8726094365119934, 0.7978664040565491, 0.9780153632164001, 1.0, 0.9904729127883911, 0.9460789561271667, 0.9431284666061401, 0.8344496488571167, 0.8314235210418701, 0.8117424249649048, 0.8177764415740967, 0.8649881482124329, 0.7840778231620789, 0.8489492535591125, 0.8269882798194885, 0.8070966005325317, 0.7555243968963623, 0.7891377806663513, 0.7990253567695618, 0.8654361367225647, 0.8456433415412903], [0.7883208990097046, 0.8016611933708191, 0.859977126121521, 0.8600440621376038, 0.7938926815986633, 0.8227121829986572, 0.857580840587616, 0.8281559348106384, 0.8886503577232361, 0.872377872467041, 0.8273808360099792, 0.8124939799308777, 0.8430323600769043, 0.8525133728981018, 0.886605441570282, 0.7994698286056519, 0.9670138955116272, 0.9904729127883911, 1.0, 0.9262146949768066, 0.9305656552314758, 0.847922682762146, 0.8452717065811157, 0.8308725357055664, 0.8306826949119568, 0.8593652248382568, 0.800385057926178, 0.8478870987892151, 0.8364956378936768, 0.8344438672065735, 0.7700434923171997, 0.8122020363807678, 0.819827139377594, 0.8703000545501709, 0.8425227999687195], [0.8124408721923828, 0.7972248792648315, 0.8403399586677551, 0.8154052495956421, 0.7763190269470215, 0.8451150059700012, 0.845145583152771, 0.8228050470352173, 0.8113538026809692, 0.8868458271026611, 0.8287562131881714, 0.8019009232521057, 0.830439567565918, 0.8241916298866272, 0.8165929913520813, 0.8244521021842957, 0.971379280090332, 0.9460789561271667, 0.9262146949768066, 1.0, 0.988221287727356, 0.8336882591247559, 0.8138908743858337, 0.8174914121627808, 0.841933012008667, 0.8896746039390564, 0.7917280793190002, 0.8542600274085999, 0.822029709815979, 0.7725966572761536, 0.764117419719696, 0.7695929408073425, 0.7978543639183044, 0.8379961848258972, 0.8545047640800476], [0.8199416399002075, 0.7920941114425659, 0.8404905796051025, 0.809066116809845, 0.7696205377578735, 0.8495284914970398, 0.8444819450378418, 0.8303832411766052, 0.8078297972679138, 0.8929175734519958, 0.8291242718696594, 0.7992579340934753, 0.8264883756637573, 0.8140288591384888, 0.8052873015403748, 0.8138607740402222, 0.9770835041999817, 0.9431284666061401, 0.9305656552314758, 0.988221287727356, 1.0, 0.8333603739738464, 0.8113191723823547, 0.7987736463546753, 0.8305073976516724, 0.8880431652069092, 0.7799169421195984, 0.855042576789856, 0.8156786561012268, 0.7693315148353577, 0.7417328953742981, 0.7531756162643433, 0.7804179787635803, 0.8391270637512207, 0.8480837345123291], [0.8976421356201172, 0.9072962999343872, 0.9216599464416504, 0.8793718218803406, 0.8392195701599121, 0.8932444453239441, 0.9094635844230652, 0.8888195157051086, 0.8959892392158508, 0.9514316320419312, 0.9354851841926575, 0.9305189847946167, 0.8954693078994751, 0.9052972197532654, 0.894698441028595, 0.8939117193222046, 0.8450275659561157, 0.8344496488571167, 0.847922682762146, 0.8336882591247559, 0.8333603739738464, 1.0, 0.9560397863388062, 0.8786929845809937, 0.889842689037323, 0.9450568556785583, 0.9103565812110901, 0.9201772809028625, 0.9286689758300781, 0.9392609000205994, 0.8692330718040466, 0.8726446628570557, 0.8876701593399048, 0.922161877155304, 0.9149651527404785], [0.875326931476593, 0.8962507843971252, 0.9164484143257141, 0.9007810950279236, 0.8623226284980774, 0.8777415156364441, 0.8999601602554321, 0.8685264587402344, 0.9018006920814514, 0.911845326423645, 0.9149104356765747, 0.9150687456130981, 0.9034529328346252, 0.911872386932373, 0.8990207314491272, 0.8699270486831665, 0.8346511721611023, 0.8314235210418701, 0.8452717065811157, 0.8138908743858337, 0.8113191723823547, 0.9560397863388062, 1.0, 0.8579339981079102, 0.8660251498222351, 0.8984771966934204, 0.9144673347473145, 0.8804272413253784, 0.9107670783996582, 0.9258190393447876, 0.8525766134262085, 0.8876209259033203, 0.86036217212677, 0.8924856185913086, 0.8738481402397156], [0.8014339208602905, 0.848162829875946, 0.8451418876647949, 0.8569075465202332, 0.7942628264427185, 0.8348456621170044, 0.8497472405433655, 0.8085405230522156, 0.857366144657135, 0.8512049913406372, 0.859394907951355, 0.8759851455688477, 0.8422670960426331, 0.8708749413490295, 0.8575493097305298, 0.8249959349632263, 0.810555100440979, 0.8117424249649048, 0.8308725357055664, 0.8174914121627808, 0.7987736463546753, 0.8786929845809937, 0.8579339981079102, 1.0, 0.9554324746131897, 0.8608139753341675, 0.9168187975883484, 0.8643624186515808, 0.8894457221031189, 0.8974994421005249, 0.94740229845047, 0.9406238198280334, 0.9780699014663696, 0.8655960559844971, 0.8713394403457642], [0.8331339955329895, 0.859182596206665, 0.8621219396591187, 0.842727541923523, 0.7918888926506042, 0.8603562116622925, 0.8683227300643921, 0.8346828818321228, 0.8507790565490723, 0.8703445196151733, 0.8728238940238953, 0.8813420534133911, 0.844340980052948, 0.8623757362365723, 0.8483102321624756, 0.8412953019142151, 0.8319282531738281, 0.8177764415740967, 0.8306826949119568, 0.841933012008667, 0.8305073976516724, 0.889842689037323, 0.8660251498222351, 0.9554324746131897, 1.0, 0.8827890753746033, 0.923439621925354, 0.8692343235015869, 0.8822827339172363, 0.8873589038848877, 0.923335075378418, 0.9000805616378784, 0.937309205532074, 0.8633694052696228, 0.8725625872612], [0.8581059575080872, 0.8564857244491577, 0.8775164484977722, 0.8291757702827454, 0.7925392985343933, 0.8704407215118408, 0.8818307518959045, 0.8638315200805664, 0.8405206799507141, 0.9454559087753296, 0.887262225151062, 0.8817093968391418, 0.8576275110244751, 0.8565705418586731, 0.8425422310829163, 0.8603771924972534, 0.8874210119247437, 0.8649881482124329, 0.8593652248382568, 0.8896746039390564, 0.8880431652069092, 0.9450568556785583, 0.8984771966934204, 0.8608139753341675, 0.8827890753746033, 1.0, 0.9000753164291382, 0.9564154148101807, 0.9324216246604919, 0.8779216408729553, 0.8510173559188843, 0.8389682769775391, 0.8652994632720947, 0.937977135181427, 0.9519217014312744], [0.815019965171814, 0.8511126637458801, 0.8542197346687317, 0.834986686706543, 0.772922694683075, 0.8291288614273071, 0.8565822839736938, 0.828829288482666, 0.8447476625442505, 0.8731416463851929, 0.8613804578781128, 0.880607545375824, 0.8406460285186768, 0.858738124370575, 0.8446900844573975, 0.8286065459251404, 0.7958473563194275, 0.7840778231620789, 0.800385057926178, 0.7917280793190002, 0.7799169421195984, 0.9103565812110901, 0.9144673347473145, 0.9168187975883484, 0.923439621925354, 0.9000753164291382, 1.0, 0.8796876072883606, 0.9293597340583801, 0.9154884815216064, 0.9380812048912048, 0.9266049265861511, 0.9182693958282471, 0.8795590400695801, 0.8793002367019653], [0.8298882246017456, 0.8404128551483154, 0.8507410287857056, 0.8130488395690918, 0.7636736035346985, 0.8403359651565552, 0.8525791764259338, 0.8421880006790161, 0.8298203945159912, 0.9230835437774658, 0.8628182411193848, 0.8651731610298157, 0.8349029421806335, 0.8392874598503113, 0.8346997499465942, 0.8420774936676025, 0.8582330942153931, 0.8489492535591125, 0.8478870987892151, 0.8542600274085999, 0.855042576789856, 0.9201772809028625, 0.8804272413253784, 0.8643624186515808, 0.8692343235015869, 0.9564154148101807, 0.8796876072883606, 1.0, 0.9593015313148499, 0.8919140696525574, 0.850333571434021, 0.8404303193092346, 0.8683963418006897, 0.9856245517730713, 0.9951815605163574], [0.8301887512207031, 0.86257404088974, 0.8655115365982056, 0.8379970192909241, 0.7791312336921692, 0.8463572263717651, 0.8751255869865417, 0.8555469512939453, 0.8531520962715149, 0.9001690745353699, 0.8717494010925293, 0.8836449384689331, 0.8526689410209656, 0.8660184144973755, 0.8591609001159668, 0.8477134108543396, 0.8322960734367371, 0.8269882798194885, 0.8364956378936768, 0.822029709815979, 0.8156786561012268, 0.9286689758300781, 0.9107670783996582, 0.8894457221031189, 0.8822827339172363, 0.9324216246604919, 0.9293597340583801, 0.9593015313148499, 1.0, 0.9233680963516235, 0.8906828761100769, 0.8909297585487366, 0.8988790512084961, 0.9577057361602783, 0.956938624382019], [0.8170695304870605, 0.868401050567627, 0.8722650408744812, 0.8675832748413086, 0.8073133826255798, 0.8388330936431885, 0.8687487840652466, 0.8424479365348816, 0.8818076848983765, 0.8925411105155945, 0.8822748064994812, 0.9007103443145752, 0.866611897945404, 0.8923607468605042, 0.8803448677062988, 0.8234130144119263, 0.8015677332878113, 0.8070966005325317, 0.8344438672065735, 0.7725966572761536, 0.7693315148353577, 0.9392609000205994, 0.9258190393447876, 0.8974994421005249, 0.8873589038848877, 0.8779216408729553, 0.9154884815216064, 0.8919140696525574, 0.9233680963516235, 1.0, 0.8870351910591125, 0.9109509587287903, 0.9131712317466736, 0.9141591191291809, 0.886834979057312], [0.7577216029167175, 0.8085996508598328, 0.8007721304893494, 0.8011590838432312, 0.7490166425704956, 0.7953411340713501, 0.8173546195030212, 0.7710152268409729, 0.8021602034568787, 0.8370197415351868, 0.8214314579963684, 0.8489010334014893, 0.7987209558486938, 0.8281768560409546, 0.8062505125999451, 0.7852026224136353, 0.7554311156272888, 0.7555243968963623, 0.7700434923171997, 0.764117419719696, 0.7417328953742981, 0.8692330718040466, 0.8525766134262085, 0.94740229845047, 0.923335075378418, 0.8510173559188843, 0.9380812048912048, 0.850333571434021, 0.8906828761100769, 0.8870351910591125, 1.0, 0.9376676678657532, 0.9517408609390259, 0.8505362868309021, 0.8598715662956238], [0.7726884484291077, 0.827061116695404, 0.828484296798706, 0.8495943546295166, 0.7955336570739746, 0.8098407983779907, 0.8364943265914917, 0.7955007553100586, 0.8464593291282654, 0.8335409164428711, 0.8403781056404114, 0.8633326888084412, 0.8323137760162354, 0.8601920008659363, 0.8482335209846497, 0.795826256275177, 0.7786901593208313, 0.7891377806663513, 0.8122020363807678, 0.7695929408073425, 0.7531756162643433, 0.8726446628570557, 0.8876209259033203, 0.9406238198280334, 0.9000805616378784, 0.8389682769775391, 0.9266049265861511, 0.8404303193092346, 0.8909297585487366, 0.9109509587287903, 0.9376676678657532, 1.0, 0.9511421322822571, 0.8531756401062012, 0.846380352973938], [0.7968733310699463, 0.8473984003067017, 0.8410305380821228, 0.8469591736793518, 0.7800734639167786, 0.8282479643821716, 0.8479936122894287, 0.8055474162101746, 0.850296139717102, 0.8541609048843384, 0.8592587113380432, 0.8797454833984375, 0.8397670984268188, 0.8697493076324463, 0.852539598941803, 0.8212181925773621, 0.7955554127693176, 0.7990253567695618, 0.819827139377594, 0.7978543639183044, 0.7804179787635803, 0.8876701593399048, 0.86036217212677, 0.9780699014663696, 0.937309205532074, 0.8652994632720947, 0.9182693958282471, 0.8683963418006897, 0.8988790512084961, 0.9131712317466736, 0.9517408609390259, 0.9511421322822571, 1.0, 0.8699806928634644, 0.8750476241111755], [0.8189309239387512, 0.8424035310745239, 0.8598226308822632, 0.8250473737716675, 0.7697615623474121, 0.8329641222953796, 0.8605117201805115, 0.8428678512573242, 0.8602010607719421, 0.9136974811553955, 0.8595587611198425, 0.865385890007019, 0.8401296734809875, 0.8493605852127075, 0.8648902773857117, 0.8333714008331299, 0.8592321872711182, 0.8654361367225647, 0.8703000545501709, 0.8379961848258972, 0.8391270637512207, 0.922161877155304, 0.8924856185913086, 0.8655960559844971, 0.8633694052696228, 0.937977135181427, 0.8795590400695801, 0.9856245517730713, 0.9577057361602783, 0.9141591191291809, 0.8505362868309021, 0.8531756401062012, 0.8699806928634644, 1.0, 0.9796444773674011], [0.8209186792373657, 0.8361530303955078, 0.8459930419921875, 0.8087084889411926, 0.7645108699798584, 0.8364284634590149, 0.8518143892288208, 0.8303666114807129, 0.8253777027130127, 0.9161739945411682, 0.8594894409179688, 0.8635656833648682, 0.8305375576019287, 0.8383156061172485, 0.8345005512237549, 0.8469259142875671, 0.8538030982017517, 0.8456433415412903, 0.8425227999687195, 0.8545047640800476, 0.8480837345123291, 0.9149651527404785, 0.8738481402397156, 0.8713394403457642, 0.8725625872612, 0.9519217014312744, 0.8793002367019653, 0.9951815605163574, 0.956938624382019, 0.886834979057312, 0.8598715662956238, 0.846380352973938, 0.8750476241111755, 0.9796444773674011, 1.0]]\n"
     ]
    }
   ],
   "source": [
    "cos_sims = [[cos(cls_a, cls_b).item() for cls_b in sentences_cls] for cls_a in sentences_cls]\n",
    "print(cos_sims)"
   ]
  },
  {
   "cell_type": "code",
   "execution_count": 45,
   "outputs": [
    {
     "name": "stdout",
     "output_type": "stream",
     "text": [
      "[1.0, 0.9455853700637817, 0.9646619558334351, 0.8514178991317749, 0.8286489248275757, 0.9401548504829407, 0.9227976202964783, 0.9353488087654114, 0.9003757238388062, 0.8708136081695557, 0.9646222591400146, 0.9289807677268982, 0.8759903907775879, 0.870566725730896, 0.88913494348526, 0.9722212553024292, 0.8038939833641052, 0.7822104096412659, 0.7883208990097046, 0.8124408721923828, 0.8199416399002075, 0.8976421356201172, 0.875326931476593, 0.8014339208602905, 0.8331339955329895, 0.8581059575080872, 0.815019965171814, 0.8298882246017456, 0.8301887512207031, 0.8170695304870605, 0.7577216029167175, 0.7726884484291077, 0.7968733310699463, 0.8189309239387512, 0.8209186792373657]\n",
      "[0.9455853700637817, 1.0, 0.9564514756202698, 0.8817493915557861, 0.8290425539016724, 0.9268245697021484, 0.9358603358268738, 0.8994765281677246, 0.91685551404953, 0.8586716651916504, 0.958881139755249, 0.9730361700057983, 0.9118578433990479, 0.9189797639846802, 0.9177204966545105, 0.9352853298187256, 0.7993500232696533, 0.7898556590080261, 0.8016611933708191, 0.7972248792648315, 0.7920941114425659, 0.9072962999343872, 0.8962507843971252, 0.848162829875946, 0.859182596206665, 0.8564857244491577, 0.8511126637458801, 0.8404128551483154, 0.86257404088974, 0.868401050567627, 0.8085996508598328, 0.827061116695404, 0.8473984003067017, 0.8424035310745239, 0.8361530303955078]\n",
      "[0.9646619558334351, 0.9564514756202698, 1.0, 0.9117506742477417, 0.8816899657249451, 0.93951416015625, 0.9621486663818359, 0.9265244007110596, 0.96146160364151, 0.8821805119514465, 0.9718308448791504, 0.948294997215271, 0.9182114005088806, 0.9269350171089172, 0.9569569230079651, 0.9597517848014832, 0.8609095811843872, 0.8516212701797485, 0.859977126121521, 0.8403399586677551, 0.8404905796051025, 0.9216599464416504, 0.9164484143257141, 0.8451418876647949, 0.8621219396591187, 0.8775164484977722, 0.8542197346687317, 0.8507410287857056, 0.8655115365982056, 0.8722650408744812, 0.8007721304893494, 0.828484296798706, 0.8410305380821228, 0.8598226308822632, 0.8459930419921875]\n",
      "[0.8514178991317749, 0.8817493915557861, 0.9117506742477417, 1.0, 0.9396190047264099, 0.8537359833717346, 0.8725475668907166, 0.8441326022148132, 0.9325941205024719, 0.845893383026123, 0.9019992351531982, 0.8924017548561096, 0.9395023584365845, 0.9677861928939819, 0.932820200920105, 0.850202202796936, 0.8343726992607117, 0.844558835029602, 0.8600440621376038, 0.8154052495956421, 0.809066116809845, 0.8793718218803406, 0.9007810950279236, 0.8569075465202332, 0.842727541923523, 0.8291757702827454, 0.834986686706543, 0.8130488395690918, 0.8379970192909241, 0.8675832748413086, 0.8011590838432312, 0.8495943546295166, 0.8469591736793518, 0.8250473737716675, 0.8087084889411926]\n",
      "[0.8286489248275757, 0.8290425539016724, 0.8816899657249451, 0.9396190047264099, 1.0, 0.8408747315406799, 0.8500581979751587, 0.78173828125, 0.87982577085495, 0.8023076057434082, 0.8760204911231995, 0.8486009240150452, 0.8745188117027283, 0.9008713364601135, 0.8785331845283508, 0.8288041353225708, 0.7907533645629883, 0.7883694767951965, 0.7938926815986633, 0.7763190269470215, 0.7696205377578735, 0.8392195701599121, 0.8623226284980774, 0.7942628264427185, 0.7918888926506042, 0.7925392985343933, 0.772922694683075, 0.7636736035346985, 0.7791312336921692, 0.8073133826255798, 0.7490166425704956, 0.7955336570739746, 0.7800734639167786, 0.7697615623474121, 0.7645108699798584]\n",
      "[0.9401548504829407, 0.9268245697021484, 0.93951416015625, 0.8537359833717346, 0.8408747315406799, 1.0, 0.9734714031219482, 0.90886390209198, 0.8877175450325012, 0.8727378845214844, 0.9342760443687439, 0.9175242781639099, 0.8712759613990784, 0.8676888346672058, 0.8789346218109131, 0.9184009432792664, 0.8414502143859863, 0.8183336853981018, 0.8227121829986572, 0.8451150059700012, 0.8495284914970398, 0.8932444453239441, 0.8777415156364441, 0.8348456621170044, 0.8603562116622925, 0.8704407215118408, 0.8291288614273071, 0.8403359651565552, 0.8463572263717651, 0.8388330936431885, 0.7953411340713501, 0.8098407983779907, 0.8282479643821716, 0.8329641222953796, 0.8364284634590149]\n",
      "[0.9227976202964783, 0.9358603358268738, 0.9621486663818359, 0.8725475668907166, 0.8500581979751587, 0.9734714031219482, 1.0, 0.9043192267417908, 0.919624388217926, 0.874465823173523, 0.9368659853935242, 0.9305446147918701, 0.8848846554756165, 0.8910646438598633, 0.9181888103485107, 0.9193911552429199, 0.8649221658706665, 0.8514696955680847, 0.857580840587616, 0.845145583152771, 0.8444819450378418, 0.9094635844230652, 0.8999601602554321, 0.8497472405433655, 0.8683227300643921, 0.8818307518959045, 0.8565822839736938, 0.8525791764259338, 0.8751255869865417, 0.8687487840652466, 0.8173546195030212, 0.8364943265914917, 0.8479936122894287, 0.8605117201805115, 0.8518143892288208]\n",
      "[0.9353488087654114, 0.8994765281677246, 0.9265244007110596, 0.8441326022148132, 0.78173828125, 0.90886390209198, 0.9043192267417908, 1.0, 0.891063928604126, 0.8825092911720276, 0.917456328868866, 0.8905618786811829, 0.8670179843902588, 0.8611140847206116, 0.8849491477012634, 0.9137923717498779, 0.8255732655525208, 0.8181695938110352, 0.8281559348106384, 0.8228050470352173, 0.8303832411766052, 0.8888195157051086, 0.8685264587402344, 0.8085405230522156, 0.8346828818321228, 0.8638315200805664, 0.828829288482666, 0.8421880006790161, 0.8555469512939453, 0.8424479365348816, 0.7710152268409729, 0.7955007553100586, 0.8055474162101746, 0.8428678512573242, 0.8303666114807129]\n",
      "[0.9003757238388062, 0.91685551404953, 0.96146160364151, 0.9325941205024719, 0.87982577085495, 0.8877175450325012, 0.919624388217926, 0.891063928604126, 1.0, 0.8520733118057251, 0.9243918657302856, 0.9070565700531006, 0.9046047329902649, 0.9233579635620117, 0.9927845597267151, 0.9042631387710571, 0.8443352580070496, 0.867443323135376, 0.8886503577232361, 0.8113538026809692, 0.8078297972679138, 0.8959892392158508, 0.9018006920814514, 0.857366144657135, 0.8507790565490723, 0.8405206799507141, 0.8447476625442505, 0.8298203945159912, 0.8531520962715149, 0.8818076848983765, 0.8021602034568787, 0.8464593291282654, 0.850296139717102, 0.8602010607719421, 0.8253777027130127]\n",
      "[0.8708136081695557, 0.8586716651916504, 0.8821805119514465, 0.845893383026123, 0.8023076057434082, 0.8727378845214844, 0.874465823173523, 0.8825092911720276, 0.8520733118057251, 1.0, 0.9016528725624084, 0.8840904235839844, 0.8798795342445374, 0.8713952302932739, 0.8500168323516846, 0.8613604307174683, 0.882771909236908, 0.8656867742538452, 0.872377872467041, 0.8868458271026611, 0.8929175734519958, 0.9514316320419312, 0.911845326423645, 0.8512049913406372, 0.8703445196151733, 0.9454559087753296, 0.8731416463851929, 0.9230835437774658, 0.9001690745353699, 0.8925411105155945, 0.8370197415351868, 0.8335409164428711, 0.8541609048843384, 0.9136974811553955, 0.9161739945411682]\n",
      "[0.9646222591400146, 0.958881139755249, 0.9718308448791504, 0.9019992351531982, 0.8760204911231995, 0.9342760443687439, 0.9368659853935242, 0.917456328868866, 0.9243918657302856, 0.9016528725624084, 1.0, 0.9748114943504333, 0.9356526136398315, 0.9368680715560913, 0.9230576157569885, 0.9526842832565308, 0.8315664529800415, 0.8186314105987549, 0.8273808360099792, 0.8287562131881714, 0.8291242718696594, 0.9354851841926575, 0.9149104356765747, 0.859394907951355, 0.8728238940238953, 0.887262225151062, 0.8613804578781128, 0.8628182411193848, 0.8717494010925293, 0.8822748064994812, 0.8214314579963684, 0.8403781056404114, 0.8592587113380432, 0.8595587611198425, 0.8594894409179688]\n",
      "[0.9289807677268982, 0.9730361700057983, 0.948294997215271, 0.8924017548561096, 0.8486009240150452, 0.9175242781639099, 0.9305446147918701, 0.8905618786811829, 0.9070565700531006, 0.8840904235839844, 0.9748114943504333, 1.0, 0.9226900935173035, 0.93671715259552, 0.908161997795105, 0.9250255823135376, 0.8114455342292786, 0.7988231778144836, 0.8124939799308777, 0.8019009232521057, 0.7992579340934753, 0.9305189847946167, 0.9150687456130981, 0.8759851455688477, 0.8813420534133911, 0.8817093968391418, 0.880607545375824, 0.8651731610298157, 0.8836449384689331, 0.9007103443145752, 0.8489010334014893, 0.8633326888084412, 0.8797454833984375, 0.865385890007019, 0.8635656833648682]\n",
      "[0.8759903907775879, 0.9118578433990479, 0.9182114005088806, 0.9395023584365845, 0.8745188117027283, 0.8712759613990784, 0.8848846554756165, 0.8670179843902588, 0.9046047329902649, 0.8798795342445374, 0.9356526136398315, 0.9226900935173035, 1.0, 0.9816993474960327, 0.9103280901908875, 0.87165766954422, 0.8351223468780518, 0.8322964310646057, 0.8430323600769043, 0.830439567565918, 0.8264883756637573, 0.8954693078994751, 0.9034529328346252, 0.8422670960426331, 0.844340980052948, 0.8576275110244751, 0.8406460285186768, 0.8349029421806335, 0.8526689410209656, 0.866611897945404, 0.7987209558486938, 0.8323137760162354, 0.8397670984268188, 0.8401296734809875, 0.8305375576019287]\n",
      "[0.870566725730896, 0.9189797639846802, 0.9269350171089172, 0.9677861928939819, 0.9008713364601135, 0.8676888346672058, 0.8910646438598633, 0.8611140847206116, 0.9233579635620117, 0.8713952302932739, 0.9368680715560913, 0.93671715259552, 0.9816993474960327, 1.0, 0.9293289184570312, 0.8767269849777222, 0.8352319002151489, 0.8380308151245117, 0.8525133728981018, 0.8241916298866272, 0.8140288591384888, 0.9052972197532654, 0.911872386932373, 0.8708749413490295, 0.8623757362365723, 0.8565705418586731, 0.858738124370575, 0.8392874598503113, 0.8660184144973755, 0.8923607468605042, 0.8281768560409546, 0.8601920008659363, 0.8697493076324463, 0.8493605852127075, 0.8383156061172485]\n",
      "[0.88913494348526, 0.9177204966545105, 0.9569569230079651, 0.932820200920105, 0.8785331845283508, 0.8789346218109131, 0.9181888103485107, 0.8849491477012634, 0.9927845597267151, 0.8500168323516846, 0.9230576157569885, 0.908161997795105, 0.9103280901908875, 0.9293289184570312, 1.0, 0.9080406427383423, 0.8453202843666077, 0.8726094365119934, 0.886605441570282, 0.8165929913520813, 0.8052873015403748, 0.894698441028595, 0.8990207314491272, 0.8575493097305298, 0.8483102321624756, 0.8425422310829163, 0.8446900844573975, 0.8346997499465942, 0.8591609001159668, 0.8803448677062988, 0.8062505125999451, 0.8482335209846497, 0.852539598941803, 0.8648902773857117, 0.8345005512237549]\n",
      "[0.9722212553024292, 0.9352853298187256, 0.9597517848014832, 0.850202202796936, 0.8288041353225708, 0.9184009432792664, 0.9193911552429199, 0.9137923717498779, 0.9042631387710571, 0.8613604307174683, 0.9526842832565308, 0.9250255823135376, 0.87165766954422, 0.8767269849777222, 0.9080406427383423, 1.0, 0.8102367520332336, 0.7978664040565491, 0.7994698286056519, 0.8244521021842957, 0.8138607740402222, 0.8939117193222046, 0.8699270486831665, 0.8249959349632263, 0.8412953019142151, 0.8603771924972534, 0.8286065459251404, 0.8420774936676025, 0.8477134108543396, 0.8234130144119263, 0.7852026224136353, 0.795826256275177, 0.8212181925773621, 0.8333714008331299, 0.8469259142875671]\n",
      "[0.8038939833641052, 0.7993500232696533, 0.8609095811843872, 0.8343726992607117, 0.7907533645629883, 0.8414502143859863, 0.8649221658706665, 0.8255732655525208, 0.8443352580070496, 0.882771909236908, 0.8315664529800415, 0.8114455342292786, 0.8351223468780518, 0.8352319002151489, 0.8453202843666077, 0.8102367520332336, 1.0, 0.9780153632164001, 0.9670138955116272, 0.971379280090332, 0.9770835041999817, 0.8450275659561157, 0.8346511721611023, 0.810555100440979, 0.8319282531738281, 0.8874210119247437, 0.7958473563194275, 0.8582330942153931, 0.8322960734367371, 0.8015677332878113, 0.7554311156272888, 0.7786901593208313, 0.7955554127693176, 0.8592321872711182, 0.8538030982017517]\n",
      "[0.7822104096412659, 0.7898556590080261, 0.8516212701797485, 0.844558835029602, 0.7883694767951965, 0.8183336853981018, 0.8514696955680847, 0.8181695938110352, 0.867443323135376, 0.8656867742538452, 0.8186314105987549, 0.7988231778144836, 0.8322964310646057, 0.8380308151245117, 0.8726094365119934, 0.7978664040565491, 0.9780153632164001, 1.0, 0.9904729127883911, 0.9460789561271667, 0.9431284666061401, 0.8344496488571167, 0.8314235210418701, 0.8117424249649048, 0.8177764415740967, 0.8649881482124329, 0.7840778231620789, 0.8489492535591125, 0.8269882798194885, 0.8070966005325317, 0.7555243968963623, 0.7891377806663513, 0.7990253567695618, 0.8654361367225647, 0.8456433415412903]\n",
      "[0.7883208990097046, 0.8016611933708191, 0.859977126121521, 0.8600440621376038, 0.7938926815986633, 0.8227121829986572, 0.857580840587616, 0.8281559348106384, 0.8886503577232361, 0.872377872467041, 0.8273808360099792, 0.8124939799308777, 0.8430323600769043, 0.8525133728981018, 0.886605441570282, 0.7994698286056519, 0.9670138955116272, 0.9904729127883911, 1.0, 0.9262146949768066, 0.9305656552314758, 0.847922682762146, 0.8452717065811157, 0.8308725357055664, 0.8306826949119568, 0.8593652248382568, 0.800385057926178, 0.8478870987892151, 0.8364956378936768, 0.8344438672065735, 0.7700434923171997, 0.8122020363807678, 0.819827139377594, 0.8703000545501709, 0.8425227999687195]\n",
      "[0.8124408721923828, 0.7972248792648315, 0.8403399586677551, 0.8154052495956421, 0.7763190269470215, 0.8451150059700012, 0.845145583152771, 0.8228050470352173, 0.8113538026809692, 0.8868458271026611, 0.8287562131881714, 0.8019009232521057, 0.830439567565918, 0.8241916298866272, 0.8165929913520813, 0.8244521021842957, 0.971379280090332, 0.9460789561271667, 0.9262146949768066, 1.0, 0.988221287727356, 0.8336882591247559, 0.8138908743858337, 0.8174914121627808, 0.841933012008667, 0.8896746039390564, 0.7917280793190002, 0.8542600274085999, 0.822029709815979, 0.7725966572761536, 0.764117419719696, 0.7695929408073425, 0.7978543639183044, 0.8379961848258972, 0.8545047640800476]\n",
      "[0.8199416399002075, 0.7920941114425659, 0.8404905796051025, 0.809066116809845, 0.7696205377578735, 0.8495284914970398, 0.8444819450378418, 0.8303832411766052, 0.8078297972679138, 0.8929175734519958, 0.8291242718696594, 0.7992579340934753, 0.8264883756637573, 0.8140288591384888, 0.8052873015403748, 0.8138607740402222, 0.9770835041999817, 0.9431284666061401, 0.9305656552314758, 0.988221287727356, 1.0, 0.8333603739738464, 0.8113191723823547, 0.7987736463546753, 0.8305073976516724, 0.8880431652069092, 0.7799169421195984, 0.855042576789856, 0.8156786561012268, 0.7693315148353577, 0.7417328953742981, 0.7531756162643433, 0.7804179787635803, 0.8391270637512207, 0.8480837345123291]\n",
      "[0.8976421356201172, 0.9072962999343872, 0.9216599464416504, 0.8793718218803406, 0.8392195701599121, 0.8932444453239441, 0.9094635844230652, 0.8888195157051086, 0.8959892392158508, 0.9514316320419312, 0.9354851841926575, 0.9305189847946167, 0.8954693078994751, 0.9052972197532654, 0.894698441028595, 0.8939117193222046, 0.8450275659561157, 0.8344496488571167, 0.847922682762146, 0.8336882591247559, 0.8333603739738464, 1.0, 0.9560397863388062, 0.8786929845809937, 0.889842689037323, 0.9450568556785583, 0.9103565812110901, 0.9201772809028625, 0.9286689758300781, 0.9392609000205994, 0.8692330718040466, 0.8726446628570557, 0.8876701593399048, 0.922161877155304, 0.9149651527404785]\n",
      "[0.875326931476593, 0.8962507843971252, 0.9164484143257141, 0.9007810950279236, 0.8623226284980774, 0.8777415156364441, 0.8999601602554321, 0.8685264587402344, 0.9018006920814514, 0.911845326423645, 0.9149104356765747, 0.9150687456130981, 0.9034529328346252, 0.911872386932373, 0.8990207314491272, 0.8699270486831665, 0.8346511721611023, 0.8314235210418701, 0.8452717065811157, 0.8138908743858337, 0.8113191723823547, 0.9560397863388062, 1.0, 0.8579339981079102, 0.8660251498222351, 0.8984771966934204, 0.9144673347473145, 0.8804272413253784, 0.9107670783996582, 0.9258190393447876, 0.8525766134262085, 0.8876209259033203, 0.86036217212677, 0.8924856185913086, 0.8738481402397156]\n",
      "[0.8014339208602905, 0.848162829875946, 0.8451418876647949, 0.8569075465202332, 0.7942628264427185, 0.8348456621170044, 0.8497472405433655, 0.8085405230522156, 0.857366144657135, 0.8512049913406372, 0.859394907951355, 0.8759851455688477, 0.8422670960426331, 0.8708749413490295, 0.8575493097305298, 0.8249959349632263, 0.810555100440979, 0.8117424249649048, 0.8308725357055664, 0.8174914121627808, 0.7987736463546753, 0.8786929845809937, 0.8579339981079102, 1.0, 0.9554324746131897, 0.8608139753341675, 0.9168187975883484, 0.8643624186515808, 0.8894457221031189, 0.8974994421005249, 0.94740229845047, 0.9406238198280334, 0.9780699014663696, 0.8655960559844971, 0.8713394403457642]\n",
      "[0.8331339955329895, 0.859182596206665, 0.8621219396591187, 0.842727541923523, 0.7918888926506042, 0.8603562116622925, 0.8683227300643921, 0.8346828818321228, 0.8507790565490723, 0.8703445196151733, 0.8728238940238953, 0.8813420534133911, 0.844340980052948, 0.8623757362365723, 0.8483102321624756, 0.8412953019142151, 0.8319282531738281, 0.8177764415740967, 0.8306826949119568, 0.841933012008667, 0.8305073976516724, 0.889842689037323, 0.8660251498222351, 0.9554324746131897, 1.0, 0.8827890753746033, 0.923439621925354, 0.8692343235015869, 0.8822827339172363, 0.8873589038848877, 0.923335075378418, 0.9000805616378784, 0.937309205532074, 0.8633694052696228, 0.8725625872612]\n",
      "[0.8581059575080872, 0.8564857244491577, 0.8775164484977722, 0.8291757702827454, 0.7925392985343933, 0.8704407215118408, 0.8818307518959045, 0.8638315200805664, 0.8405206799507141, 0.9454559087753296, 0.887262225151062, 0.8817093968391418, 0.8576275110244751, 0.8565705418586731, 0.8425422310829163, 0.8603771924972534, 0.8874210119247437, 0.8649881482124329, 0.8593652248382568, 0.8896746039390564, 0.8880431652069092, 0.9450568556785583, 0.8984771966934204, 0.8608139753341675, 0.8827890753746033, 1.0, 0.9000753164291382, 0.9564154148101807, 0.9324216246604919, 0.8779216408729553, 0.8510173559188843, 0.8389682769775391, 0.8652994632720947, 0.937977135181427, 0.9519217014312744]\n",
      "[0.815019965171814, 0.8511126637458801, 0.8542197346687317, 0.834986686706543, 0.772922694683075, 0.8291288614273071, 0.8565822839736938, 0.828829288482666, 0.8447476625442505, 0.8731416463851929, 0.8613804578781128, 0.880607545375824, 0.8406460285186768, 0.858738124370575, 0.8446900844573975, 0.8286065459251404, 0.7958473563194275, 0.7840778231620789, 0.800385057926178, 0.7917280793190002, 0.7799169421195984, 0.9103565812110901, 0.9144673347473145, 0.9168187975883484, 0.923439621925354, 0.9000753164291382, 1.0, 0.8796876072883606, 0.9293597340583801, 0.9154884815216064, 0.9380812048912048, 0.9266049265861511, 0.9182693958282471, 0.8795590400695801, 0.8793002367019653]\n",
      "[0.8298882246017456, 0.8404128551483154, 0.8507410287857056, 0.8130488395690918, 0.7636736035346985, 0.8403359651565552, 0.8525791764259338, 0.8421880006790161, 0.8298203945159912, 0.9230835437774658, 0.8628182411193848, 0.8651731610298157, 0.8349029421806335, 0.8392874598503113, 0.8346997499465942, 0.8420774936676025, 0.8582330942153931, 0.8489492535591125, 0.8478870987892151, 0.8542600274085999, 0.855042576789856, 0.9201772809028625, 0.8804272413253784, 0.8643624186515808, 0.8692343235015869, 0.9564154148101807, 0.8796876072883606, 1.0, 0.9593015313148499, 0.8919140696525574, 0.850333571434021, 0.8404303193092346, 0.8683963418006897, 0.9856245517730713, 0.9951815605163574]\n",
      "[0.8301887512207031, 0.86257404088974, 0.8655115365982056, 0.8379970192909241, 0.7791312336921692, 0.8463572263717651, 0.8751255869865417, 0.8555469512939453, 0.8531520962715149, 0.9001690745353699, 0.8717494010925293, 0.8836449384689331, 0.8526689410209656, 0.8660184144973755, 0.8591609001159668, 0.8477134108543396, 0.8322960734367371, 0.8269882798194885, 0.8364956378936768, 0.822029709815979, 0.8156786561012268, 0.9286689758300781, 0.9107670783996582, 0.8894457221031189, 0.8822827339172363, 0.9324216246604919, 0.9293597340583801, 0.9593015313148499, 1.0, 0.9233680963516235, 0.8906828761100769, 0.8909297585487366, 0.8988790512084961, 0.9577057361602783, 0.956938624382019]\n",
      "[0.8170695304870605, 0.868401050567627, 0.8722650408744812, 0.8675832748413086, 0.8073133826255798, 0.8388330936431885, 0.8687487840652466, 0.8424479365348816, 0.8818076848983765, 0.8925411105155945, 0.8822748064994812, 0.9007103443145752, 0.866611897945404, 0.8923607468605042, 0.8803448677062988, 0.8234130144119263, 0.8015677332878113, 0.8070966005325317, 0.8344438672065735, 0.7725966572761536, 0.7693315148353577, 0.9392609000205994, 0.9258190393447876, 0.8974994421005249, 0.8873589038848877, 0.8779216408729553, 0.9154884815216064, 0.8919140696525574, 0.9233680963516235, 1.0, 0.8870351910591125, 0.9109509587287903, 0.9131712317466736, 0.9141591191291809, 0.886834979057312]\n",
      "[0.7577216029167175, 0.8085996508598328, 0.8007721304893494, 0.8011590838432312, 0.7490166425704956, 0.7953411340713501, 0.8173546195030212, 0.7710152268409729, 0.8021602034568787, 0.8370197415351868, 0.8214314579963684, 0.8489010334014893, 0.7987209558486938, 0.8281768560409546, 0.8062505125999451, 0.7852026224136353, 0.7554311156272888, 0.7555243968963623, 0.7700434923171997, 0.764117419719696, 0.7417328953742981, 0.8692330718040466, 0.8525766134262085, 0.94740229845047, 0.923335075378418, 0.8510173559188843, 0.9380812048912048, 0.850333571434021, 0.8906828761100769, 0.8870351910591125, 1.0, 0.9376676678657532, 0.9517408609390259, 0.8505362868309021, 0.8598715662956238]\n",
      "[0.7726884484291077, 0.827061116695404, 0.828484296798706, 0.8495943546295166, 0.7955336570739746, 0.8098407983779907, 0.8364943265914917, 0.7955007553100586, 0.8464593291282654, 0.8335409164428711, 0.8403781056404114, 0.8633326888084412, 0.8323137760162354, 0.8601920008659363, 0.8482335209846497, 0.795826256275177, 0.7786901593208313, 0.7891377806663513, 0.8122020363807678, 0.7695929408073425, 0.7531756162643433, 0.8726446628570557, 0.8876209259033203, 0.9406238198280334, 0.9000805616378784, 0.8389682769775391, 0.9266049265861511, 0.8404303193092346, 0.8909297585487366, 0.9109509587287903, 0.9376676678657532, 1.0, 0.9511421322822571, 0.8531756401062012, 0.846380352973938]\n",
      "[0.7968733310699463, 0.8473984003067017, 0.8410305380821228, 0.8469591736793518, 0.7800734639167786, 0.8282479643821716, 0.8479936122894287, 0.8055474162101746, 0.850296139717102, 0.8541609048843384, 0.8592587113380432, 0.8797454833984375, 0.8397670984268188, 0.8697493076324463, 0.852539598941803, 0.8212181925773621, 0.7955554127693176, 0.7990253567695618, 0.819827139377594, 0.7978543639183044, 0.7804179787635803, 0.8876701593399048, 0.86036217212677, 0.9780699014663696, 0.937309205532074, 0.8652994632720947, 0.9182693958282471, 0.8683963418006897, 0.8988790512084961, 0.9131712317466736, 0.9517408609390259, 0.9511421322822571, 1.0, 0.8699806928634644, 0.8750476241111755]\n",
      "[0.8189309239387512, 0.8424035310745239, 0.8598226308822632, 0.8250473737716675, 0.7697615623474121, 0.8329641222953796, 0.8605117201805115, 0.8428678512573242, 0.8602010607719421, 0.9136974811553955, 0.8595587611198425, 0.865385890007019, 0.8401296734809875, 0.8493605852127075, 0.8648902773857117, 0.8333714008331299, 0.8592321872711182, 0.8654361367225647, 0.8703000545501709, 0.8379961848258972, 0.8391270637512207, 0.922161877155304, 0.8924856185913086, 0.8655960559844971, 0.8633694052696228, 0.937977135181427, 0.8795590400695801, 0.9856245517730713, 0.9577057361602783, 0.9141591191291809, 0.8505362868309021, 0.8531756401062012, 0.8699806928634644, 1.0, 0.9796444773674011]\n",
      "[0.8209186792373657, 0.8361530303955078, 0.8459930419921875, 0.8087084889411926, 0.7645108699798584, 0.8364284634590149, 0.8518143892288208, 0.8303666114807129, 0.8253777027130127, 0.9161739945411682, 0.8594894409179688, 0.8635656833648682, 0.8305375576019287, 0.8383156061172485, 0.8345005512237549, 0.8469259142875671, 0.8538030982017517, 0.8456433415412903, 0.8425227999687195, 0.8545047640800476, 0.8480837345123291, 0.9149651527404785, 0.8738481402397156, 0.8713394403457642, 0.8725625872612, 0.9519217014312744, 0.8793002367019653, 0.9951815605163574, 0.956938624382019, 0.886834979057312, 0.8598715662956238, 0.846380352973938, 0.8750476241111755, 0.9796444773674011, 1.0]\n"
     ]
    }
   ],
   "source": [
    "for cos in cos_sims:\n",
    "    print(cos)"
   ],
   "metadata": {
    "collapsed": false,
    "pycharm": {
     "name": "#%%\n"
    }
   }
  },
  {
   "cell_type": "code",
   "execution_count": 46,
   "outputs": [
    {
     "name": "stdout",
     "output_type": "stream",
     "text": [
      "(35, 35)\n",
      "(1225,)\n"
     ]
    }
   ],
   "source": [
    "import numpy as np\n",
    "np_cos_sims = np.array(cos_sims)\n",
    "print(np_cos_sims.shape)\n",
    "np_cos_sims_flatten = np_cos_sims.flatten()\n",
    "print(np_cos_sims_flatten.shape)\n",
    "top_10 = np_cos_sims_flatten.argsort()[-55:][::-1][-20:]"
   ],
   "metadata": {
    "collapsed": false,
    "pycharm": {
     "name": "#%%\n"
    }
   }
  },
  {
   "cell_type": "code",
   "execution_count": 47,
   "outputs": [
    {
     "name": "stdout",
     "output_type": "stream",
     "text": [
      "[ 979 1217  498  294  613  647  685  719  978 1182  467  433 1189 1223\n",
      " 1143  837  611  577  580  716]\n",
      "(array([27, 34, 14,  8, 17, 18, 19, 20, 27, 33, 13, 12, 33, 34, 32, 23, 17,\n",
      "       16, 16, 20], dtype=int64), array([34, 27,  8, 14, 18, 17, 20, 19, 33, 27, 12, 13, 34, 33, 23, 32, 16,\n",
      "       17, 20, 16], dtype=int64))\n"
     ]
    }
   ],
   "source": [
    "print(top_10)\n",
    "unraveled_idx = np.unravel_index(top_10, (35,35))\n",
    "print(unraveled_idx)"
   ],
   "metadata": {
    "collapsed": false,
    "pycharm": {
     "name": "#%%\n"
    }
   }
  },
  {
   "cell_type": "code",
   "execution_count": 48,
   "outputs": [
    {
     "name": "stdout",
     "output_type": "stream",
     "text": [
      "0.9951815605163574\n"
     ]
    }
   ],
   "source": [
    "print(np_cos_sims_flatten[979])"
   ],
   "metadata": {
    "collapsed": false,
    "pycharm": {
     "name": "#%%\n"
    }
   }
  },
  {
   "cell_type": "code",
   "execution_count": 49,
   "outputs": [],
   "source": [
    "final_top_10 = []\n",
    "i = 0\n",
    "while i < len(unraveled_idx[0]):\n",
    "    idx_1 = unraveled_idx[0][i]\n",
    "    idx_2 = unraveled_idx[0][i+1]\n",
    "    final_top_10.append(((idx_1, idx_2), np_cos_sims_flatten[idx_1*35+idx_2]))\n",
    "    i = i + 2"
   ],
   "metadata": {
    "collapsed": false,
    "pycharm": {
     "name": "#%%\n"
    }
   }
  },
  {
   "cell_type": "code",
   "execution_count": 50,
   "outputs": [
    {
     "data": {
      "text/plain": "[((27, 34), 0.9951815605163574),\n ((14, 8), 0.9927845597267151),\n ((17, 18), 0.9904729127883911),\n ((19, 20), 0.988221287727356),\n ((27, 33), 0.9856245517730713),\n ((13, 12), 0.9816993474960327),\n ((33, 34), 0.9796444773674011),\n ((32, 23), 0.9780699014663696),\n ((17, 16), 0.9780153632164001),\n ((16, 20), 0.9770835041999817)]"
     },
     "execution_count": 50,
     "metadata": {},
     "output_type": "execute_result"
    }
   ],
   "source": [
    "final_top_10\n",
    "\n",
    "\n"
   ],
   "metadata": {
    "collapsed": false,
    "pycharm": {
     "name": "#%%\n"
    }
   }
  },
  {
   "cell_type": "markdown",
   "id": "durable-joint",
   "metadata": {},
   "source": [
    "### Exercise 3\n",
    "a) Repeat exercise 2 but use the centroid of all of the output embeddings as the representation of a sentence.\n",
    "\n",
    "b) Experiment with using different pooling layers from the hidden state embeddings.  Typically, using the penultimate layer (-2) is felt to be optimal as it is far enough away from the original uncontextualised word embeddings but also not too close to the output predictions.  See here for a discussion: https://github.com/hanxiao/bert-as-service#q-what-are-the-available-pooling-strategies"
   ]
  },
  {
   "cell_type": "code",
   "execution_count": 124,
   "id": "considerable-debate",
   "metadata": {},
   "outputs": [],
   "source": [
    "with torch.no_grad():\n",
    "    # See the models docstrings for the detail of the inputs\n",
    "    sentences_outputs = [model(tokens_tensor, token_type_ids=segments_tensors)\n",
    "                         for (tokens_tensor, segments_tensors) in zip(sentences_tokens_tensor, sentences_segments_tensors)]\n",
    "    sentences_centroids = [torch.sum(output[0], 1)[0] for output in sentences_outputs]"
   ]
  },
  {
   "cell_type": "code",
   "execution_count": 125,
   "outputs": [
    {
     "name": "stdout",
     "output_type": "stream",
     "text": [
      "35\n",
      "torch.Size([768])\n"
     ]
    },
    {
     "data": {
      "text/plain": "tensor([ 1.9850e+00,  1.3161e+00,  6.1223e-01,  6.2846e-01, -1.0020e+00,\n        -3.8386e+00,  1.1196e+00,  8.2367e+00, -1.8715e-01, -6.2047e+00,\n        -2.9274e+00, -4.6410e+00,  1.6850e+00, -2.5634e-01,  8.2823e-01,\n        -2.7640e+00,  4.9652e+00, -1.8406e+00, -3.3004e+00,  3.5776e-01,\n        -1.6112e+00, -8.6485e-01, -2.7241e+00,  3.1237e+00,  7.0547e+00,\n         1.2566e+00, -6.9189e-01,  2.0653e+00, -4.4272e+00, -2.0778e+00,\n         1.7964e+00,  5.3366e+00,  5.7195e-01, -5.9054e-01, -2.6131e+00,\n        -3.6601e+00,  2.9636e-01, -1.5845e+00, -5.5964e-01, -6.0556e-01,\n        -5.7638e+00,  5.1215e-01, -3.3417e+00, -2.0679e+00,  7.7346e+00,\n        -5.3294e+00,  1.2208e+00, -4.0233e+00, -2.7871e+00, -2.2031e+00,\n        -3.5953e+00,  4.1838e+00, -1.0607e+00, -4.8845e+00, -5.8304e+00,\n         6.3068e-01, -3.9480e-01, -2.5270e+00, -3.0434e+00, -3.9312e-01,\n        -1.0354e+00,  2.8725e+00, -1.4134e+00, -3.2419e+00,  1.2876e+00,\n        -1.4771e-01, -4.6510e+00,  1.8880e+00,  4.7950e-01,  2.2891e-01,\n        -6.7476e+00, -4.9823e+00,  2.6757e+00, -2.6069e+00,  4.3382e+00,\n         2.6295e+00, -3.1878e-01,  3.6829e+00,  4.1033e+00, -4.6325e+00,\n        -4.8635e+00,  5.6555e+00,  1.3000e-01,  9.5104e+00,  7.9972e+00,\n        -7.8201e-02, -1.4255e+00,  4.9422e-01, -6.4278e+00,  6.4291e+00,\n        -1.4199e+00, -2.9359e+00, -4.7083e+00, -4.5937e-01, -1.0151e+00,\n         2.0950e+00,  5.9384e+00, -2.5652e+00, -3.4971e-01,  3.5629e+00,\n         9.9775e-01, -2.4962e+00,  5.4335e+00,  4.3715e+00, -2.6544e+00,\n        -4.6408e-01,  1.3546e+00, -2.9105e+00, -4.1684e+00,  5.9060e+00,\n        -2.4617e+00, -5.0620e+00,  3.1685e+00, -2.3980e+00, -6.2120e-01,\n         3.4446e+00,  1.5069e+00,  2.5103e+00, -4.9064e+00,  1.0859e+00,\n        -8.0454e-01, -6.6988e+00, -8.4585e-01,  6.0548e+00, -5.6479e+00,\n         6.6166e-02, -6.7155e-01,  8.8226e-01,  3.1953e+00, -4.1165e+00,\n         4.1059e+00,  5.1869e+00,  1.7063e+00, -6.6297e+00, -6.6785e+00,\n         4.3484e+00,  9.3603e+00, -1.2667e+00, -9.0126e+00, -1.3095e+00,\n         6.1417e+00,  1.1699e+00,  4.2196e+00, -2.3211e+00,  9.6027e+00,\n        -2.6768e-02,  7.0008e-01,  4.2368e-01,  3.5995e+00,  3.4518e+00,\n         2.1979e+00, -5.2493e-01, -3.1637e+00, -1.0407e+00, -4.3184e+00,\n        -2.2043e+00,  2.1818e+00,  7.3140e+00,  2.0624e+00,  3.9374e+00,\n         3.1257e+00, -5.1867e+00,  8.1621e-01, -1.6708e+00, -7.6278e-01,\n         4.3012e+00, -5.9279e-01,  5.2456e+00, -4.3530e+00, -3.4174e+00,\n         2.3707e+00,  8.7235e-01,  8.9865e+00, -9.6356e-01,  2.3443e+00,\n        -3.2179e+00, -2.2250e+00,  3.0249e+00,  6.6114e+00, -1.9649e+00,\n        -6.7592e+00, -3.6035e+00,  5.6057e+00,  2.9210e+00,  5.7302e+00,\n        -5.8830e+00,  2.3998e+00, -2.4634e+00,  8.5191e-01, -2.1499e+00,\n         6.1670e+00,  2.1255e+00, -3.6094e+00, -8.3287e+00, -3.8750e+00,\n        -3.7417e+00,  4.3887e+00, -9.0139e+00, -6.5601e-01, -1.3464e+00,\n        -3.1908e+00,  3.3908e+00, -9.2363e-01,  5.5158e+00, -1.2342e+00,\n         1.0014e-02,  2.6118e+00,  3.0290e+00, -1.5403e+00, -4.2854e-01,\n        -3.8784e+00,  7.1057e+00, -3.2238e-01,  2.5569e-01, -1.2627e+00,\n        -5.6641e-01, -2.0848e-01,  1.1232e+00, -1.1697e+00,  1.2992e+00,\n        -2.2314e+00,  9.8986e-01, -7.1623e+00,  2.3577e+00, -6.7250e-01,\n         1.4168e+01,  1.6947e+00, -5.2668e-01, -5.6855e+00, -1.1996e+00,\n        -1.3890e+00, -4.3058e-01,  6.8354e+00,  4.6827e+00, -4.6135e+00,\n        -5.3646e+00, -5.5996e+00, -3.9802e+00,  4.0821e+00, -3.6658e+00,\n        -1.6582e+00,  2.6798e+00,  7.4926e+00, -2.3574e+00,  5.8918e+00,\n         3.5187e-02,  2.8510e+00,  4.0980e+00, -3.9993e+00, -2.4843e+00,\n        -4.8719e+00, -7.1684e+00,  2.1746e-01, -6.5338e+00, -7.2151e+00,\n        -2.4356e+00, -1.0114e+00,  3.3486e+00, -2.6732e+00,  1.1813e+00,\n         3.1802e+00, -2.4454e+00,  8.1461e+00,  4.6643e+00, -7.8178e+00,\n        -2.3943e+00,  1.0327e+00,  5.1323e+00, -2.9257e+00, -9.3458e-01,\n        -2.4469e+00, -3.3226e+00,  2.5255e+00,  2.1018e-01, -6.2113e+00,\n        -2.6605e+00,  2.3939e+00,  3.3944e+00,  2.4871e+00, -1.3381e+00,\n         3.3684e+00,  3.2601e+00, -1.1675e+01,  6.0676e-01, -1.5859e+00,\n        -9.6060e-01,  1.1519e-01,  1.2174e-01,  4.0662e-01, -5.6979e+00,\n        -3.0727e+00,  2.3940e+00, -2.9511e+00, -3.1104e+00, -3.6782e+00,\n         3.4520e+00, -6.8972e-01,  4.5382e+00,  4.9319e+00, -5.5036e-01,\n        -2.9799e+00,  2.4260e+00,  2.4577e+00,  1.7176e+00, -3.1528e+00,\n         6.7153e-01,  2.4018e+00,  2.8657e-01, -9.9004e+00,  1.9072e+00,\n        -1.9677e-01,  6.8162e-01,  6.8475e+00,  4.5889e-01, -6.0162e-01,\n        -5.2217e+00, -7.7174e+00,  1.6897e+00, -4.7189e+00, -4.6568e+00,\n         2.4351e+00,  2.9673e+00,  4.9087e+00,  2.3250e-03,  1.3547e-01,\n        -8.0753e+00, -2.1598e+00,  7.2029e+00, -3.2420e+00, -8.7393e+00,\n         1.6611e+00, -4.2668e+00,  2.3089e+00,  4.6893e+00,  1.3604e+00,\n        -4.6904e+00, -5.8389e+00, -4.0568e+00,  2.5146e+00, -2.2636e+00,\n         6.4323e+00, -5.7937e-01, -2.4580e+00,  1.2975e+00, -1.1687e+00,\n        -4.7783e+00, -2.6751e-01,  2.2466e+00, -2.1314e+00, -2.2094e+00,\n         1.5915e+00,  4.9775e+00,  4.7145e+00, -1.0100e+00, -2.4802e+00,\n        -7.3853e+00,  8.7100e-01, -6.5948e-01,  3.9294e+00, -7.5056e-01,\n        -6.0842e+00, -3.5074e-01, -1.9436e+00, -5.1944e-02,  6.7747e+00,\n         5.5690e+00, -4.2975e+00, -3.3317e+00, -1.1341e+00, -2.7190e+00,\n        -3.9770e+00,  5.5973e+00,  3.8638e+00, -1.2712e+01, -7.0793e+00,\n        -2.1577e+00, -3.5521e+00, -7.3045e-01, -3.7527e+00,  2.8821e-01,\n        -7.3766e+00, -9.7303e+00, -7.4245e-01,  2.7307e-01,  1.2358e+00,\n        -1.7144e+00,  1.2342e+00, -3.4216e+00,  4.6730e-01, -6.2645e+00,\n        -2.1363e+00,  2.0641e-01, -8.0281e-01, -8.7866e+00,  1.1952e+00,\n         3.4916e-02,  4.0837e+00, -2.7605e+00,  5.0599e+00,  5.8326e+00,\n         7.0523e+00, -4.0175e-01, -3.2595e-01, -7.8144e-02,  7.6966e+00,\n         4.3040e+00,  1.6833e+00,  7.7517e-01, -3.2420e+00, -3.8197e+00,\n        -4.1477e-01,  1.7449e+00,  2.4206e-01,  2.0304e-01, -4.2889e+00,\n         8.6857e-01, -7.9961e-01,  6.7908e-01,  1.1010e+00, -7.0233e+00,\n         2.9424e+00, -3.2963e+00, -2.7609e+00, -4.3548e+00,  3.3068e+00,\n         7.2738e+00, -2.7599e+00,  2.3394e+00, -2.0872e+00,  6.5808e+00,\n        -1.2811e+00, -1.4352e+00, -2.4369e+00, -3.9855e+00, -3.7299e+00,\n        -1.7694e+00,  8.4122e+00, -1.4608e+00,  4.4476e-01, -7.5393e-01,\n        -3.9865e+00,  2.1409e+00,  5.3714e-01,  6.7626e-01,  1.4798e+00,\n        -3.8650e+00,  9.0139e-01, -2.6115e+00, -4.1784e-01,  3.7050e-01,\n         3.3127e+00, -5.7585e-01,  2.1166e+00,  1.6138e+00,  4.0646e+00,\n         3.1553e+00, -4.3541e+00,  6.5589e+00, -1.9980e+00,  1.3672e+00,\n         5.3611e-01, -2.6260e+00,  3.7978e-02, -4.2923e+00, -5.2877e+00,\n        -4.8614e-01,  1.4039e+00, -6.3399e+00,  1.5861e+00,  3.1459e-01,\n         1.8926e+00, -9.6472e-01, -2.3390e+00,  3.0863e+00,  5.0766e-01,\n        -4.1253e+00, -5.9942e+00,  6.9155e+00, -3.6007e-02, -6.6268e+00,\n        -8.9544e-01, -4.2943e+00, -4.4217e+00,  5.8078e+00, -4.0331e-01,\n        -2.4085e+00,  1.6986e+00, -2.4938e+00, -2.9252e+00, -3.3388e+00,\n         7.3466e-01,  3.2392e-01,  1.1421e+00, -7.4590e-01, -1.3634e+00,\n        -2.4038e+00,  3.3148e+00, -6.8902e-01, -4.7629e+00,  6.2955e+00,\n        -4.7921e-01,  4.3470e-01, -7.4119e+00, -8.5333e+00, -1.1997e+00,\n         2.4549e+00,  3.5015e+00, -1.4620e+00,  4.1106e+00, -1.7104e+00,\n         3.0630e+00, -3.3420e+00,  2.9718e+00, -5.9134e+00,  8.8662e-01,\n         2.9058e+00,  8.3069e-01, -2.0106e+00, -3.6874e+00, -9.2166e+00,\n        -7.2094e-01, -7.1089e-01,  2.6214e-01, -4.0069e-01,  5.2485e-01,\n        -7.8753e+00, -2.0953e+00,  2.5170e+00, -7.8193e+00, -2.7477e+00,\n         3.5902e-02, -6.3992e-01, -3.6429e+00, -6.8477e+00, -3.2989e+00,\n         5.0925e+00,  1.1000e+00, -5.9401e+00,  6.1299e+00, -1.3529e+00,\n        -4.0932e-01,  9.7633e-01,  5.0740e+00,  2.3631e+00, -2.7039e+00,\n        -3.0744e+00,  1.4071e+00, -4.3850e+00, -3.9932e+00, -2.1707e+00,\n         1.2712e+00,  2.7756e+00,  6.2372e+00, -1.9638e-01,  5.3421e+00,\n         1.4244e+00, -2.8325e+00,  2.0107e+00,  1.2054e+00,  5.0577e+00,\n        -5.5780e+00,  6.3743e-01,  6.7180e-01, -2.2550e+00, -6.8773e+00,\n        -2.6963e+00,  6.2462e+00, -2.0192e+00, -1.0022e-01, -1.8277e+00,\n        -3.6923e+00,  4.5049e+00,  6.3033e+00, -1.7887e+00, -6.5253e-01,\n         6.5885e+00,  6.0296e+00,  2.4783e+00, -4.9365e+00, -4.0393e+00,\n         2.2371e+00, -1.2444e+00, -3.8422e+00,  8.8486e-02,  1.9899e+00,\n        -2.4430e+00, -6.3181e+00, -6.8063e+00, -4.3899e+00,  7.1067e+00,\n        -3.6232e+00, -3.0768e+00,  1.3742e+00, -1.6763e+00, -2.3371e+00,\n         2.3613e+00, -4.1724e+00,  6.8042e+00, -1.3549e+00, -1.4669e+00,\n        -7.7747e-01,  3.8216e+00,  3.4791e+00, -2.3090e+00,  7.0566e+00,\n         4.3342e+00,  6.3959e-01, -5.5417e-01, -5.0380e-01,  3.8382e+00,\n         2.0200e+00, -3.7007e+00,  2.9720e+00,  4.7292e-01, -1.1065e-01,\n         1.7470e+00, -4.1318e+00,  1.1481e+01, -5.8220e+00, -6.2380e+00,\n         6.8306e-01,  4.8051e+00, -4.9830e+00,  3.1271e+00, -6.2674e-01,\n        -5.5601e+00,  1.2099e-01,  1.1399e+00,  1.7598e+00,  2.1184e-01,\n         3.5781e+00,  2.0294e+00, -2.0925e+00,  5.0071e+00, -2.3825e+00,\n        -6.6955e-01,  1.3763e+00,  6.3334e-01, -5.0956e+00,  4.4900e+00,\n         1.3972e-01,  4.8362e+00,  9.7111e-01, -5.1296e+00,  4.6946e+00,\n         4.8466e+00,  2.4244e+00, -3.1074e+00,  6.8374e-01, -9.2186e-01,\n         2.8547e+00,  1.1199e+00,  7.6725e-01, -2.3730e+00,  3.5113e+00,\n        -1.3969e-01,  6.5655e+00,  5.3070e+00, -3.1006e+00,  8.1084e+00,\n         2.0494e+00,  1.2529e+00,  3.1132e+00, -2.3990e+00,  3.0591e+00,\n         4.2633e+00, -5.4578e+00,  6.2434e+00,  2.9238e+00,  6.1419e+00,\n         4.4201e+00, -2.9685e+00,  2.8123e+00,  5.8817e+00,  1.6658e+00,\n        -1.6345e+00,  2.4960e+00,  3.1385e+00,  1.4336e+00,  2.5150e+00,\n         3.1828e+00,  3.0661e+00,  6.7151e-01,  3.3429e+00, -3.3914e+00,\n        -2.2189e+00, -2.5135e+00,  2.8129e+00,  5.9702e-02,  8.6792e+00,\n        -1.0801e+01, -1.6355e+00, -3.1809e-01, -2.1834e+00, -2.1945e+00,\n        -3.5385e+00, -4.5602e+00, -1.9722e+00, -2.8954e+00, -5.1629e-01,\n         1.7724e+00, -5.5625e-01, -2.7962e+00, -5.0915e+00,  3.9180e+00,\n         4.8518e+00,  3.8422e+00,  5.8186e+00,  6.5211e+00, -4.1894e+00,\n        -4.2229e+00,  4.0042e-01,  9.2931e-02,  4.3714e-01,  2.2462e+00,\n        -3.6606e+00,  2.9312e-01, -3.9591e+00,  7.4890e+00,  6.5294e+00,\n        -3.5510e+00,  5.7514e-01, -4.2564e+00, -3.3123e+00,  1.2200e+00,\n        -8.6580e-01, -2.9587e+00, -5.2449e-02, -6.7977e-01,  3.7713e+00,\n        -4.0239e+00,  4.7703e+00, -7.9370e+00, -3.7845e+00,  3.7944e+00,\n         2.3060e+00,  4.4407e+00, -1.2197e-01, -3.4451e+00,  3.2085e+00,\n         9.9372e-01, -4.1094e+00,  3.6005e+00, -1.5437e-01, -3.9961e+00,\n         5.1444e+00, -2.0326e+00, -6.5011e+00,  1.1323e+01, -2.8981e-01,\n         8.4178e-01, -1.1798e+00, -2.1095e+00, -2.3990e+00, -6.7200e+00,\n         5.6179e+00,  2.8215e+00, -1.5994e+00, -3.2373e+00,  4.0092e+00,\n         1.6200e+00,  1.2747e+00, -4.3075e-01,  2.2415e+00,  2.6172e+00,\n         8.0051e-01,  2.0944e+00,  1.1269e+00])"
     },
     "execution_count": 125,
     "metadata": {},
     "output_type": "execute_result"
    }
   ],
   "source": [
    "print(len(sentences_centroids))\n",
    "print(sentences_centroids[0].size())\n",
    "sentences_centroids[0]"
   ],
   "metadata": {
    "collapsed": false,
    "pycharm": {
     "name": "#%%\n"
    }
   }
  },
  {
   "cell_type": "code",
   "execution_count": 142,
   "outputs": [
    {
     "name": "stdout",
     "output_type": "stream",
     "text": [
      "[[1.0, 0.8996008634567261, 0.9198457598686218, 0.7202247381210327, 0.6473896503448486, 0.8561151623725891, 0.7878742814064026, 0.8632704615592957, 0.779762864112854, 0.7260465621948242, 0.9300801157951355, 0.8763684034347534, 0.7349972724914551, 0.7374476194381714, 0.7547682523727417, 0.9308681488037109, 0.5955303311347961, 0.5602136850357056, 0.5564670562744141, 0.6455003023147583, 0.666740357875824, 0.806885838508606, 0.7635465264320374, 0.5910668969154358, 0.6878949999809265, 0.7097204327583313, 0.6448606252670288, 0.6957005262374878, 0.6904869675636292, 0.6500993967056274, 0.5376498103141785, 0.5208662748336792, 0.5528550148010254, 0.635760486125946, 0.6670063138008118], [0.8996008634567261, 1.0, 0.8855577111244202, 0.7331383228302002, 0.6599642038345337, 0.8448490500450134, 0.8175795078277588, 0.7907476425170898, 0.7839623093605042, 0.6682948470115662, 0.8859336376190186, 0.9299957156181335, 0.7837681770324707, 0.7793893814086914, 0.7832338809967041, 0.8372676372528076, 0.5868648290634155, 0.5652596950531006, 0.5607964992523193, 0.6207751631736755, 0.6264495849609375, 0.7893080115318298, 0.7753016352653503, 0.5947321057319641, 0.6730921864509583, 0.6813987493515015, 0.6357334852218628, 0.6684141755104065, 0.6950575709342957, 0.6744408011436462, 0.559130847454071, 0.5501524806022644, 0.5830650329589844, 0.63612300157547, 0.6450706720352173], [0.9198457598686218, 0.8855577111244202, 1.0, 0.7906064987182617, 0.7171511650085449, 0.8491173386573792, 0.8708584308624268, 0.8314265012741089, 0.903965950012207, 0.7383692860603333, 0.9112460017204285, 0.8558242321014404, 0.7952011227607727, 0.8042359352111816, 0.8838845491409302, 0.8887197375297546, 0.7231076955795288, 0.6988572478294373, 0.693752646446228, 0.724731981754303, 0.7348538637161255, 0.8265015482902527, 0.8097020983695984, 0.6358499526977539, 0.7188829183578491, 0.7584971785545349, 0.700543224811554, 0.7220137715339661, 0.7391889095306396, 0.7046182751655579, 0.5788236260414124, 0.5783565640449524, 0.5956509113311768, 0.6988587379455566, 0.7006229162216187], [0.7202247381210327, 0.7331383228302002, 0.7906064987182617, 1.0, 0.8828245401382446, 0.6697145104408264, 0.6517068147659302, 0.6802234053611755, 0.8432337641716003, 0.6865988373756409, 0.7812640070915222, 0.764706015586853, 0.8414945602416992, 0.9140602946281433, 0.8421018123626709, 0.6800780296325684, 0.6400846838951111, 0.6523965001106262, 0.6606701016426086, 0.6506410241127014, 0.6536426544189453, 0.7814648151397705, 0.7933972477912903, 0.6563219428062439, 0.6805466413497925, 0.6883707046508789, 0.6761377453804016, 0.6584669947624207, 0.6959925889968872, 0.7192638516426086, 0.5913710594177246, 0.6168562769889832, 0.6060633659362793, 0.6492020487785339, 0.633337140083313], [0.6473896503448486, 0.6599642038345337, 0.7171511650085449, 0.8828245401382446, 1.0, 0.6138906478881836, 0.60926353931427, 0.5603258609771729, 0.7489567995071411, 0.6038066148757935, 0.7086634039878845, 0.690637469291687, 0.7415175437927246, 0.7942458987236023, 0.7596709132194519, 0.6266695261001587, 0.5375334620475769, 0.5376768708229065, 0.5392260551452637, 0.559120237827301, 0.5451136231422424, 0.6994911432266235, 0.7120640873908997, 0.6061233878135681, 0.6419503092765808, 0.6264970302581787, 0.6083434224128723, 0.5910857915878296, 0.605922281742096, 0.6449520587921143, 0.5595089197158813, 0.5923726558685303, 0.5731021761894226, 0.5740307569503784, 0.5845283269882202], [0.8561151623725891, 0.8448490500450134, 0.8491173386573792, 0.6697145104408264, 0.6138906478881836, 1.0, 0.9363823533058167, 0.8178339004516602, 0.7589840888977051, 0.7690067291259766, 0.8451197743415833, 0.8186663389205933, 0.709979236125946, 0.6893556118011475, 0.7401401400566101, 0.7814805507659912, 0.6714925765991211, 0.6369612216949463, 0.6400545835494995, 0.7059222459793091, 0.7287061810493469, 0.8016328811645508, 0.7552909255027771, 0.6786012649536133, 0.7451138496398926, 0.7399414777755737, 0.6794751286506653, 0.7011353373527527, 0.7115525007247925, 0.6611359119415283, 0.6463521718978882, 0.6238977909088135, 0.6652964949607849, 0.6542168855667114, 0.6691492199897766], [0.7878742814064026, 0.8175795078277588, 0.8708584308624268, 0.6517068147659302, 0.60926353931427, 0.9363823533058167, 1.0, 0.7685413956642151, 0.7984798550605774, 0.7261741757392883, 0.7830555438995361, 0.7695024609565735, 0.6969340443611145, 0.6729212999343872, 0.7893668413162231, 0.7510250210762024, 0.7346258163452148, 0.7073399424552917, 0.7038043737411499, 0.7193544507026672, 0.731433093547821, 0.767887532711029, 0.7424529194831848, 0.6453953385353088, 0.7085858583450317, 0.7338528037071228, 0.6818898916244507, 0.6794223189353943, 0.7076873183250427, 0.6558210849761963, 0.6202405095100403, 0.6063267588615417, 0.6314164400100708, 0.6720077395439148, 0.6610620021820068], [0.8632704615592957, 0.7907476425170898, 0.8314265012741089, 0.6802234053611755, 0.5603258609771729, 0.8178339004516602, 0.7685413956642151, 1.0, 0.7529401183128357, 0.7397537231445312, 0.8008279800415039, 0.7653148174285889, 0.6999483704566956, 0.6981713771820068, 0.7373254895210266, 0.7970353960990906, 0.6644828915596008, 0.6528711915016174, 0.6507782936096191, 0.6944245100021362, 0.7173530459403992, 0.7515071630477905, 0.7240123748779297, 0.606411874294281, 0.6779571771621704, 0.732566773891449, 0.6582596302032471, 0.7212194800376892, 0.7343945503234863, 0.6559803485870361, 0.5480784773826599, 0.553004801273346, 0.5568175315856934, 0.6932136416435242, 0.688536524772644], [0.779762864112854, 0.7839623093605042, 0.903965950012207, 0.8432337641716003, 0.7489567995071411, 0.7589840888977051, 0.7984798550605774, 0.7529401183128357, 1.0, 0.7119670510292053, 0.8052425384521484, 0.7558696269989014, 0.7864417433738708, 0.8026357889175415, 0.9780564904212952, 0.7582560181617737, 0.7342180013656616, 0.7701025009155273, 0.7840554714202881, 0.7052972912788391, 0.7147650718688965, 0.7885578870773315, 0.7887333035469055, 0.679664671421051, 0.7083820700645447, 0.7195417284965515, 0.685369074344635, 0.7016639113426208, 0.7307102084159851, 0.7369713187217712, 0.5995699763298035, 0.6358608603477478, 0.6259782314300537, 0.7381141185760498, 0.6803457736968994], [0.7260465621948242, 0.6682948470115662, 0.7383692860603333, 0.6865988373756409, 0.6038066148757935, 0.7690067291259766, 0.7261741757392883, 0.7397537231445312, 0.7119670510292053, 1.0, 0.7806771993637085, 0.7229824066162109, 0.7387019395828247, 0.7235305309295654, 0.7128433585166931, 0.6666229367256165, 0.7702880501747131, 0.7412272691726685, 0.744464635848999, 0.8072487115859985, 0.828487753868103, 0.8801276087760925, 0.8205254077911377, 0.6795544624328613, 0.7428046464920044, 0.8619223833084106, 0.7638494968414307, 0.8437981009483337, 0.8124186992645264, 0.7607361078262329, 0.6640490889549255, 0.6368976831436157, 0.6527633666992188, 0.8063745498657227, 0.8127680420875549], [0.9300801157951355, 0.8859336376190186, 0.9112460017204285, 0.7812640070915222, 0.7086634039878845, 0.8451197743415833, 0.7830555438995361, 0.8008279800415039, 0.8052425384521484, 0.7806771993637085, 1.0, 0.9289835095405579, 0.8501262664794922, 0.8432194590568542, 0.8042582273483276, 0.8651498556137085, 0.6361168622970581, 0.6009706258773804, 0.5974826812744141, 0.6863910555839539, 0.7012196779251099, 0.8590781092643738, 0.8262268900871277, 0.6396210193634033, 0.7167714834213257, 0.7372058629989624, 0.6924656629562378, 0.7129799723625183, 0.7116144895553589, 0.6946170330047607, 0.5949108004570007, 0.5670767426490784, 0.6086795926094055, 0.6517654061317444, 0.688015878200531], [0.8763684034347534, 0.9299957156181335, 0.8558242321014404, 0.764706015586853, 0.690637469291687, 0.8186663389205933, 0.7695024609565735, 0.7653148174285889, 0.7558696269989014, 0.7229824066162109, 0.9289835095405579, 1.0, 0.8305099010467529, 0.8333154320716858, 0.7536358833312988, 0.8227521181106567, 0.5881019234657288, 0.5614145994186401, 0.5579680800437927, 0.6309868097305298, 0.6393046379089355, 0.8269409537315369, 0.8079906702041626, 0.6212446689605713, 0.6842467188835144, 0.7136763334274292, 0.6615117192268372, 0.700200080871582, 0.7014493942260742, 0.6991000175476074, 0.5980076789855957, 0.573452889919281, 0.6048394441604614, 0.6504865288734436, 0.6796631217002869], [0.7349972724914551, 0.7837681770324707, 0.7952011227607727, 0.8414945602416992, 0.7415175437927246, 0.709979236125946, 0.6969340443611145, 0.6999483704566956, 0.7864417433738708, 0.7387019395828247, 0.8501262664794922, 0.8305099010467529, 1.0, 0.954054057598114, 0.8105281591415405, 0.6957733631134033, 0.6640116572380066, 0.6548588871955872, 0.6535964608192444, 0.697597086429596, 0.6946157813072205, 0.794459342956543, 0.7957736253738403, 0.6340556144714355, 0.6864185929298401, 0.722411572933197, 0.6926430463790894, 0.676203191280365, 0.7060789465904236, 0.7012297511100769, 0.5956264138221741, 0.592196524143219, 0.6242378950119019, 0.6558668613433838, 0.6533147692680359], [0.7374476194381714, 0.7793893814086914, 0.8042359352111816, 0.9140602946281433, 0.7942458987236023, 0.6893556118011475, 0.6729212999343872, 0.6981713771820068, 0.8026357889175415, 0.7235305309295654, 0.8432194590568542, 0.8333154320716858, 0.954054057598114, 1.0, 0.8157811760902405, 0.7052673697471619, 0.6680186986923218, 0.6647812724113464, 0.6665599942207336, 0.7029694318771362, 0.6954146027565002, 0.792722225189209, 0.8025468587875366, 0.650890588760376, 0.6901649236679077, 0.7266367673873901, 0.697029709815979, 0.6782002449035645, 0.7150400876998901, 0.7132880687713623, 0.6129550337791443, 0.605438232421875, 0.6308776140213013, 0.653131902217865, 0.6566379070281982], [0.7547682523727417, 0.7832338809967041, 0.8838845491409302, 0.8421018123626709, 0.7596709132194519, 0.7401401400566101, 0.7893668413162231, 0.7373254895210266, 0.9780564904212952, 0.7128433585166931, 0.8042582273483276, 0.7536358833312988, 0.8105281591415405, 0.8157811760902405, 1.0, 0.752085268497467, 0.7346692681312561, 0.7760285139083862, 0.7782702445983887, 0.7128260135650635, 0.7072645425796509, 0.7893339395523071, 0.7907059788703918, 0.6801189184188843, 0.700559675693512, 0.709887683391571, 0.6881958842277527, 0.6921489834785461, 0.7242019176483154, 0.7294768691062927, 0.6064214706420898, 0.6440383195877075, 0.635129451751709, 0.7313956022262573, 0.6845112442970276], [0.9308681488037109, 0.8372676372528076, 0.8887197375297546, 0.6800780296325684, 0.6266695261001587, 0.7814805507659912, 0.7510250210762024, 0.7970353960990906, 0.7582560181617737, 0.6666229367256165, 0.8651498556137085, 0.8227521181106567, 0.6957733631134033, 0.7052673697471619, 0.752085268497467, 1.0, 0.5897107720375061, 0.5688803195953369, 0.5544160604476929, 0.6564652919769287, 0.6417518258094788, 0.7433510422706604, 0.7032742500305176, 0.5973318815231323, 0.6584519147872925, 0.6726194024085999, 0.6107910871505737, 0.6702879667282104, 0.6608729958534241, 0.5892210006713867, 0.5462073683738708, 0.5190109610557556, 0.5553522706031799, 0.6186798214912415, 0.6917082071304321], [0.5955303311347961, 0.5868648290634155, 0.7231076955795288, 0.6400846838951111, 0.5375334620475769, 0.6714925765991211, 0.7346258163452148, 0.6644828915596008, 0.7342180013656616, 0.7702880501747131, 0.6361168622970581, 0.5881019234657288, 0.6640116572380066, 0.6680186986923218, 0.7346692681312561, 0.5897107720375061, 1.0, 0.9682672023773193, 0.96048903465271, 0.9594876170158386, 0.9671179056167603, 0.6835915446281433, 0.6554410457611084, 0.6642963290214539, 0.7142354846000671, 0.8119263052940369, 0.6900433301925659, 0.7550919651985168, 0.7375736832618713, 0.6275537014007568, 0.6207647919654846, 0.6218000054359436, 0.6468641757965088, 0.7599965333938599, 0.7400731444358826], [0.5602136850357056, 0.5652596950531006, 0.6988572478294373, 0.6523965001106262, 0.5376768708229065, 0.6369612216949463, 0.7073399424552917, 0.6528711915016174, 0.7701025009155273, 0.7412272691726685, 0.6009706258773804, 0.5614145994186401, 0.6548588871955872, 0.6647812724113464, 0.7760285139083862, 0.5688803195953369, 0.9682672023773193, 1.0, 0.9890540242195129, 0.926084041595459, 0.9231548309326172, 0.6684995293617249, 0.6516119241714478, 0.6641784906387329, 0.6866710782051086, 0.7835644483566284, 0.6633633971214294, 0.7496592402458191, 0.732787549495697, 0.633637011051178, 0.6185735464096069, 0.6290846467018127, 0.6382627487182617, 0.786531388759613, 0.7397816181182861], [0.5564670562744141, 0.5607964992523193, 0.693752646446228, 0.6606701016426086, 0.5392260551452637, 0.6400545835494995, 0.7038043737411499, 0.6507782936096191, 0.7840554714202881, 0.744464635848999, 0.5974826812744141, 0.5579680800437927, 0.6535964608192444, 0.6665599942207336, 0.7782702445983887, 0.5544160604476929, 0.96048903465271, 0.9890540242195129, 1.0, 0.911183774471283, 0.9191873073577881, 0.6692503094673157, 0.6556186676025391, 0.6774808168411255, 0.690427839756012, 0.7674940228462219, 0.6597212553024292, 0.7322266697883606, 0.7238028049468994, 0.6441754698753357, 0.622422993183136, 0.6431868672370911, 0.6478003263473511, 0.7717738747596741, 0.7145735025405884], [0.6455003023147583, 0.6207751631736755, 0.724731981754303, 0.6506410241127014, 0.559120237827301, 0.7059222459793091, 0.7193544507026672, 0.6944245100021362, 0.7052972912788391, 0.8072487115859985, 0.6863910555839539, 0.6309868097305298, 0.697597086429596, 0.7029694318771362, 0.7128260135650635, 0.6564652919769287, 0.9594876170158386, 0.926084041595459, 0.911183774471283, 1.0, 0.9832317233085632, 0.7121714353561401, 0.6706258654594421, 0.7161984443664551, 0.7566307783126831, 0.8359057903289795, 0.7195957899093628, 0.7813596129417419, 0.7604226469993591, 0.6213657855987549, 0.6821070313453674, 0.6582196950912476, 0.700934886932373, 0.7487514019012451, 0.7809146046638489], [0.666740357875824, 0.6264495849609375, 0.7348538637161255, 0.6536426544189453, 0.5451136231422424, 0.7287061810493469, 0.731433093547821, 0.7173530459403992, 0.7147650718688965, 0.828487753868103, 0.7012196779251099, 0.6393046379089355, 0.6946157813072205, 0.6954146027565002, 0.7072645425796509, 0.6417518258094788, 0.9671179056167603, 0.9231548309326172, 0.9191873073577881, 0.9832317233085632, 1.0, 0.7284260392189026, 0.682172954082489, 0.7054034471511841, 0.7645004987716675, 0.8450910449028015, 0.7228307723999023, 0.7918658256530762, 0.76726895570755, 0.638896644115448, 0.6636646389961243, 0.6474880576133728, 0.6841495633125305, 0.7612593770027161, 0.7707976698875427], [0.806885838508606, 0.7893080115318298, 0.8265015482902527, 0.7814648151397705, 0.6994911432266235, 0.8016328811645508, 0.767887532711029, 0.7515071630477905, 0.7885578870773315, 0.8801276087760925, 0.8590781092643738, 0.8269409537315369, 0.794459342956543, 0.792722225189209, 0.7893339395523071, 0.7433510422706604, 0.6835915446281433, 0.6684995293617249, 0.6692503094673157, 0.7121714353561401, 0.7284260392189026, 1.0, 0.9372887015342712, 0.677893340587616, 0.7419371008872986, 0.8477901816368103, 0.7922816872596741, 0.8234102725982666, 0.8267291784286499, 0.8444195985794067, 0.6635630130767822, 0.6418977975845337, 0.6568297743797302, 0.787962019443512, 0.7946167588233948], [0.7635465264320374, 0.7753016352653503, 0.8097020983695984, 0.7933972477912903, 0.7120640873908997, 0.7552909255027771, 0.7424529194831848, 0.7240123748779297, 0.7887333035469055, 0.8205254077911377, 0.8262268900871277, 0.8079906702041626, 0.7957736253738403, 0.8025468587875366, 0.7907059788703918, 0.7032742500305176, 0.6554410457611084, 0.6516119241714478, 0.6556186676025391, 0.6706258654594421, 0.682172954082489, 0.9372887015342712, 1.0, 0.6460058093070984, 0.6979747414588928, 0.7759996056556702, 0.7991620302200317, 0.7528030872344971, 0.8009284734725952, 0.8424350619316101, 0.6516841650009155, 0.6698153614997864, 0.6171390414237976, 0.7414929866790771, 0.7231080532073975], [0.5910668969154358, 0.5947321057319641, 0.6358499526977539, 0.6563219428062439, 0.6061233878135681, 0.6786012649536133, 0.6453953385353088, 0.606411874294281, 0.679664671421051, 0.6795544624328613, 0.6396210193634033, 0.6212446689605713, 0.6340556144714355, 0.650890588760376, 0.6801189184188843, 0.5973318815231323, 0.6642963290214539, 0.6641784906387329, 0.6774808168411255, 0.7161984443664551, 0.7054034471511841, 0.677893340587616, 0.6460058093070984, 1.0, 0.8644583821296692, 0.7135228514671326, 0.7672335505485535, 0.7080886960029602, 0.7335699200630188, 0.6306447982788086, 0.9083316326141357, 0.8909867405891418, 0.9362432360649109, 0.6715818047523499, 0.7072511911392212], [0.6878949999809265, 0.6730921864509583, 0.7188829183578491, 0.6805466413497925, 0.6419503092765808, 0.7451138496398926, 0.7085858583450317, 0.6779571771621704, 0.7083820700645447, 0.7428046464920044, 0.7167714834213257, 0.6842467188835144, 0.6864185929298401, 0.6901649236679077, 0.700559675693512, 0.6584519147872925, 0.7142354846000671, 0.6866710782051086, 0.690427839756012, 0.7566307783126831, 0.7645004987716675, 0.7419371008872986, 0.6979747414588928, 0.8644583821296692, 1.0, 0.7952847480773926, 0.8309796452522278, 0.7678945064544678, 0.7825499773025513, 0.6698906421661377, 0.8065118193626404, 0.766532301902771, 0.8148638606071472, 0.7158128619194031, 0.7559157013893127], [0.7097204327583313, 0.6813987493515015, 0.7584971785545349, 0.6883707046508789, 0.6264970302581787, 0.7399414777755737, 0.7338528037071228, 0.732566773891449, 0.7195417284965515, 0.8619223833084106, 0.7372058629989624, 0.7136763334274292, 0.722411572933197, 0.7266367673873901, 0.709887683391571, 0.6726194024085999, 0.8119263052940369, 0.7835644483566284, 0.7674940228462219, 0.8359057903289795, 0.8450910449028015, 0.8477901816368103, 0.7759996056556702, 0.7135228514671326, 0.7952847480773926, 1.0, 0.8453584909439087, 0.9339602589607239, 0.9024009704589844, 0.7321564555168152, 0.6998373866081238, 0.6603172421455383, 0.7005185484886169, 0.8904603123664856, 0.9120993614196777], [0.6448606252670288, 0.6357334852218628, 0.700543224811554, 0.6761377453804016, 0.6083434224128723, 0.6794751286506653, 0.6818898916244507, 0.6582596302032471, 0.685369074344635, 0.7638494968414307, 0.6924656629562378, 0.6615117192268372, 0.6926430463790894, 0.697029709815979, 0.6881958842277527, 0.6107910871505737, 0.6900433301925659, 0.6633633971214294, 0.6597212553024292, 0.7195957899093628, 0.7228307723999023, 0.7922816872596741, 0.7991620302200317, 0.7672335505485535, 0.8309796452522278, 0.8453584909439087, 1.0, 0.7901775240898132, 0.8616605401039124, 0.731630802154541, 0.7869462370872498, 0.752354085445404, 0.7241602540016174, 0.7518101930618286, 0.7728374004364014], [0.6957005262374878, 0.6684141755104065, 0.7220137715339661, 0.6584669947624207, 0.5910857915878296, 0.7011353373527527, 0.6794223189353943, 0.7212194800376892, 0.7016639113426208, 0.8437981009483337, 0.7129799723625183, 0.700200080871582, 0.676203191280365, 0.6782002449035645, 0.6921489834785461, 0.6702879667282104, 0.7550919651985168, 0.7496592402458191, 0.7322266697883606, 0.7813596129417419, 0.7918658256530762, 0.8234102725982666, 0.7528030872344971, 0.7080886960029602, 0.7678945064544678, 0.9339602589607239, 0.7901775240898132, 1.0, 0.9388576745986938, 0.7545005679130554, 0.695953369140625, 0.6557334065437317, 0.6869205236434937, 0.9647222757339478, 0.9824605584144592], [0.6904869675636292, 0.6950575709342957, 0.7391889095306396, 0.6959925889968872, 0.605922281742096, 0.7115525007247925, 0.7076873183250427, 0.7343945503234863, 0.7307102084159851, 0.8124186992645264, 0.7116144895553589, 0.7014493942260742, 0.7060789465904236, 0.7150400876998901, 0.7242019176483154, 0.6608729958534241, 0.7375736832618713, 0.732787549495697, 0.7238028049468994, 0.7604226469993591, 0.76726895570755, 0.8267291784286499, 0.8009284734725952, 0.7335699200630188, 0.7825499773025513, 0.9024009704589844, 0.8616605401039124, 0.9388576745986938, 1.0, 0.776772677898407, 0.7366078495979309, 0.7136898636817932, 0.7054628729820251, 0.9164680242538452, 0.9171044230461121], [0.6500993967056274, 0.6744408011436462, 0.7046182751655579, 0.7192638516426086, 0.6449520587921143, 0.6611359119415283, 0.6558210849761963, 0.6559803485870361, 0.7369713187217712, 0.7607361078262329, 0.6946170330047607, 0.6991000175476074, 0.7012297511100769, 0.7132880687713623, 0.7294768691062927, 0.5892210006713867, 0.6275537014007568, 0.633637011051178, 0.6441754698753357, 0.6213657855987549, 0.638896644115448, 0.8444195985794067, 0.8424350619316101, 0.6306447982788086, 0.6698906421661377, 0.7321564555168152, 0.731630802154541, 0.7545005679130554, 0.776772677898407, 1.0, 0.6001507043838501, 0.6429657340049744, 0.612684965133667, 0.7738523483276367, 0.7155279517173767], [0.5376498103141785, 0.559130847454071, 0.5788236260414124, 0.5913710594177246, 0.5595089197158813, 0.6463521718978882, 0.6202405095100403, 0.5480784773826599, 0.5995699763298035, 0.6640490889549255, 0.5949108004570007, 0.5980076789855957, 0.5956264138221741, 0.6129550337791443, 0.6064214706420898, 0.5462073683738708, 0.6207647919654846, 0.6185735464096069, 0.622422993183136, 0.6821070313453674, 0.6636646389961243, 0.6635630130767822, 0.6516841650009155, 0.9083316326141357, 0.8065118193626404, 0.6998373866081238, 0.7869462370872498, 0.695953369140625, 0.7366078495979309, 0.6001507043838501, 1.0, 0.8777396082878113, 0.9074437022209167, 0.6517391204833984, 0.702915608882904], [0.5208662748336792, 0.5501524806022644, 0.5783565640449524, 0.6168562769889832, 0.5923726558685303, 0.6238977909088135, 0.6063267588615417, 0.553004801273346, 0.6358608603477478, 0.6368976831436157, 0.5670767426490784, 0.573452889919281, 0.592196524143219, 0.605438232421875, 0.6440383195877075, 0.5190109610557556, 0.6218000054359436, 0.6290846467018127, 0.6431868672370911, 0.6582196950912476, 0.6474880576133728, 0.6418977975845337, 0.6698153614997864, 0.8909867405891418, 0.766532301902771, 0.6603172421455383, 0.752354085445404, 0.6557334065437317, 0.7136898636817932, 0.6429657340049744, 0.8777396082878113, 1.0, 0.8890266418457031, 0.6382853388786316, 0.6511017680168152], [0.5528550148010254, 0.5830650329589844, 0.5956509113311768, 0.6060633659362793, 0.5731021761894226, 0.6652964949607849, 0.6314164400100708, 0.5568175315856934, 0.6259782314300537, 0.6527633666992188, 0.6086795926094055, 0.6048394441604614, 0.6242378950119019, 0.6308776140213013, 0.635129451751709, 0.5553522706031799, 0.6468641757965088, 0.6382627487182617, 0.6478003263473511, 0.700934886932373, 0.6841495633125305, 0.6568297743797302, 0.6171390414237976, 0.9362432360649109, 0.8148638606071472, 0.7005185484886169, 0.7241602540016174, 0.6869205236434937, 0.7054628729820251, 0.612684965133667, 0.9074437022209167, 0.8890266418457031, 1.0, 0.6434159278869629, 0.6877300143241882], [0.635760486125946, 0.63612300157547, 0.6988587379455566, 0.6492020487785339, 0.5740307569503784, 0.6542168855667114, 0.6720077395439148, 0.6932136416435242, 0.7381141185760498, 0.8063745498657227, 0.6517654061317444, 0.6504865288734436, 0.6558668613433838, 0.653131902217865, 0.7313956022262573, 0.6186798214912415, 0.7599965333938599, 0.786531388759613, 0.7717738747596741, 0.7487514019012451, 0.7612593770027161, 0.787962019443512, 0.7414929866790771, 0.6715818047523499, 0.7158128619194031, 0.8904603123664856, 0.7518101930618286, 0.9647222757339478, 0.9164680242538452, 0.7738523483276367, 0.6517391204833984, 0.6382853388786316, 0.6434159278869629, 1.0, 0.9455535411834717], [0.6670063138008118, 0.6450706720352173, 0.7006229162216187, 0.633337140083313, 0.5845283269882202, 0.6691492199897766, 0.6610620021820068, 0.688536524772644, 0.6803457736968994, 0.8127680420875549, 0.688015878200531, 0.6796631217002869, 0.6533147692680359, 0.6566379070281982, 0.6845112442970276, 0.6917082071304321, 0.7400731444358826, 0.7397816181182861, 0.7145735025405884, 0.7809146046638489, 0.7707976698875427, 0.7946167588233948, 0.7231080532073975, 0.7072511911392212, 0.7559157013893127, 0.9120993614196777, 0.7728374004364014, 0.9824605584144592, 0.9171044230461121, 0.7155279517173767, 0.702915608882904, 0.6511017680168152, 0.6877300143241882, 0.9455535411834717, 1.0]]\n"
     ]
    },
    {
     "data": {
      "text/plain": "35"
     },
     "execution_count": 142,
     "metadata": {},
     "output_type": "execute_result"
    }
   ],
   "source": [
    "cos_sims_centroids = [[cos(centroid_a, centroid_b).item() for centroid_b in sentences_centroids] for centroid_a in sentences_centroids]\n",
    "print(cos_sims_centroids)\n",
    "len(cos_sims_centroids)"
   ],
   "metadata": {
    "collapsed": false,
    "pycharm": {
     "name": "#%%\n"
    }
   }
  },
  {
   "cell_type": "code",
   "execution_count": 143,
   "outputs": [
    {
     "name": "stdout",
     "output_type": "stream",
     "text": [
      "[1.0, 0.8996008634567261, 0.9198457598686218, 0.7202247381210327, 0.6473896503448486, 0.8561151623725891, 0.7878742814064026, 0.8632704615592957, 0.779762864112854, 0.7260465621948242, 0.9300801157951355, 0.8763684034347534, 0.7349972724914551, 0.7374476194381714, 0.7547682523727417, 0.9308681488037109, 0.5955303311347961, 0.5602136850357056, 0.5564670562744141, 0.6455003023147583, 0.666740357875824, 0.806885838508606, 0.7635465264320374, 0.5910668969154358, 0.6878949999809265, 0.7097204327583313, 0.6448606252670288, 0.6957005262374878, 0.6904869675636292, 0.6500993967056274, 0.5376498103141785, 0.5208662748336792, 0.5528550148010254, 0.635760486125946, 0.6670063138008118, 0.8996008634567261, 1.0, 0.8855577111244202, 0.7331383228302002, 0.6599642038345337, 0.8448490500450134, 0.8175795078277588, 0.7907476425170898, 0.7839623093605042, 0.6682948470115662, 0.8859336376190186, 0.9299957156181335, 0.7837681770324707, 0.7793893814086914, 0.7832338809967041, 0.8372676372528076, 0.5868648290634155, 0.5652596950531006, 0.5607964992523193, 0.6207751631736755, 0.6264495849609375, 0.7893080115318298, 0.7753016352653503, 0.5947321057319641, 0.6730921864509583, 0.6813987493515015, 0.6357334852218628, 0.6684141755104065, 0.6950575709342957, 0.6744408011436462, 0.559130847454071, 0.5501524806022644, 0.5830650329589844, 0.63612300157547, 0.6450706720352173, 0.9198457598686218, 0.8855577111244202, 1.0, 0.7906064987182617, 0.7171511650085449, 0.8491173386573792, 0.8708584308624268, 0.8314265012741089, 0.903965950012207, 0.7383692860603333, 0.9112460017204285, 0.8558242321014404, 0.7952011227607727, 0.8042359352111816, 0.8838845491409302, 0.8887197375297546, 0.7231076955795288, 0.6988572478294373, 0.693752646446228, 0.724731981754303, 0.7348538637161255, 0.8265015482902527, 0.8097020983695984, 0.6358499526977539, 0.7188829183578491, 0.7584971785545349, 0.700543224811554, 0.7220137715339661, 0.7391889095306396, 0.7046182751655579, 0.5788236260414124, 0.5783565640449524, 0.5956509113311768, 0.6988587379455566, 0.7006229162216187, 0.7202247381210327, 0.7331383228302002, 0.7906064987182617, 1.0, 0.8828245401382446, 0.6697145104408264, 0.6517068147659302, 0.6802234053611755, 0.8432337641716003, 0.6865988373756409, 0.7812640070915222, 0.764706015586853, 0.8414945602416992, 0.9140602946281433, 0.8421018123626709, 0.6800780296325684, 0.6400846838951111, 0.6523965001106262, 0.6606701016426086, 0.6506410241127014, 0.6536426544189453, 0.7814648151397705, 0.7933972477912903, 0.6563219428062439, 0.6805466413497925, 0.6883707046508789, 0.6761377453804016, 0.6584669947624207, 0.6959925889968872, 0.7192638516426086, 0.5913710594177246, 0.6168562769889832, 0.6060633659362793, 0.6492020487785339, 0.633337140083313, 0.6473896503448486, 0.6599642038345337, 0.7171511650085449, 0.8828245401382446, 1.0, 0.6138906478881836, 0.60926353931427, 0.5603258609771729, 0.7489567995071411, 0.6038066148757935, 0.7086634039878845, 0.690637469291687, 0.7415175437927246, 0.7942458987236023, 0.7596709132194519, 0.6266695261001587, 0.5375334620475769, 0.5376768708229065, 0.5392260551452637, 0.559120237827301, 0.5451136231422424, 0.6994911432266235, 0.7120640873908997, 0.6061233878135681, 0.6419503092765808, 0.6264970302581787, 0.6083434224128723, 0.5910857915878296, 0.605922281742096, 0.6449520587921143, 0.5595089197158813, 0.5923726558685303, 0.5731021761894226, 0.5740307569503784, 0.5845283269882202, 0.8561151623725891, 0.8448490500450134, 0.8491173386573792, 0.6697145104408264, 0.6138906478881836, 1.0, 0.9363823533058167, 0.8178339004516602, 0.7589840888977051, 0.7690067291259766, 0.8451197743415833, 0.8186663389205933, 0.709979236125946, 0.6893556118011475, 0.7401401400566101, 0.7814805507659912, 0.6714925765991211, 0.6369612216949463, 0.6400545835494995, 0.7059222459793091, 0.7287061810493469, 0.8016328811645508, 0.7552909255027771, 0.6786012649536133, 0.7451138496398926, 0.7399414777755737, 0.6794751286506653, 0.7011353373527527, 0.7115525007247925, 0.6611359119415283, 0.6463521718978882, 0.6238977909088135, 0.6652964949607849, 0.6542168855667114, 0.6691492199897766, 0.7878742814064026, 0.8175795078277588, 0.8708584308624268, 0.6517068147659302, 0.60926353931427, 0.9363823533058167, 1.0, 0.7685413956642151, 0.7984798550605774, 0.7261741757392883, 0.7830555438995361, 0.7695024609565735, 0.6969340443611145, 0.6729212999343872, 0.7893668413162231, 0.7510250210762024, 0.7346258163452148, 0.7073399424552917, 0.7038043737411499, 0.7193544507026672, 0.731433093547821, 0.767887532711029, 0.7424529194831848, 0.6453953385353088, 0.7085858583450317, 0.7338528037071228, 0.6818898916244507, 0.6794223189353943, 0.7076873183250427, 0.6558210849761963, 0.6202405095100403, 0.6063267588615417, 0.6314164400100708, 0.6720077395439148, 0.6610620021820068, 0.8632704615592957, 0.7907476425170898, 0.8314265012741089, 0.6802234053611755, 0.5603258609771729, 0.8178339004516602, 0.7685413956642151, 1.0, 0.7529401183128357, 0.7397537231445312, 0.8008279800415039, 0.7653148174285889, 0.6999483704566956, 0.6981713771820068, 0.7373254895210266, 0.7970353960990906, 0.6644828915596008, 0.6528711915016174, 0.6507782936096191, 0.6944245100021362, 0.7173530459403992, 0.7515071630477905, 0.7240123748779297, 0.606411874294281, 0.6779571771621704, 0.732566773891449, 0.6582596302032471, 0.7212194800376892, 0.7343945503234863, 0.6559803485870361, 0.5480784773826599, 0.553004801273346, 0.5568175315856934, 0.6932136416435242, 0.688536524772644, 0.779762864112854, 0.7839623093605042, 0.903965950012207, 0.8432337641716003, 0.7489567995071411, 0.7589840888977051, 0.7984798550605774, 0.7529401183128357, 1.0, 0.7119670510292053, 0.8052425384521484, 0.7558696269989014, 0.7864417433738708, 0.8026357889175415, 0.9780564904212952, 0.7582560181617737, 0.7342180013656616, 0.7701025009155273, 0.7840554714202881, 0.7052972912788391, 0.7147650718688965, 0.7885578870773315, 0.7887333035469055, 0.679664671421051, 0.7083820700645447, 0.7195417284965515, 0.685369074344635, 0.7016639113426208, 0.7307102084159851, 0.7369713187217712, 0.5995699763298035, 0.6358608603477478, 0.6259782314300537, 0.7381141185760498, 0.6803457736968994, 0.7260465621948242, 0.6682948470115662, 0.7383692860603333, 0.6865988373756409, 0.6038066148757935, 0.7690067291259766, 0.7261741757392883, 0.7397537231445312, 0.7119670510292053, 1.0, 0.7806771993637085, 0.7229824066162109, 0.7387019395828247, 0.7235305309295654, 0.7128433585166931, 0.6666229367256165, 0.7702880501747131, 0.7412272691726685, 0.744464635848999, 0.8072487115859985, 0.828487753868103, 0.8801276087760925, 0.8205254077911377, 0.6795544624328613, 0.7428046464920044, 0.8619223833084106, 0.7638494968414307, 0.8437981009483337, 0.8124186992645264, 0.7607361078262329, 0.6640490889549255, 0.6368976831436157, 0.6527633666992188, 0.8063745498657227, 0.8127680420875549, 0.9300801157951355, 0.8859336376190186, 0.9112460017204285, 0.7812640070915222, 0.7086634039878845, 0.8451197743415833, 0.7830555438995361, 0.8008279800415039, 0.8052425384521484, 0.7806771993637085, 1.0, 0.9289835095405579, 0.8501262664794922, 0.8432194590568542, 0.8042582273483276, 0.8651498556137085, 0.6361168622970581, 0.6009706258773804, 0.5974826812744141, 0.6863910555839539, 0.7012196779251099, 0.8590781092643738, 0.8262268900871277, 0.6396210193634033, 0.7167714834213257, 0.7372058629989624, 0.6924656629562378, 0.7129799723625183, 0.7116144895553589, 0.6946170330047607, 0.5949108004570007, 0.5670767426490784, 0.6086795926094055, 0.6517654061317444, 0.688015878200531, 0.8763684034347534, 0.9299957156181335, 0.8558242321014404, 0.764706015586853, 0.690637469291687, 0.8186663389205933, 0.7695024609565735, 0.7653148174285889, 0.7558696269989014, 0.7229824066162109, 0.9289835095405579, 1.0, 0.8305099010467529, 0.8333154320716858, 0.7536358833312988, 0.8227521181106567, 0.5881019234657288, 0.5614145994186401, 0.5579680800437927, 0.6309868097305298, 0.6393046379089355, 0.8269409537315369, 0.8079906702041626, 0.6212446689605713, 0.6842467188835144, 0.7136763334274292, 0.6615117192268372, 0.700200080871582, 0.7014493942260742, 0.6991000175476074, 0.5980076789855957, 0.573452889919281, 0.6048394441604614, 0.6504865288734436, 0.6796631217002869, 0.7349972724914551, 0.7837681770324707, 0.7952011227607727, 0.8414945602416992, 0.7415175437927246, 0.709979236125946, 0.6969340443611145, 0.6999483704566956, 0.7864417433738708, 0.7387019395828247, 0.8501262664794922, 0.8305099010467529, 1.0, 0.954054057598114, 0.8105281591415405, 0.6957733631134033, 0.6640116572380066, 0.6548588871955872, 0.6535964608192444, 0.697597086429596, 0.6946157813072205, 0.794459342956543, 0.7957736253738403, 0.6340556144714355, 0.6864185929298401, 0.722411572933197, 0.6926430463790894, 0.676203191280365, 0.7060789465904236, 0.7012297511100769, 0.5956264138221741, 0.592196524143219, 0.6242378950119019, 0.6558668613433838, 0.6533147692680359, 0.7374476194381714, 0.7793893814086914, 0.8042359352111816, 0.9140602946281433, 0.7942458987236023, 0.6893556118011475, 0.6729212999343872, 0.6981713771820068, 0.8026357889175415, 0.7235305309295654, 0.8432194590568542, 0.8333154320716858, 0.954054057598114, 1.0, 0.8157811760902405, 0.7052673697471619, 0.6680186986923218, 0.6647812724113464, 0.6665599942207336, 0.7029694318771362, 0.6954146027565002, 0.792722225189209, 0.8025468587875366, 0.650890588760376, 0.6901649236679077, 0.7266367673873901, 0.697029709815979, 0.6782002449035645, 0.7150400876998901, 0.7132880687713623, 0.6129550337791443, 0.605438232421875, 0.6308776140213013, 0.653131902217865, 0.6566379070281982, 0.7547682523727417, 0.7832338809967041, 0.8838845491409302, 0.8421018123626709, 0.7596709132194519, 0.7401401400566101, 0.7893668413162231, 0.7373254895210266, 0.9780564904212952, 0.7128433585166931, 0.8042582273483276, 0.7536358833312988, 0.8105281591415405, 0.8157811760902405, 1.0, 0.752085268497467, 0.7346692681312561, 0.7760285139083862, 0.7782702445983887, 0.7128260135650635, 0.7072645425796509, 0.7893339395523071, 0.7907059788703918, 0.6801189184188843, 0.700559675693512, 0.709887683391571, 0.6881958842277527, 0.6921489834785461, 0.7242019176483154, 0.7294768691062927, 0.6064214706420898, 0.6440383195877075, 0.635129451751709, 0.7313956022262573, 0.6845112442970276, 0.9308681488037109, 0.8372676372528076, 0.8887197375297546, 0.6800780296325684, 0.6266695261001587, 0.7814805507659912, 0.7510250210762024, 0.7970353960990906, 0.7582560181617737, 0.6666229367256165, 0.8651498556137085, 0.8227521181106567, 0.6957733631134033, 0.7052673697471619, 0.752085268497467, 1.0, 0.5897107720375061, 0.5688803195953369, 0.5544160604476929, 0.6564652919769287, 0.6417518258094788, 0.7433510422706604, 0.7032742500305176, 0.5973318815231323, 0.6584519147872925, 0.6726194024085999, 0.6107910871505737, 0.6702879667282104, 0.6608729958534241, 0.5892210006713867, 0.5462073683738708, 0.5190109610557556, 0.5553522706031799, 0.6186798214912415, 0.6917082071304321, 0.5955303311347961, 0.5868648290634155, 0.7231076955795288, 0.6400846838951111, 0.5375334620475769, 0.6714925765991211, 0.7346258163452148, 0.6644828915596008, 0.7342180013656616, 0.7702880501747131, 0.6361168622970581, 0.5881019234657288, 0.6640116572380066, 0.6680186986923218, 0.7346692681312561, 0.5897107720375061, 1.0, 0.9682672023773193, 0.96048903465271, 0.9594876170158386, 0.9671179056167603, 0.6835915446281433, 0.6554410457611084, 0.6642963290214539, 0.7142354846000671, 0.8119263052940369, 0.6900433301925659, 0.7550919651985168, 0.7375736832618713, 0.6275537014007568, 0.6207647919654846, 0.6218000054359436, 0.6468641757965088, 0.7599965333938599, 0.7400731444358826, 0.5602136850357056, 0.5652596950531006, 0.6988572478294373, 0.6523965001106262, 0.5376768708229065, 0.6369612216949463, 0.7073399424552917, 0.6528711915016174, 0.7701025009155273, 0.7412272691726685, 0.6009706258773804, 0.5614145994186401, 0.6548588871955872, 0.6647812724113464, 0.7760285139083862, 0.5688803195953369, 0.9682672023773193, 1.0, 0.9890540242195129, 0.926084041595459, 0.9231548309326172, 0.6684995293617249, 0.6516119241714478, 0.6641784906387329, 0.6866710782051086, 0.7835644483566284, 0.6633633971214294, 0.7496592402458191, 0.732787549495697, 0.633637011051178, 0.6185735464096069, 0.6290846467018127, 0.6382627487182617, 0.786531388759613, 0.7397816181182861, 0.5564670562744141, 0.5607964992523193, 0.693752646446228, 0.6606701016426086, 0.5392260551452637, 0.6400545835494995, 0.7038043737411499, 0.6507782936096191, 0.7840554714202881, 0.744464635848999, 0.5974826812744141, 0.5579680800437927, 0.6535964608192444, 0.6665599942207336, 0.7782702445983887, 0.5544160604476929, 0.96048903465271, 0.9890540242195129, 1.0, 0.911183774471283, 0.9191873073577881, 0.6692503094673157, 0.6556186676025391, 0.6774808168411255, 0.690427839756012, 0.7674940228462219, 0.6597212553024292, 0.7322266697883606, 0.7238028049468994, 0.6441754698753357, 0.622422993183136, 0.6431868672370911, 0.6478003263473511, 0.7717738747596741, 0.7145735025405884, 0.6455003023147583, 0.6207751631736755, 0.724731981754303, 0.6506410241127014, 0.559120237827301, 0.7059222459793091, 0.7193544507026672, 0.6944245100021362, 0.7052972912788391, 0.8072487115859985, 0.6863910555839539, 0.6309868097305298, 0.697597086429596, 0.7029694318771362, 0.7128260135650635, 0.6564652919769287, 0.9594876170158386, 0.926084041595459, 0.911183774471283, 1.0, 0.9832317233085632, 0.7121714353561401, 0.6706258654594421, 0.7161984443664551, 0.7566307783126831, 0.8359057903289795, 0.7195957899093628, 0.7813596129417419, 0.7604226469993591, 0.6213657855987549, 0.6821070313453674, 0.6582196950912476, 0.700934886932373, 0.7487514019012451, 0.7809146046638489, 0.666740357875824, 0.6264495849609375, 0.7348538637161255, 0.6536426544189453, 0.5451136231422424, 0.7287061810493469, 0.731433093547821, 0.7173530459403992, 0.7147650718688965, 0.828487753868103, 0.7012196779251099, 0.6393046379089355, 0.6946157813072205, 0.6954146027565002, 0.7072645425796509, 0.6417518258094788, 0.9671179056167603, 0.9231548309326172, 0.9191873073577881, 0.9832317233085632, 1.0, 0.7284260392189026, 0.682172954082489, 0.7054034471511841, 0.7645004987716675, 0.8450910449028015, 0.7228307723999023, 0.7918658256530762, 0.76726895570755, 0.638896644115448, 0.6636646389961243, 0.6474880576133728, 0.6841495633125305, 0.7612593770027161, 0.7707976698875427, 0.806885838508606, 0.7893080115318298, 0.8265015482902527, 0.7814648151397705, 0.6994911432266235, 0.8016328811645508, 0.767887532711029, 0.7515071630477905, 0.7885578870773315, 0.8801276087760925, 0.8590781092643738, 0.8269409537315369, 0.794459342956543, 0.792722225189209, 0.7893339395523071, 0.7433510422706604, 0.6835915446281433, 0.6684995293617249, 0.6692503094673157, 0.7121714353561401, 0.7284260392189026, 1.0, 0.9372887015342712, 0.677893340587616, 0.7419371008872986, 0.8477901816368103, 0.7922816872596741, 0.8234102725982666, 0.8267291784286499, 0.8444195985794067, 0.6635630130767822, 0.6418977975845337, 0.6568297743797302, 0.787962019443512, 0.7946167588233948, 0.7635465264320374, 0.7753016352653503, 0.8097020983695984, 0.7933972477912903, 0.7120640873908997, 0.7552909255027771, 0.7424529194831848, 0.7240123748779297, 0.7887333035469055, 0.8205254077911377, 0.8262268900871277, 0.8079906702041626, 0.7957736253738403, 0.8025468587875366, 0.7907059788703918, 0.7032742500305176, 0.6554410457611084, 0.6516119241714478, 0.6556186676025391, 0.6706258654594421, 0.682172954082489, 0.9372887015342712, 1.0, 0.6460058093070984, 0.6979747414588928, 0.7759996056556702, 0.7991620302200317, 0.7528030872344971, 0.8009284734725952, 0.8424350619316101, 0.6516841650009155, 0.6698153614997864, 0.6171390414237976, 0.7414929866790771, 0.7231080532073975, 0.5910668969154358, 0.5947321057319641, 0.6358499526977539, 0.6563219428062439, 0.6061233878135681, 0.6786012649536133, 0.6453953385353088, 0.606411874294281, 0.679664671421051, 0.6795544624328613, 0.6396210193634033, 0.6212446689605713, 0.6340556144714355, 0.650890588760376, 0.6801189184188843, 0.5973318815231323, 0.6642963290214539, 0.6641784906387329, 0.6774808168411255, 0.7161984443664551, 0.7054034471511841, 0.677893340587616, 0.6460058093070984, 1.0, 0.8644583821296692, 0.7135228514671326, 0.7672335505485535, 0.7080886960029602, 0.7335699200630188, 0.6306447982788086, 0.9083316326141357, 0.8909867405891418, 0.9362432360649109, 0.6715818047523499, 0.7072511911392212, 0.6878949999809265, 0.6730921864509583, 0.7188829183578491, 0.6805466413497925, 0.6419503092765808, 0.7451138496398926, 0.7085858583450317, 0.6779571771621704, 0.7083820700645447, 0.7428046464920044, 0.7167714834213257, 0.6842467188835144, 0.6864185929298401, 0.6901649236679077, 0.700559675693512, 0.6584519147872925, 0.7142354846000671, 0.6866710782051086, 0.690427839756012, 0.7566307783126831, 0.7645004987716675, 0.7419371008872986, 0.6979747414588928, 0.8644583821296692, 1.0, 0.7952847480773926, 0.8309796452522278, 0.7678945064544678, 0.7825499773025513, 0.6698906421661377, 0.8065118193626404, 0.766532301902771, 0.8148638606071472, 0.7158128619194031, 0.7559157013893127, 0.7097204327583313, 0.6813987493515015, 0.7584971785545349, 0.6883707046508789, 0.6264970302581787, 0.7399414777755737, 0.7338528037071228, 0.732566773891449, 0.7195417284965515, 0.8619223833084106, 0.7372058629989624, 0.7136763334274292, 0.722411572933197, 0.7266367673873901, 0.709887683391571, 0.6726194024085999, 0.8119263052940369, 0.7835644483566284, 0.7674940228462219, 0.8359057903289795, 0.8450910449028015, 0.8477901816368103, 0.7759996056556702, 0.7135228514671326, 0.7952847480773926, 1.0, 0.8453584909439087, 0.9339602589607239, 0.9024009704589844, 0.7321564555168152, 0.6998373866081238, 0.6603172421455383, 0.7005185484886169, 0.8904603123664856, 0.9120993614196777, 0.6448606252670288, 0.6357334852218628, 0.700543224811554, 0.6761377453804016, 0.6083434224128723, 0.6794751286506653, 0.6818898916244507, 0.6582596302032471, 0.685369074344635, 0.7638494968414307, 0.6924656629562378, 0.6615117192268372, 0.6926430463790894, 0.697029709815979, 0.6881958842277527, 0.6107910871505737, 0.6900433301925659, 0.6633633971214294, 0.6597212553024292, 0.7195957899093628, 0.7228307723999023, 0.7922816872596741, 0.7991620302200317, 0.7672335505485535, 0.8309796452522278, 0.8453584909439087, 1.0, 0.7901775240898132, 0.8616605401039124, 0.731630802154541, 0.7869462370872498, 0.752354085445404, 0.7241602540016174, 0.7518101930618286, 0.7728374004364014, 0.6957005262374878, 0.6684141755104065, 0.7220137715339661, 0.6584669947624207, 0.5910857915878296, 0.7011353373527527, 0.6794223189353943, 0.7212194800376892, 0.7016639113426208, 0.8437981009483337, 0.7129799723625183, 0.700200080871582, 0.676203191280365, 0.6782002449035645, 0.6921489834785461, 0.6702879667282104, 0.7550919651985168, 0.7496592402458191, 0.7322266697883606, 0.7813596129417419, 0.7918658256530762, 0.8234102725982666, 0.7528030872344971, 0.7080886960029602, 0.7678945064544678, 0.9339602589607239, 0.7901775240898132, 1.0, 0.9388576745986938, 0.7545005679130554, 0.695953369140625, 0.6557334065437317, 0.6869205236434937, 0.9647222757339478, 0.9824605584144592, 0.6904869675636292, 0.6950575709342957, 0.7391889095306396, 0.6959925889968872, 0.605922281742096, 0.7115525007247925, 0.7076873183250427, 0.7343945503234863, 0.7307102084159851, 0.8124186992645264, 0.7116144895553589, 0.7014493942260742, 0.7060789465904236, 0.7150400876998901, 0.7242019176483154, 0.6608729958534241, 0.7375736832618713, 0.732787549495697, 0.7238028049468994, 0.7604226469993591, 0.76726895570755, 0.8267291784286499, 0.8009284734725952, 0.7335699200630188, 0.7825499773025513, 0.9024009704589844, 0.8616605401039124, 0.9388576745986938, 1.0, 0.776772677898407, 0.7366078495979309, 0.7136898636817932, 0.7054628729820251, 0.9164680242538452, 0.9171044230461121, 0.6500993967056274, 0.6744408011436462, 0.7046182751655579, 0.7192638516426086, 0.6449520587921143, 0.6611359119415283, 0.6558210849761963, 0.6559803485870361, 0.7369713187217712, 0.7607361078262329, 0.6946170330047607, 0.6991000175476074, 0.7012297511100769, 0.7132880687713623, 0.7294768691062927, 0.5892210006713867, 0.6275537014007568, 0.633637011051178, 0.6441754698753357, 0.6213657855987549, 0.638896644115448, 0.8444195985794067, 0.8424350619316101, 0.6306447982788086, 0.6698906421661377, 0.7321564555168152, 0.731630802154541, 0.7545005679130554, 0.776772677898407, 1.0, 0.6001507043838501, 0.6429657340049744, 0.612684965133667, 0.7738523483276367, 0.7155279517173767, 0.5376498103141785, 0.559130847454071, 0.5788236260414124, 0.5913710594177246, 0.5595089197158813, 0.6463521718978882, 0.6202405095100403, 0.5480784773826599, 0.5995699763298035, 0.6640490889549255, 0.5949108004570007, 0.5980076789855957, 0.5956264138221741, 0.6129550337791443, 0.6064214706420898, 0.5462073683738708, 0.6207647919654846, 0.6185735464096069, 0.622422993183136, 0.6821070313453674, 0.6636646389961243, 0.6635630130767822, 0.6516841650009155, 0.9083316326141357, 0.8065118193626404, 0.6998373866081238, 0.7869462370872498, 0.695953369140625, 0.7366078495979309, 0.6001507043838501, 1.0, 0.8777396082878113, 0.9074437022209167, 0.6517391204833984, 0.702915608882904, 0.5208662748336792, 0.5501524806022644, 0.5783565640449524, 0.6168562769889832, 0.5923726558685303, 0.6238977909088135, 0.6063267588615417, 0.553004801273346, 0.6358608603477478, 0.6368976831436157, 0.5670767426490784, 0.573452889919281, 0.592196524143219, 0.605438232421875, 0.6440383195877075, 0.5190109610557556, 0.6218000054359436, 0.6290846467018127, 0.6431868672370911, 0.6582196950912476, 0.6474880576133728, 0.6418977975845337, 0.6698153614997864, 0.8909867405891418, 0.766532301902771, 0.6603172421455383, 0.752354085445404, 0.6557334065437317, 0.7136898636817932, 0.6429657340049744, 0.8777396082878113, 1.0, 0.8890266418457031, 0.6382853388786316, 0.6511017680168152, 0.5528550148010254, 0.5830650329589844, 0.5956509113311768, 0.6060633659362793, 0.5731021761894226, 0.6652964949607849, 0.6314164400100708, 0.5568175315856934, 0.6259782314300537, 0.6527633666992188, 0.6086795926094055, 0.6048394441604614, 0.6242378950119019, 0.6308776140213013, 0.635129451751709, 0.5553522706031799, 0.6468641757965088, 0.6382627487182617, 0.6478003263473511, 0.700934886932373, 0.6841495633125305, 0.6568297743797302, 0.6171390414237976, 0.9362432360649109, 0.8148638606071472, 0.7005185484886169, 0.7241602540016174, 0.6869205236434937, 0.7054628729820251, 0.612684965133667, 0.9074437022209167, 0.8890266418457031, 1.0, 0.6434159278869629, 0.6877300143241882, 0.635760486125946, 0.63612300157547, 0.6988587379455566, 0.6492020487785339, 0.5740307569503784, 0.6542168855667114, 0.6720077395439148, 0.6932136416435242, 0.7381141185760498, 0.8063745498657227, 0.6517654061317444, 0.6504865288734436, 0.6558668613433838, 0.653131902217865, 0.7313956022262573, 0.6186798214912415, 0.7599965333938599, 0.786531388759613, 0.7717738747596741, 0.7487514019012451, 0.7612593770027161, 0.787962019443512, 0.7414929866790771, 0.6715818047523499, 0.7158128619194031, 0.8904603123664856, 0.7518101930618286, 0.9647222757339478, 0.9164680242538452, 0.7738523483276367, 0.6517391204833984, 0.6382853388786316, 0.6434159278869629, 1.0, 0.9455535411834717, 0.6670063138008118, 0.6450706720352173, 0.7006229162216187, 0.633337140083313, 0.5845283269882202, 0.6691492199897766, 0.6610620021820068, 0.688536524772644, 0.6803457736968994, 0.8127680420875549, 0.688015878200531, 0.6796631217002869, 0.6533147692680359, 0.6566379070281982, 0.6845112442970276, 0.6917082071304321, 0.7400731444358826, 0.7397816181182861, 0.7145735025405884, 0.7809146046638489, 0.7707976698875427, 0.7946167588233948, 0.7231080532073975, 0.7072511911392212, 0.7559157013893127, 0.9120993614196777, 0.7728374004364014, 0.9824605584144592, 0.9171044230461121, 0.7155279517173767, 0.702915608882904, 0.6511017680168152, 0.6877300143241882, 0.9455535411834717, 1.0]\n"
     ]
    },
    {
     "data": {
      "text/plain": "1225"
     },
     "execution_count": 143,
     "metadata": {},
     "output_type": "execute_result"
    }
   ],
   "source": [
    "from itertools import product\n",
    "cos_sims_centroids_2 = [cos(centroid_a, centroid_b).item() for centroid_a, centroid_b in product(sentences_centroids, sentences_centroids)]\n",
    "print(cos_sims_centroids_2)\n",
    "len(cos_sims_centroids_2)"
   ],
   "metadata": {
    "collapsed": false,
    "pycharm": {
     "name": "#%%\n"
    }
   }
  },
  {
   "cell_type": "code",
   "execution_count": 135,
   "outputs": [
    {
     "name": "stdout",
     "output_type": "stream",
     "text": [
      "(35, 35)\n",
      "(1225,)\n"
     ]
    }
   ],
   "source": [
    "np_cos_sims_centroids = np.array(cos_sims_centroids)\n",
    "print(np_cos_sims_centroids.shape)\n",
    "np_cos_sims_centroids_flatten = np_cos_sims_centroids.flatten()\n",
    "print(np_cos_sims_centroids_flatten.shape)\n",
    "top_10_centroids = np_cos_sims_centroids_flatten.argsort()[-55:][::-1][-20:]"
   ],
   "metadata": {
    "collapsed": false,
    "pycharm": {
     "name": "#%%\n"
    }
   }
  },
  {
   "cell_type": "code",
   "execution_count": 136,
   "outputs": [
    {
     "name": "stdout",
     "output_type": "stream",
     "text": [
      "[ 613  647  719  685  979 1217  498  294  611  577  580  716  978 1182\n",
      "  646  578  681  579  467  433]\n",
      "(array([17, 18, 20, 19, 27, 34, 14,  8, 17, 16, 16, 20, 27, 33, 18, 16, 19,\n",
      "       16, 13, 12], dtype=int64), array([18, 17, 19, 20, 34, 27,  8, 14, 16, 17, 20, 16, 33, 27, 16, 18, 16,\n",
      "       19, 12, 13], dtype=int64))\n"
     ]
    }
   ],
   "source": [
    "print(top_10_centroids)\n",
    "unraveled_centroids_idx = np.unravel_index(top_10_centroids, (35,35))\n",
    "print(unraveled_centroids_idx)\n",
    "\n"
   ],
   "metadata": {
    "collapsed": false,
    "pycharm": {
     "name": "#%%\n"
    }
   }
  },
  {
   "cell_type": "code",
   "execution_count": 137,
   "outputs": [],
   "source": [
    "final_top_10_centroids = []\n",
    "i = 0\n",
    "while i < len(unraveled_centroids_idx[0]):\n",
    "    idx_1 = unraveled_centroids_idx[0][i]\n",
    "    idx_2 = unraveled_centroids_idx[0][i+1]\n",
    "    final_top_10_centroids.append(((idx_1, idx_2), np_cos_sims_centroids_flatten[idx_1*35+idx_2]))\n",
    "    i = i + 2"
   ],
   "metadata": {
    "collapsed": false,
    "pycharm": {
     "name": "#%%\n"
    }
   }
  },
  {
   "cell_type": "code",
   "execution_count": 138,
   "outputs": [
    {
     "data": {
      "text/plain": "[((17, 18), 0.9890540242195129),\n ((20, 19), 0.9832317233085632),\n ((27, 34), 0.9824605584144592),\n ((14, 8), 0.9780564904212952),\n ((17, 16), 0.9682672023773193),\n ((16, 20), 0.9671179056167603),\n ((27, 33), 0.9647222757339478),\n ((18, 16), 0.96048903465271),\n ((19, 16), 0.9594876170158386),\n ((13, 12), 0.954054057598114)]"
     },
     "execution_count": 138,
     "metadata": {},
     "output_type": "execute_result"
    }
   ],
   "source": [
    "final_top_10_centroids"
   ],
   "metadata": {
    "collapsed": false,
    "pycharm": {
     "name": "#%%\n"
    }
   }
  },
  {
   "cell_type": "code",
   "execution_count": 132,
   "outputs": [
    {
     "data": {
      "text/plain": "[((27, 34), 0.9951815605163574),\n ((14, 8), 0.9927845597267151),\n ((17, 18), 0.9904729127883911),\n ((19, 20), 0.988221287727356),\n ((27, 33), 0.9856245517730713),\n ((13, 12), 0.9816993474960327),\n ((33, 34), 0.9796444773674011),\n ((32, 23), 0.9780699014663696),\n ((17, 16), 0.9780153632164001),\n ((16, 20), 0.9770835041999817)]"
     },
     "execution_count": 132,
     "metadata": {},
     "output_type": "execute_result"
    }
   ],
   "source": [
    "final_top_10"
   ],
   "metadata": {
    "collapsed": false,
    "pycharm": {
     "name": "#%%\n"
    }
   }
  },
  {
   "cell_type": "code",
   "execution_count": null,
   "id": "interim-moses",
   "metadata": {},
   "outputs": [],
   "source": [
    "sims=run(sentences,poolinglayer=-2)"
   ]
  },
  {
   "cell_type": "code",
   "execution_count": null,
   "id": "robust-tribe",
   "metadata": {},
   "outputs": [],
   "source": [
    "#sims=run(sentences,method=\"cls\")"
   ]
  },
  {
   "cell_type": "code",
   "execution_count": null,
   "id": "appointed-sauce",
   "metadata": {},
   "outputs": [],
   "source": []
  },
  {
   "cell_type": "code",
   "execution_count": null,
   "id": "international-contributor",
   "metadata": {},
   "outputs": [],
   "source": [
    "print(sims[0])"
   ]
  },
  {
   "cell_type": "code",
   "execution_count": null,
   "id": "becoming-facility",
   "metadata": {},
   "outputs": [],
   "source": [
    "interested=[2,1,21,7,8,22,3,25]\n",
    "for i in interested:\n",
    "    print(sentences[i],sims[0][i])"
   ]
  },
  {
   "cell_type": "markdown",
   "id": "pressing-dodge",
   "metadata": {},
   "source": [
    "### Extension 1\n",
    "The MRPC.zip file contains a training, dev and test split for the Microsoft Research paraphrase corpus.  In this corpus the quality '1' indicates that the 2 sentences are considered to be paraphrases and '0' indicates that they are not.\n",
    "\n",
    "Can you build a classifier on top of the BERT pre-trained model, trained on the training split of MRPC, which predicts whether 2 sentences are paraphrases or not?\n",
    "\n",
    "Note this does not require you to fine-tune the BERT model.  You can use outputs from BERT as input to your separate classifier.  I would suggest a single neural layer which uses the representation from exercise 2 or 3 as input, built using scikit-learn or torch.   "
   ]
  },
  {
   "cell_type": "code",
   "execution_count": null,
   "id": "arabic-portuguese",
   "metadata": {},
   "outputs": [],
   "source": []
  }
 ],
 "metadata": {
  "kernelspec": {
   "display_name": "Python 3",
   "language": "python",
   "name": "python3"
  },
  "language_info": {
   "codemirror_mode": {
    "name": "ipython",
    "version": 3
   },
   "file_extension": ".py",
   "mimetype": "text/x-python",
   "name": "python",
   "nbconvert_exporter": "python",
   "pygments_lexer": "ipython3",
   "version": "3.7.4"
  }
 },
 "nbformat": 4,
 "nbformat_minor": 5
}