{
 "cells": [
  {
   "cell_type": "markdown",
   "source": [
    "# Lab 1: Semantic Similarity\n",
    "## Imports"
   ],
   "metadata": {
    "collapsed": false
   }
  },
  {
   "cell_type": "code",
   "execution_count": 27,
   "metadata": {
    "collapsed": true
   },
   "outputs": [],
   "source": [
    "import pandas as pd\n",
    "from gensim.models import KeyedVectors\n",
    "from nltk.corpus import wordnet as wn, wordnet_ic as wn_ic, lin_thesaurus as lin\n",
    "from wnsim import noun_path_similarity, noun_similarity, plot_scatter_with_regression"
   ]
  },
  {
   "cell_type": "markdown",
   "source": [
    "## Useful WN Functions"
   ],
   "metadata": {
    "collapsed": false
   }
  },
  {
   "cell_type": "code",
   "execution_count": 3,
   "outputs": [
    {
     "data": {
      "text/plain": "[Synset('book.n.01'),\n Synset('book.n.02'),\n Synset('record.n.05'),\n Synset('script.n.01'),\n Synset('ledger.n.01'),\n Synset('book.n.06'),\n Synset('book.n.07'),\n Synset('koran.n.01'),\n Synset('bible.n.01'),\n Synset('book.n.10'),\n Synset('book.n.11'),\n Synset('book.v.01'),\n Synset('reserve.v.04'),\n Synset('book.v.03'),\n Synset('book.v.04')]"
     },
     "execution_count": 3,
     "metadata": {},
     "output_type": "execute_result"
    }
   ],
   "source": [
    "wn.synsets(\"book\")"
   ],
   "metadata": {
    "collapsed": false,
    "pycharm": {
     "name": "#%%\n"
    }
   }
  },
  {
   "cell_type": "code",
   "execution_count": 4,
   "outputs": [
    {
     "data": {
      "text/plain": "[Synset('book.n.01'),\n Synset('book.n.02'),\n Synset('record.n.05'),\n Synset('script.n.01'),\n Synset('ledger.n.01'),\n Synset('book.n.06'),\n Synset('book.n.07'),\n Synset('koran.n.01'),\n Synset('bible.n.01'),\n Synset('book.n.10'),\n Synset('book.n.11')]"
     },
     "execution_count": 4,
     "metadata": {},
     "output_type": "execute_result"
    }
   ],
   "source": [
    "wn.synsets(\"book\", wn.NOUN)"
   ],
   "metadata": {
    "collapsed": false,
    "pycharm": {
     "name": "#%%\n"
    }
   }
  },
  {
   "cell_type": "code",
   "execution_count": 5,
   "outputs": [
    {
     "data": {
      "text/plain": "'a written work or composition that has been published (printed on pages bound together)'"
     },
     "execution_count": 5,
     "metadata": {},
     "output_type": "execute_result"
    }
   ],
   "source": [
    "synsetA = wn.synsets(\"book\", wn.NOUN)[0]\n",
    "synsetA.definition()"
   ],
   "metadata": {
    "collapsed": false,
    "pycharm": {
     "name": "#%%\n"
    }
   }
  },
  {
   "cell_type": "code",
   "execution_count": 6,
   "outputs": [
    {
     "data": {
      "text/plain": "[Synset('appointment_book.n.01'),\n Synset('authority.n.07'),\n Synset('bestiary.n.01'),\n Synset('booklet.n.01'),\n Synset('catalog.n.01'),\n Synset('catechism.n.02'),\n Synset('copybook.n.01'),\n Synset('curiosa.n.01'),\n Synset('formulary.n.01'),\n Synset('phrase_book.n.01'),\n Synset('playbook.n.02'),\n Synset('pop-up_book.n.01'),\n Synset('prayer_book.n.01'),\n Synset('reference_book.n.01'),\n Synset('review_copy.n.01'),\n Synset('songbook.n.01'),\n Synset('storybook.n.01'),\n Synset('textbook.n.01'),\n Synset('tome.n.01'),\n Synset('trade_book.n.01'),\n Synset('workbook.n.01'),\n Synset('yearbook.n.01')]"
     },
     "execution_count": 6,
     "metadata": {},
     "output_type": "execute_result"
    }
   ],
   "source": [
    "synsetA.hyponyms()"
   ],
   "metadata": {
    "collapsed": false,
    "pycharm": {
     "name": "#%%\n"
    }
   }
  },
  {
   "cell_type": "code",
   "execution_count": 7,
   "outputs": [
    {
     "data": {
      "text/plain": "[Synset('publication.n.01')]"
     },
     "execution_count": 7,
     "metadata": {},
     "output_type": "execute_result"
    }
   ],
   "source": [
    "synsetA.hypernyms()"
   ],
   "metadata": {
    "collapsed": false,
    "pycharm": {
     "name": "#%%\n"
    }
   }
  },
  {
   "cell_type": "code",
   "execution_count": 8,
   "outputs": [
    {
     "data": {
      "text/plain": "0.2"
     },
     "execution_count": 8,
     "metadata": {},
     "output_type": "execute_result"
    }
   ],
   "source": [
    "synsetB = wn.synsets(\"book\", wn.NOUN)[1]\n",
    "synsetA.path_similarity(synsetB)"
   ],
   "metadata": {
    "collapsed": false,
    "pycharm": {
     "name": "#%%\n"
    }
   }
  },
  {
   "cell_type": "code",
   "execution_count": 9,
   "outputs": [
    {
     "data": {
      "text/plain": "5.454686565783099"
     },
     "execution_count": 9,
     "metadata": {},
     "output_type": "execute_result"
    }
   ],
   "source": [
    "brown_ic = wn_ic.ic(\"ic-brown.dat\")\n",
    "synsetA.res_similarity(synsetB, brown_ic)"
   ],
   "metadata": {
    "collapsed": false,
    "pycharm": {
     "name": "#%%\n"
    }
   }
  },
  {
   "cell_type": "code",
   "execution_count": 10,
   "outputs": [
    {
     "data": {
      "text/plain": "0.7098990245459575"
     },
     "execution_count": 10,
     "metadata": {},
     "output_type": "execute_result"
    }
   ],
   "source": [
    "synsetA.lin_similarity(synsetB, brown_ic)"
   ],
   "metadata": {
    "collapsed": false,
    "pycharm": {
     "name": "#%%\n"
    }
   }
  },
  {
   "cell_type": "markdown",
   "source": [
    "## Nouns Similarity\n"
   ],
   "metadata": {
    "collapsed": false
   }
  },
  {
   "cell_type": "code",
   "execution_count": 11,
   "outputs": [
    {
     "data": {
      "text/plain": "0.0909"
     },
     "execution_count": 11,
     "metadata": {},
     "output_type": "execute_result"
    }
   ],
   "source": [
    "noun_path_similarity('chicken', 'car')\n"
   ],
   "metadata": {
    "collapsed": false,
    "pycharm": {
     "name": "#%%\n"
    }
   }
  },
  {
   "cell_type": "code",
   "execution_count": 12,
   "outputs": [
    {
     "data": {
      "text/plain": "0.0909"
     },
     "execution_count": 12,
     "metadata": {},
     "output_type": "execute_result"
    }
   ],
   "source": [
    "noun_similarity('chicken', 'car')"
   ],
   "metadata": {
    "collapsed": false,
    "pycharm": {
     "name": "#%%\n"
    }
   }
  },
  {
   "cell_type": "code",
   "execution_count": 13,
   "outputs": [
    {
     "data": {
      "text/plain": "1.5318"
     },
     "execution_count": 13,
     "metadata": {},
     "output_type": "execute_result"
    }
   ],
   "source": [
    "noun_similarity('chicken', 'car', 'res_similarity')"
   ],
   "metadata": {
    "collapsed": false,
    "pycharm": {
     "name": "#%%\n"
    }
   }
  },
  {
   "cell_type": "code",
   "execution_count": 14,
   "outputs": [
    {
     "data": {
      "text/plain": "0.179"
     },
     "execution_count": 14,
     "metadata": {},
     "output_type": "execute_result"
    }
   ],
   "source": [
    "noun_similarity('chicken', 'car', 'lin_similarity')"
   ],
   "metadata": {
    "collapsed": false,
    "pycharm": {
     "name": "#%%\n"
    }
   }
  },
  {
   "cell_type": "markdown",
   "source": [
    "## Human Synonymy Judgements"
   ],
   "metadata": {
    "collapsed": false
   }
  },
  {
   "cell_type": "code",
   "execution_count": 15,
   "outputs": [
    {
     "data": {
      "text/plain": "      word_1      word_2  mc_sim  path_sim  res_sim  lin_sim\n0     asylum    madhouse    3.61    0.5000   9.4752   0.8556\n1       bird        cock    3.05    0.5000   7.6778   0.7739\n2       bird       crane    2.97    0.2500   7.6778   0.7478\n3        boy         lad    3.76    0.5000   8.3995   0.8306\n4    brother        monk    2.82    0.5000   9.2616   0.9864\n5        car  automobile    3.92    1.0000   7.5914   1.0000\n6   cemetery    woodland    0.95    0.1111   1.2900   0.1234\n7      chord       smile    0.13    0.0909   2.6196   0.2463\n8      coast      forest    0.42    0.1667   1.2900   0.1306\n9      coast        hill    0.87    0.2000   5.8847   0.5991\n10     coast       shore    3.70    0.5000   9.4157   0.9632\n11     crane   implement    1.68    0.2000   3.2577   0.3591\n12      food       fruit    3.08    0.1000   1.5928   0.1610\n13      food     rooster    0.89    0.0625   0.8018   0.0919\n14    forest   graveyard    0.84    0.1111   1.2900   0.1234\n15   furnace       stove    3.11    0.1000   2.3058   0.2281\n16       gem       jewel    3.84    1.0000  12.0677   1.0000\n17     glass    magician    0.11    0.1250   2.2826   0.2142\n18   journey         car    1.16    0.0556  -0.0000  -0.0000\n19   journey      voyage    3.84    0.5000   6.8260   0.7777\n20       lad     brother    1.66    0.2000   2.3335   0.2552\n21       lad      wizard    0.42    0.2000   2.3335   0.2551\n22  magician      wizard    3.50    1.0000  11.9807   1.0000\n23    midday        noon    3.42    1.0000  11.0644   1.0000\n24      monk      oracle    1.10    0.1250   2.3335   0.2257\n25      monk       slave    0.55    0.2000   2.3335   0.2543\n26      noon      string    0.08    0.0833   0.5962   0.0662\n27   rooster      voyage    0.08    0.0417  -0.0000  -0.0000\n28     shore    woodland    0.63    0.2000   1.2900   0.1356\n29      tool   implement    1.68    0.5000   5.8774   0.9472",
      "text/html": "<div>\n<style scoped>\n    .dataframe tbody tr th:only-of-type {\n        vertical-align: middle;\n    }\n\n    .dataframe tbody tr th {\n        vertical-align: top;\n    }\n\n    .dataframe thead th {\n        text-align: right;\n    }\n</style>\n<table border=\"1\" class=\"dataframe\">\n  <thead>\n    <tr style=\"text-align: right;\">\n      <th></th>\n      <th>word_1</th>\n      <th>word_2</th>\n      <th>mc_sim</th>\n      <th>path_sim</th>\n      <th>res_sim</th>\n      <th>lin_sim</th>\n    </tr>\n  </thead>\n  <tbody>\n    <tr>\n      <th>0</th>\n      <td>asylum</td>\n      <td>madhouse</td>\n      <td>3.61</td>\n      <td>0.5000</td>\n      <td>9.4752</td>\n      <td>0.8556</td>\n    </tr>\n    <tr>\n      <th>1</th>\n      <td>bird</td>\n      <td>cock</td>\n      <td>3.05</td>\n      <td>0.5000</td>\n      <td>7.6778</td>\n      <td>0.7739</td>\n    </tr>\n    <tr>\n      <th>2</th>\n      <td>bird</td>\n      <td>crane</td>\n      <td>2.97</td>\n      <td>0.2500</td>\n      <td>7.6778</td>\n      <td>0.7478</td>\n    </tr>\n    <tr>\n      <th>3</th>\n      <td>boy</td>\n      <td>lad</td>\n      <td>3.76</td>\n      <td>0.5000</td>\n      <td>8.3995</td>\n      <td>0.8306</td>\n    </tr>\n    <tr>\n      <th>4</th>\n      <td>brother</td>\n      <td>monk</td>\n      <td>2.82</td>\n      <td>0.5000</td>\n      <td>9.2616</td>\n      <td>0.9864</td>\n    </tr>\n    <tr>\n      <th>5</th>\n      <td>car</td>\n      <td>automobile</td>\n      <td>3.92</td>\n      <td>1.0000</td>\n      <td>7.5914</td>\n      <td>1.0000</td>\n    </tr>\n    <tr>\n      <th>6</th>\n      <td>cemetery</td>\n      <td>woodland</td>\n      <td>0.95</td>\n      <td>0.1111</td>\n      <td>1.2900</td>\n      <td>0.1234</td>\n    </tr>\n    <tr>\n      <th>7</th>\n      <td>chord</td>\n      <td>smile</td>\n      <td>0.13</td>\n      <td>0.0909</td>\n      <td>2.6196</td>\n      <td>0.2463</td>\n    </tr>\n    <tr>\n      <th>8</th>\n      <td>coast</td>\n      <td>forest</td>\n      <td>0.42</td>\n      <td>0.1667</td>\n      <td>1.2900</td>\n      <td>0.1306</td>\n    </tr>\n    <tr>\n      <th>9</th>\n      <td>coast</td>\n      <td>hill</td>\n      <td>0.87</td>\n      <td>0.2000</td>\n      <td>5.8847</td>\n      <td>0.5991</td>\n    </tr>\n    <tr>\n      <th>10</th>\n      <td>coast</td>\n      <td>shore</td>\n      <td>3.70</td>\n      <td>0.5000</td>\n      <td>9.4157</td>\n      <td>0.9632</td>\n    </tr>\n    <tr>\n      <th>11</th>\n      <td>crane</td>\n      <td>implement</td>\n      <td>1.68</td>\n      <td>0.2000</td>\n      <td>3.2577</td>\n      <td>0.3591</td>\n    </tr>\n    <tr>\n      <th>12</th>\n      <td>food</td>\n      <td>fruit</td>\n      <td>3.08</td>\n      <td>0.1000</td>\n      <td>1.5928</td>\n      <td>0.1610</td>\n    </tr>\n    <tr>\n      <th>13</th>\n      <td>food</td>\n      <td>rooster</td>\n      <td>0.89</td>\n      <td>0.0625</td>\n      <td>0.8018</td>\n      <td>0.0919</td>\n    </tr>\n    <tr>\n      <th>14</th>\n      <td>forest</td>\n      <td>graveyard</td>\n      <td>0.84</td>\n      <td>0.1111</td>\n      <td>1.2900</td>\n      <td>0.1234</td>\n    </tr>\n    <tr>\n      <th>15</th>\n      <td>furnace</td>\n      <td>stove</td>\n      <td>3.11</td>\n      <td>0.1000</td>\n      <td>2.3058</td>\n      <td>0.2281</td>\n    </tr>\n    <tr>\n      <th>16</th>\n      <td>gem</td>\n      <td>jewel</td>\n      <td>3.84</td>\n      <td>1.0000</td>\n      <td>12.0677</td>\n      <td>1.0000</td>\n    </tr>\n    <tr>\n      <th>17</th>\n      <td>glass</td>\n      <td>magician</td>\n      <td>0.11</td>\n      <td>0.1250</td>\n      <td>2.2826</td>\n      <td>0.2142</td>\n    </tr>\n    <tr>\n      <th>18</th>\n      <td>journey</td>\n      <td>car</td>\n      <td>1.16</td>\n      <td>0.0556</td>\n      <td>-0.0000</td>\n      <td>-0.0000</td>\n    </tr>\n    <tr>\n      <th>19</th>\n      <td>journey</td>\n      <td>voyage</td>\n      <td>3.84</td>\n      <td>0.5000</td>\n      <td>6.8260</td>\n      <td>0.7777</td>\n    </tr>\n    <tr>\n      <th>20</th>\n      <td>lad</td>\n      <td>brother</td>\n      <td>1.66</td>\n      <td>0.2000</td>\n      <td>2.3335</td>\n      <td>0.2552</td>\n    </tr>\n    <tr>\n      <th>21</th>\n      <td>lad</td>\n      <td>wizard</td>\n      <td>0.42</td>\n      <td>0.2000</td>\n      <td>2.3335</td>\n      <td>0.2551</td>\n    </tr>\n    <tr>\n      <th>22</th>\n      <td>magician</td>\n      <td>wizard</td>\n      <td>3.50</td>\n      <td>1.0000</td>\n      <td>11.9807</td>\n      <td>1.0000</td>\n    </tr>\n    <tr>\n      <th>23</th>\n      <td>midday</td>\n      <td>noon</td>\n      <td>3.42</td>\n      <td>1.0000</td>\n      <td>11.0644</td>\n      <td>1.0000</td>\n    </tr>\n    <tr>\n      <th>24</th>\n      <td>monk</td>\n      <td>oracle</td>\n      <td>1.10</td>\n      <td>0.1250</td>\n      <td>2.3335</td>\n      <td>0.2257</td>\n    </tr>\n    <tr>\n      <th>25</th>\n      <td>monk</td>\n      <td>slave</td>\n      <td>0.55</td>\n      <td>0.2000</td>\n      <td>2.3335</td>\n      <td>0.2543</td>\n    </tr>\n    <tr>\n      <th>26</th>\n      <td>noon</td>\n      <td>string</td>\n      <td>0.08</td>\n      <td>0.0833</td>\n      <td>0.5962</td>\n      <td>0.0662</td>\n    </tr>\n    <tr>\n      <th>27</th>\n      <td>rooster</td>\n      <td>voyage</td>\n      <td>0.08</td>\n      <td>0.0417</td>\n      <td>-0.0000</td>\n      <td>-0.0000</td>\n    </tr>\n    <tr>\n      <th>28</th>\n      <td>shore</td>\n      <td>woodland</td>\n      <td>0.63</td>\n      <td>0.2000</td>\n      <td>1.2900</td>\n      <td>0.1356</td>\n    </tr>\n    <tr>\n      <th>29</th>\n      <td>tool</td>\n      <td>implement</td>\n      <td>1.68</td>\n      <td>0.5000</td>\n      <td>5.8774</td>\n      <td>0.9472</td>\n    </tr>\n  </tbody>\n</table>\n</div>"
     },
     "execution_count": 15,
     "metadata": {},
     "output_type": "execute_result"
    }
   ],
   "source": [
    "df = pd.read_csv('mcdata.csv', header=None, names=['word_1', 'word_2', 'mc_sim'])\n",
    "\n",
    "df['path_sim'] = [noun_similarity(word_1, word_2) for word_1, word_2 in zip(df['word_1'], df['word_2'])]\n",
    "df['res_sim'] = [noun_similarity(word_1, word_2, 'res_similarity') for word_1, word_2 in\n",
    "                 zip(df['word_1'], df['word_2'])]\n",
    "df['lin_sim'] = [noun_similarity(word_1, word_2, 'lin_similarity') for word_1, word_2 in\n",
    "                 zip(df['word_1'], df['word_2'])]\n",
    "df"
   ],
   "metadata": {
    "collapsed": false,
    "pycharm": {
     "name": "#%%\n"
    }
   }
  },
  {
   "cell_type": "code",
   "execution_count": 16,
   "outputs": [
    {
     "data": {
      "text/plain": "            mc_sim  path_sim   res_sim   lin_sim\nmc_sim    1.000000  0.722743  0.735945  0.753510\npath_sim  0.722743  1.000000  0.900648  0.945509\nres_sim   0.735945  0.900648  1.000000  0.962707\nlin_sim   0.753510  0.945509  0.962707  1.000000",
      "text/html": "<div>\n<style scoped>\n    .dataframe tbody tr th:only-of-type {\n        vertical-align: middle;\n    }\n\n    .dataframe tbody tr th {\n        vertical-align: top;\n    }\n\n    .dataframe thead th {\n        text-align: right;\n    }\n</style>\n<table border=\"1\" class=\"dataframe\">\n  <thead>\n    <tr style=\"text-align: right;\">\n      <th></th>\n      <th>mc_sim</th>\n      <th>path_sim</th>\n      <th>res_sim</th>\n      <th>lin_sim</th>\n    </tr>\n  </thead>\n  <tbody>\n    <tr>\n      <th>mc_sim</th>\n      <td>1.000000</td>\n      <td>0.722743</td>\n      <td>0.735945</td>\n      <td>0.753510</td>\n    </tr>\n    <tr>\n      <th>path_sim</th>\n      <td>0.722743</td>\n      <td>1.000000</td>\n      <td>0.900648</td>\n      <td>0.945509</td>\n    </tr>\n    <tr>\n      <th>res_sim</th>\n      <td>0.735945</td>\n      <td>0.900648</td>\n      <td>1.000000</td>\n      <td>0.962707</td>\n    </tr>\n    <tr>\n      <th>lin_sim</th>\n      <td>0.753510</td>\n      <td>0.945509</td>\n      <td>0.962707</td>\n      <td>1.000000</td>\n    </tr>\n  </tbody>\n</table>\n</div>"
     },
     "execution_count": 16,
     "metadata": {},
     "output_type": "execute_result"
    }
   ],
   "source": [
    "df.corr(method='spearman')"
   ],
   "metadata": {
    "collapsed": false,
    "pycharm": {
     "name": "#%%\n"
    }
   }
  },
  {
   "cell_type": "markdown",
   "source": [
    "lin_sim and res_sim are highly correlated.\n",
    "\n",
    "Correlations between the all of wordnet measurements and human (mc) are only about 0.7"
   ],
   "metadata": {
    "collapsed": false
   }
  },
  {
   "cell_type": "markdown",
   "source": [
    "## Distributional Similarity"
   ],
   "metadata": {
    "collapsed": false
   }
  },
  {
   "cell_type": "code",
   "execution_count": 17,
   "outputs": [],
   "source": [
    "filename = '../GoogleNews-vectors-negative300.bin'\n",
    "my_model = KeyedVectors.load_word2vec_format(filename, binary=True)"
   ],
   "metadata": {
    "collapsed": false,
    "pycharm": {
     "name": "#%%\n"
    }
   }
  },
  {
   "cell_type": "code",
   "execution_count": 18,
   "outputs": [
    {
     "data": {
      "text/plain": "0.76640123"
     },
     "execution_count": 18,
     "metadata": {},
     "output_type": "execute_result"
    }
   ],
   "source": [
    "my_model.similarity('man', 'woman')"
   ],
   "metadata": {
    "collapsed": false,
    "pycharm": {
     "name": "#%%\n"
    }
   }
  },
  {
   "cell_type": "code",
   "execution_count": 19,
   "outputs": [],
   "source": [
    "# Do not run this cell, takes a very very very long time on Jupyter\n",
    "# my_model.most_similar(positive=['man'])"
   ],
   "metadata": {
    "collapsed": false,
    "pycharm": {
     "name": "#%%\n"
    }
   }
  },
  {
   "cell_type": "code",
   "execution_count": 20,
   "outputs": [
    {
     "data": {
      "text/plain": "array([ 0.32617188,  0.13085938,  0.03466797, -0.08300781,  0.08984375,\n       -0.04125977, -0.19824219,  0.00689697,  0.14355469,  0.0019455 ,\n        0.02880859, -0.25      , -0.08398438, -0.15136719, -0.10205078,\n        0.04077148, -0.09765625,  0.05932617,  0.02978516, -0.10058594,\n       -0.13085938,  0.001297  ,  0.02612305, -0.27148438,  0.06396484,\n       -0.19140625, -0.078125  ,  0.25976562,  0.375     , -0.04541016,\n        0.16210938,  0.13671875, -0.06396484, -0.02062988, -0.09667969,\n        0.25390625,  0.24804688, -0.12695312,  0.07177734,  0.3203125 ,\n        0.03149414, -0.03857422,  0.21191406, -0.00811768,  0.22265625,\n       -0.13476562, -0.07617188,  0.01049805, -0.05175781,  0.03808594,\n       -0.13378906,  0.125     ,  0.0559082 , -0.18261719,  0.08154297,\n       -0.08447266, -0.07763672, -0.04345703,  0.08105469, -0.01092529,\n        0.17480469,  0.30664062, -0.04321289, -0.01416016,  0.09082031,\n       -0.00927734, -0.03442383, -0.11523438,  0.12451172, -0.0246582 ,\n        0.08544922,  0.14355469, -0.27734375,  0.03662109, -0.11035156,\n        0.13085938, -0.01721191, -0.08056641, -0.00708008, -0.02954102,\n        0.30078125, -0.09033203,  0.03149414, -0.18652344, -0.11181641,\n        0.10253906, -0.25976562, -0.02209473,  0.16796875, -0.05322266,\n       -0.14550781, -0.01049805, -0.03039551, -0.03857422,  0.11523438,\n       -0.0062561 , -0.13964844,  0.08007812,  0.06103516, -0.15332031,\n       -0.11132812, -0.14160156,  0.19824219, -0.06933594,  0.29296875,\n       -0.16015625,  0.20898438,  0.00041771,  0.01831055, -0.20214844,\n        0.04760742,  0.05810547, -0.0123291 , -0.01989746, -0.00364685,\n       -0.0135498 , -0.08251953, -0.03149414,  0.00717163,  0.20117188,\n        0.08300781, -0.0480957 , -0.26367188, -0.09667969, -0.22558594,\n       -0.09667969,  0.06494141, -0.02502441,  0.08496094,  0.03198242,\n       -0.07568359, -0.25390625, -0.11669922, -0.01446533, -0.16015625,\n       -0.00701904, -0.05712891,  0.02807617, -0.09179688,  0.25195312,\n        0.24121094,  0.06640625,  0.12988281,  0.17089844, -0.13671875,\n        0.1875    , -0.10009766, -0.04199219, -0.12011719,  0.00524902,\n        0.15625   , -0.203125  , -0.07128906, -0.06103516,  0.01635742,\n        0.18261719,  0.03588867, -0.04248047,  0.16796875, -0.15039062,\n       -0.16992188,  0.01831055,  0.27734375, -0.01269531, -0.0390625 ,\n       -0.15429688,  0.18457031, -0.07910156,  0.09033203, -0.02709961,\n        0.08251953,  0.06738281, -0.16113281, -0.19628906, -0.15234375,\n       -0.04711914,  0.04760742,  0.05908203, -0.16894531, -0.14941406,\n        0.12988281,  0.04321289,  0.02624512, -0.1796875 , -0.19628906,\n        0.06445312,  0.08935547,  0.1640625 , -0.03808594, -0.09814453,\n       -0.01483154,  0.1875    ,  0.12792969,  0.22753906,  0.01818848,\n       -0.07958984, -0.11376953, -0.06933594, -0.15527344, -0.08105469,\n       -0.09277344, -0.11328125, -0.15136719, -0.08007812, -0.05126953,\n       -0.15332031,  0.11669922,  0.06835938,  0.0324707 , -0.33984375,\n       -0.08154297, -0.08349609,  0.04003906,  0.04907227, -0.24121094,\n       -0.13476562, -0.05932617,  0.12158203, -0.34179688,  0.16503906,\n        0.06176758, -0.18164062,  0.20117188, -0.07714844,  0.1640625 ,\n        0.00402832,  0.30273438, -0.10009766, -0.13671875, -0.05957031,\n        0.0625    , -0.21289062, -0.06542969,  0.1796875 , -0.07763672,\n       -0.01928711, -0.15039062, -0.00106049,  0.03417969,  0.03344727,\n        0.19335938,  0.01965332, -0.19921875, -0.10644531,  0.01525879,\n        0.00927734,  0.01416016, -0.02392578,  0.05883789,  0.02368164,\n        0.125     ,  0.04760742, -0.05566406,  0.11572266,  0.14746094,\n        0.1015625 , -0.07128906, -0.07714844, -0.12597656,  0.0291748 ,\n        0.09521484, -0.12402344, -0.109375  , -0.12890625,  0.16308594,\n        0.28320312, -0.03149414,  0.12304688, -0.23242188, -0.09375   ,\n       -0.12988281,  0.0135498 , -0.03881836, -0.08251953,  0.00897217,\n        0.16308594,  0.10546875, -0.13867188, -0.16503906, -0.03857422,\n        0.10839844, -0.10498047,  0.06396484,  0.38867188, -0.05981445,\n       -0.0612793 , -0.10449219, -0.16796875,  0.07177734,  0.13964844,\n        0.15527344, -0.03125   , -0.20214844, -0.12988281, -0.10058594,\n       -0.06396484, -0.08349609, -0.30273438, -0.08007812,  0.02099609],\n      dtype=float32)"
     },
     "execution_count": 20,
     "metadata": {},
     "output_type": "execute_result"
    }
   ],
   "source": [
    "my_model['man']"
   ],
   "metadata": {
    "collapsed": false,
    "pycharm": {
     "name": "#%%\n"
    }
   }
  },
  {
   "cell_type": "code",
   "execution_count": 21,
   "outputs": [
    {
     "data": {
      "text/plain": "      word_1      word_2  mc_sim  path_sim  res_sim  lin_sim  word2vec_sim\n0     asylum    madhouse    3.61    0.5000   9.4752   0.8556      0.252539\n1       bird        cock    3.05    0.5000   7.6778   0.7739      0.362902\n2       bird       crane    2.97    0.2500   7.6778   0.7478      0.302862\n3        boy         lad    3.76    0.5000   8.3995   0.8306      0.588616\n4    brother        monk    2.82    0.5000   9.2616   0.9864      0.223200\n5        car  automobile    3.92    1.0000   7.5914   1.0000      0.583837\n6   cemetery    woodland    0.95    0.1111   1.2900   0.1234      0.381925\n7      chord       smile    0.13    0.0909   2.6196   0.2463      0.148692\n8      coast      forest    0.42    0.1667   1.2900   0.1306      0.236098\n9      coast        hill    0.87    0.2000   5.8847   0.5991      0.161158\n10     coast       shore    3.70    0.5000   9.4157   0.9632      0.508367\n11     crane   implement    1.68    0.2000   3.2577   0.3591      0.023186\n12      food       fruit    3.08    0.1000   1.5928   0.1610      0.374093\n13      food     rooster    0.89    0.0625   0.8018   0.0919      0.118306\n14    forest   graveyard    0.84    0.1111   1.2900   0.1234      0.229011\n15   furnace       stove    3.11    0.1000   2.3058   0.2281      0.608391\n16       gem       jewel    3.84    1.0000  12.0677   1.0000      0.621081\n17     glass    magician    0.11    0.1250   2.2826   0.2142      0.037225\n18   journey         car    1.16    0.0556  -0.0000  -0.0000      0.098496\n19   journey      voyage    3.84    0.5000   6.8260   0.7777      0.683085\n20       lad     brother    1.66    0.2000   2.3335   0.2552      0.359592\n21       lad      wizard    0.42    0.2000   2.3335   0.2551      0.330230\n22  magician      wizard    3.50    1.0000  11.9807   1.0000      0.486350\n23    midday        noon    3.42    1.0000  11.0644   1.0000      0.552741\n24      monk      oracle    1.10    0.1250   2.3335   0.2257      0.303540\n25      monk       slave    0.55    0.2000   2.3335   0.2543      0.191462\n26      noon      string    0.08    0.0833   0.5962   0.0662      0.021655\n27   rooster      voyage    0.08    0.0417  -0.0000  -0.0000      0.062758\n28     shore    woodland    0.63    0.2000   1.2900   0.1356      0.116909\n29      tool   implement    1.68    0.5000   5.8774   0.9472      0.212342",
      "text/html": "<div>\n<style scoped>\n    .dataframe tbody tr th:only-of-type {\n        vertical-align: middle;\n    }\n\n    .dataframe tbody tr th {\n        vertical-align: top;\n    }\n\n    .dataframe thead th {\n        text-align: right;\n    }\n</style>\n<table border=\"1\" class=\"dataframe\">\n  <thead>\n    <tr style=\"text-align: right;\">\n      <th></th>\n      <th>word_1</th>\n      <th>word_2</th>\n      <th>mc_sim</th>\n      <th>path_sim</th>\n      <th>res_sim</th>\n      <th>lin_sim</th>\n      <th>word2vec_sim</th>\n    </tr>\n  </thead>\n  <tbody>\n    <tr>\n      <th>0</th>\n      <td>asylum</td>\n      <td>madhouse</td>\n      <td>3.61</td>\n      <td>0.5000</td>\n      <td>9.4752</td>\n      <td>0.8556</td>\n      <td>0.252539</td>\n    </tr>\n    <tr>\n      <th>1</th>\n      <td>bird</td>\n      <td>cock</td>\n      <td>3.05</td>\n      <td>0.5000</td>\n      <td>7.6778</td>\n      <td>0.7739</td>\n      <td>0.362902</td>\n    </tr>\n    <tr>\n      <th>2</th>\n      <td>bird</td>\n      <td>crane</td>\n      <td>2.97</td>\n      <td>0.2500</td>\n      <td>7.6778</td>\n      <td>0.7478</td>\n      <td>0.302862</td>\n    </tr>\n    <tr>\n      <th>3</th>\n      <td>boy</td>\n      <td>lad</td>\n      <td>3.76</td>\n      <td>0.5000</td>\n      <td>8.3995</td>\n      <td>0.8306</td>\n      <td>0.588616</td>\n    </tr>\n    <tr>\n      <th>4</th>\n      <td>brother</td>\n      <td>monk</td>\n      <td>2.82</td>\n      <td>0.5000</td>\n      <td>9.2616</td>\n      <td>0.9864</td>\n      <td>0.223200</td>\n    </tr>\n    <tr>\n      <th>5</th>\n      <td>car</td>\n      <td>automobile</td>\n      <td>3.92</td>\n      <td>1.0000</td>\n      <td>7.5914</td>\n      <td>1.0000</td>\n      <td>0.583837</td>\n    </tr>\n    <tr>\n      <th>6</th>\n      <td>cemetery</td>\n      <td>woodland</td>\n      <td>0.95</td>\n      <td>0.1111</td>\n      <td>1.2900</td>\n      <td>0.1234</td>\n      <td>0.381925</td>\n    </tr>\n    <tr>\n      <th>7</th>\n      <td>chord</td>\n      <td>smile</td>\n      <td>0.13</td>\n      <td>0.0909</td>\n      <td>2.6196</td>\n      <td>0.2463</td>\n      <td>0.148692</td>\n    </tr>\n    <tr>\n      <th>8</th>\n      <td>coast</td>\n      <td>forest</td>\n      <td>0.42</td>\n      <td>0.1667</td>\n      <td>1.2900</td>\n      <td>0.1306</td>\n      <td>0.236098</td>\n    </tr>\n    <tr>\n      <th>9</th>\n      <td>coast</td>\n      <td>hill</td>\n      <td>0.87</td>\n      <td>0.2000</td>\n      <td>5.8847</td>\n      <td>0.5991</td>\n      <td>0.161158</td>\n    </tr>\n    <tr>\n      <th>10</th>\n      <td>coast</td>\n      <td>shore</td>\n      <td>3.70</td>\n      <td>0.5000</td>\n      <td>9.4157</td>\n      <td>0.9632</td>\n      <td>0.508367</td>\n    </tr>\n    <tr>\n      <th>11</th>\n      <td>crane</td>\n      <td>implement</td>\n      <td>1.68</td>\n      <td>0.2000</td>\n      <td>3.2577</td>\n      <td>0.3591</td>\n      <td>0.023186</td>\n    </tr>\n    <tr>\n      <th>12</th>\n      <td>food</td>\n      <td>fruit</td>\n      <td>3.08</td>\n      <td>0.1000</td>\n      <td>1.5928</td>\n      <td>0.1610</td>\n      <td>0.374093</td>\n    </tr>\n    <tr>\n      <th>13</th>\n      <td>food</td>\n      <td>rooster</td>\n      <td>0.89</td>\n      <td>0.0625</td>\n      <td>0.8018</td>\n      <td>0.0919</td>\n      <td>0.118306</td>\n    </tr>\n    <tr>\n      <th>14</th>\n      <td>forest</td>\n      <td>graveyard</td>\n      <td>0.84</td>\n      <td>0.1111</td>\n      <td>1.2900</td>\n      <td>0.1234</td>\n      <td>0.229011</td>\n    </tr>\n    <tr>\n      <th>15</th>\n      <td>furnace</td>\n      <td>stove</td>\n      <td>3.11</td>\n      <td>0.1000</td>\n      <td>2.3058</td>\n      <td>0.2281</td>\n      <td>0.608391</td>\n    </tr>\n    <tr>\n      <th>16</th>\n      <td>gem</td>\n      <td>jewel</td>\n      <td>3.84</td>\n      <td>1.0000</td>\n      <td>12.0677</td>\n      <td>1.0000</td>\n      <td>0.621081</td>\n    </tr>\n    <tr>\n      <th>17</th>\n      <td>glass</td>\n      <td>magician</td>\n      <td>0.11</td>\n      <td>0.1250</td>\n      <td>2.2826</td>\n      <td>0.2142</td>\n      <td>0.037225</td>\n    </tr>\n    <tr>\n      <th>18</th>\n      <td>journey</td>\n      <td>car</td>\n      <td>1.16</td>\n      <td>0.0556</td>\n      <td>-0.0000</td>\n      <td>-0.0000</td>\n      <td>0.098496</td>\n    </tr>\n    <tr>\n      <th>19</th>\n      <td>journey</td>\n      <td>voyage</td>\n      <td>3.84</td>\n      <td>0.5000</td>\n      <td>6.8260</td>\n      <td>0.7777</td>\n      <td>0.683085</td>\n    </tr>\n    <tr>\n      <th>20</th>\n      <td>lad</td>\n      <td>brother</td>\n      <td>1.66</td>\n      <td>0.2000</td>\n      <td>2.3335</td>\n      <td>0.2552</td>\n      <td>0.359592</td>\n    </tr>\n    <tr>\n      <th>21</th>\n      <td>lad</td>\n      <td>wizard</td>\n      <td>0.42</td>\n      <td>0.2000</td>\n      <td>2.3335</td>\n      <td>0.2551</td>\n      <td>0.330230</td>\n    </tr>\n    <tr>\n      <th>22</th>\n      <td>magician</td>\n      <td>wizard</td>\n      <td>3.50</td>\n      <td>1.0000</td>\n      <td>11.9807</td>\n      <td>1.0000</td>\n      <td>0.486350</td>\n    </tr>\n    <tr>\n      <th>23</th>\n      <td>midday</td>\n      <td>noon</td>\n      <td>3.42</td>\n      <td>1.0000</td>\n      <td>11.0644</td>\n      <td>1.0000</td>\n      <td>0.552741</td>\n    </tr>\n    <tr>\n      <th>24</th>\n      <td>monk</td>\n      <td>oracle</td>\n      <td>1.10</td>\n      <td>0.1250</td>\n      <td>2.3335</td>\n      <td>0.2257</td>\n      <td>0.303540</td>\n    </tr>\n    <tr>\n      <th>25</th>\n      <td>monk</td>\n      <td>slave</td>\n      <td>0.55</td>\n      <td>0.2000</td>\n      <td>2.3335</td>\n      <td>0.2543</td>\n      <td>0.191462</td>\n    </tr>\n    <tr>\n      <th>26</th>\n      <td>noon</td>\n      <td>string</td>\n      <td>0.08</td>\n      <td>0.0833</td>\n      <td>0.5962</td>\n      <td>0.0662</td>\n      <td>0.021655</td>\n    </tr>\n    <tr>\n      <th>27</th>\n      <td>rooster</td>\n      <td>voyage</td>\n      <td>0.08</td>\n      <td>0.0417</td>\n      <td>-0.0000</td>\n      <td>-0.0000</td>\n      <td>0.062758</td>\n    </tr>\n    <tr>\n      <th>28</th>\n      <td>shore</td>\n      <td>woodland</td>\n      <td>0.63</td>\n      <td>0.2000</td>\n      <td>1.2900</td>\n      <td>0.1356</td>\n      <td>0.116909</td>\n    </tr>\n    <tr>\n      <th>29</th>\n      <td>tool</td>\n      <td>implement</td>\n      <td>1.68</td>\n      <td>0.5000</td>\n      <td>5.8774</td>\n      <td>0.9472</td>\n      <td>0.212342</td>\n    </tr>\n  </tbody>\n</table>\n</div>"
     },
     "execution_count": 21,
     "metadata": {},
     "output_type": "execute_result"
    }
   ],
   "source": [
    "df['word2vec_sim'] = [my_model.similarity(word_1, word_2) for word_1, word_2 in zip(df['word_1'], df['word_2'])]\n",
    "df"
   ],
   "metadata": {
    "collapsed": false,
    "pycharm": {
     "name": "#%%\n"
    }
   }
  },
  {
   "cell_type": "code",
   "execution_count": 22,
   "outputs": [],
   "source": [
    "df.to_csv('sim.csv')"
   ],
   "metadata": {
    "collapsed": false,
    "pycharm": {
     "name": "#%%\n"
    }
   }
  },
  {
   "cell_type": "code",
   "execution_count": 23,
   "outputs": [
    {
     "data": {
      "text/plain": "                mc_sim  path_sim   res_sim   lin_sim  word2vec_sim\nmc_sim        1.000000  0.722743  0.735945  0.753510      0.786557\npath_sim      0.722743  1.000000  0.900648  0.945509      0.582529\nres_sim       0.735945  0.900648  1.000000  0.962707      0.573820\nlin_sim       0.753510  0.945509  0.962707  1.000000      0.586323\nword2vec_sim  0.786557  0.582529  0.573820  0.586323      1.000000",
      "text/html": "<div>\n<style scoped>\n    .dataframe tbody tr th:only-of-type {\n        vertical-align: middle;\n    }\n\n    .dataframe tbody tr th {\n        vertical-align: top;\n    }\n\n    .dataframe thead th {\n        text-align: right;\n    }\n</style>\n<table border=\"1\" class=\"dataframe\">\n  <thead>\n    <tr style=\"text-align: right;\">\n      <th></th>\n      <th>mc_sim</th>\n      <th>path_sim</th>\n      <th>res_sim</th>\n      <th>lin_sim</th>\n      <th>word2vec_sim</th>\n    </tr>\n  </thead>\n  <tbody>\n    <tr>\n      <th>mc_sim</th>\n      <td>1.000000</td>\n      <td>0.722743</td>\n      <td>0.735945</td>\n      <td>0.753510</td>\n      <td>0.786557</td>\n    </tr>\n    <tr>\n      <th>path_sim</th>\n      <td>0.722743</td>\n      <td>1.000000</td>\n      <td>0.900648</td>\n      <td>0.945509</td>\n      <td>0.582529</td>\n    </tr>\n    <tr>\n      <th>res_sim</th>\n      <td>0.735945</td>\n      <td>0.900648</td>\n      <td>1.000000</td>\n      <td>0.962707</td>\n      <td>0.573820</td>\n    </tr>\n    <tr>\n      <th>lin_sim</th>\n      <td>0.753510</td>\n      <td>0.945509</td>\n      <td>0.962707</td>\n      <td>1.000000</td>\n      <td>0.586323</td>\n    </tr>\n    <tr>\n      <th>word2vec_sim</th>\n      <td>0.786557</td>\n      <td>0.582529</td>\n      <td>0.573820</td>\n      <td>0.586323</td>\n      <td>1.000000</td>\n    </tr>\n  </tbody>\n</table>\n</div>"
     },
     "execution_count": 23,
     "metadata": {},
     "output_type": "execute_result"
    }
   ],
   "source": [
    "df.corr(method='spearman')"
   ],
   "metadata": {
    "collapsed": false,
    "pycharm": {
     "name": "#%%\n"
    }
   }
  },
  {
   "cell_type": "markdown",
   "source": [
    "word2vec has more correlation with mc (human) than with other measure, so word2vec is better?\n",
    "\n",
    "## Significance Testing"
   ],
   "metadata": {
    "collapsed": false,
    "pycharm": {
     "name": "#%% md\n"
    }
   }
  },
  {
   "cell_type": "code",
   "execution_count": 29,
   "outputs": [
    {
     "data": {
      "text/plain": "<Figure size 432x288 with 1 Axes>",
      "image/png": "[encoded data removed]"
     },
     "metadata": {
      "needs_background": "light"
     },
     "output_type": "display_data"
    }
   ],
   "source": [
    "plot_scatter_with_regression(df, 'path_sim', 'mc_sim')"
   ],
   "metadata": {
    "collapsed": false,
    "pycharm": {
     "name": "#%%\n"
    }
   }
  },
  {
   "cell_type": "code",
   "execution_count": 25,
   "outputs": [
    {
     "data": {
      "text/plain": "<Figure size 432x288 with 1 Axes>",
      "image/png": "[encoded data removed]"
     },
     "metadata": {
      "needs_background": "light"
     },
     "output_type": "display_data"
    }
   ],
   "source": [
    "plot_scatter_with_regression(df, 'res_sim', 'mc_sim')"
   ],
   "metadata": {
    "collapsed": false,
    "pycharm": {
     "name": "#%%\n"
    }
   }
  },
  {
   "cell_type": "code",
   "execution_count": 26,
   "outputs": [
    {
     "data": {
      "text/plain": "<Figure size 432x288 with 1 Axes>",
      "image/png": "[encoded data removed]"
     },
     "metadata": {
      "needs_background": "light"
     },
     "output_type": "display_data"
    }
   ],
   "source": [
    "plot_scatter_with_regression(df, 'lin_sim', 'mc_sim')"
   ],
   "metadata": {
    "collapsed": false,
    "pycharm": {
     "name": "#%%\n"
    }
   }
  },
  {
   "cell_type": "markdown",
   "source": [
    "Correlation is a way to test if two variables have any kind of relationship,\n",
    "whereas p-value tells us if the result of an experiment is statistically significant.\n"
   ],
   "metadata": {
    "collapsed": false
   }
  },
  {
   "cell_type": "code",
   "execution_count": null,
   "outputs": [],
   "source": [
    "# TODO: Task 5.4"
   ],
   "metadata": {
    "collapsed": false,
    "pycharm": {
     "name": "#%%\n"
    }
   }
  }
 ],
 "metadata": {
  "kernelspec": {
   "name": "python3",
   "language": "python",
   "display_name": "Python 3"
  },
  "language_info": {
   "codemirror_mode": {
    "name": "ipython",
    "version": 2
   },
   "file_extension": ".py",
   "mimetype": "text/x-python",
   "name": "python",
   "nbconvert_exporter": "python",
   "pygments_lexer": "ipython2",
   "version": "2.7.6"
  }
 },
 "nbformat": 4,
 "nbformat_minor": 0
}