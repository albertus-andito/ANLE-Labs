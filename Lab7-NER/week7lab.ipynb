{
 "cells": [
  {
   "cell_type": "markdown",
   "metadata": {
    "collapsed": true,
    "pycharm": {
     "name": "#%% md\n"
    }
   },
   "source": [
    "# Lab 7 Named Entity Recognition"
   ]
  },
  {
   "cell_type": "code",
   "source": [
    "import csv\n",
    "\n",
    "from nltk.parse.corenlp import CoreNLPParser\n"
   ],
   "metadata": {
    "collapsed": false,
    "pycharm": {
     "name": "#%%\n"
    }
   },
   "execution_count": 4,
   "outputs": []
  },
  {
   "cell_type": "code",
   "execution_count": 22,
   "outputs": [
    {
     "name": "stdout",
     "output_type": "stream",
     "text": [
      "['John', 'Smith', 'is', 'a', 'student', 'at', 'Sussex', 'University', 'in', 'the', 'UK']\n",
      "[('John', 'PERSON'), ('Smith', 'PERSON'), ('is', 'O'), ('a', 'O'), ('student', 'TITLE'), ('at', 'O'), ('Sussex', 'ORGANIZATION'), ('University', 'ORGANIZATION'), ('in', 'O'), ('the', 'O'), ('UK', 'COUNTRY')]\n"
     ]
    }
   ],
   "source": [
    "ner_tagger=CoreNLPParser(url=\"http://localhost:9000\",tagtype=\"ner\")\n",
    "sentence=\"John Smith is a student at Sussex University in the UK\"\n",
    "tokens=sentence.split(\" \")\n",
    "print(tokens)\n",
    "tagged= ner_tagger.tag(tokens)\n",
    "print(tagged)"
   ],
   "metadata": {
    "collapsed": false,
    "pycharm": {
     "name": "#%%\n"
    }
   }
  },
  {
   "cell_type": "code",
   "execution_count": 16,
   "outputs": [
    {
     "name": "stdout",
     "output_type": "stream",
     "text": [
      "[('John', 'PERSON'), ('Smith', 'PERSON'), ('is', 'O'), ('a', 'O'), ('student', 'TITLE'), ('at', 'O'), ('Sussex', 'ORGANIZATION'), ('University', 'ORGANIZATION'), ('in', 'O'), ('the', 'O'), ('UK', 'COUNTRY'), ('.', 'O'), ('He', 'O'), ('likes', 'O'), ('Coldplay', 'PERSON'), ('.', 'O')]\n"
     ]
    }
   ],
   "source": [
    "sentence=\"John Smith is a student at Sussex University in the UK. He likes Coldplay.\"\n",
    "tokens=sentence.split(\" \")\n",
    "tagged = ner_tagger.tag(tokens)\n",
    "print(tagged)"
   ],
   "metadata": {
    "collapsed": false,
    "pycharm": {
     "name": "#%%\n"
    }
   }
  },
  {
   "cell_type": "code",
   "execution_count": null,
   "outputs": [],
   "source": [
    "with open('ner_john.csv', mode='w', newline='') as ner_file:\n",
    "    ner_writer = csv.writer(ner_file, delimiter=',')\n",
    "    for i, tag in enumerate(tagged):\n",
    "        ner_writer.writerow([i, tag[0], tag[1]])"
   ],
   "metadata": {
    "collapsed": false,
    "pycharm": {
     "name": "#%%\n"
    }
   }
  },
  {
   "cell_type": "code",
   "execution_count": 15,
   "outputs": [
    {
     "name": "stdout",
     "output_type": "stream",
     "text": [
      "1\tJohn\tJohn\tNNP\tPERSON\t_\t_\r\n",
      "2\tSmith\tSmith\tNNP\tPERSON\t_\t_\r\n",
      "3\tis\tbe\tVBZ\tO\t_\t_\r\n",
      "4\ta\ta\tDT\tO\t_\t_\r\n",
      "5\tstudent\tstudent\tNN\tO\t_\t_\r\n",
      "6\tat\tat\tIN\tO\t_\t_\r\n",
      "7\tSussex\tSussex\tNNP\tORGANIZATION\t_\t_\r\n",
      "8\tUniversity\tUniversity\tNNP\tORGANIZATION\t_\t_\r\n",
      "9\tin\tin\tIN\tO\t_\t_\r\n",
      "10\tthe\tthe\tDT\tO\t_\t_\r\n",
      "11\tUK\tUK\tNNP\tLOCATION\t_\t_\r\n",
      "12\t.\t.\t.\tO\t_\t_\r\n",
      "\r\n",
      "1\tHe\the\tPRP\tO\t_\t_\r\n",
      "2\tlikes\tlike\tVBZ\tO\t_\t_\r\n",
      "3\tColdplay\tColdplay\tNNP\tPERSON\t_\t_\r\n",
      "4\t.\t.\t.\tO\t_\t_\r\n",
      "\r\n",
      "\n"
     ]
    }
   ],
   "source": [
    "from stanfordcorenlp import StanfordCoreNLP\n",
    "nlp = StanfordCoreNLP('http://localhost', port=9000)\n",
    "props={'annotators': 'ner', 'pipelineLanguage': 'en',\n",
    "       'outputFormat': 'conll', 'ner.applyFineGrained': 'false'}\n",
    "tagged = nlp.annotate(sentence, props)\n",
    "print(tagged)"
   ],
   "metadata": {
    "collapsed": false,
    "pycharm": {
     "name": "#%%\n"
    }
   }
  },
  {
   "cell_type": "code",
   "execution_count": 12,
   "outputs": [],
   "source": [
    "with open('ner_john.txt', mode='w', newline='') as ner_file:\n",
    "    ner_file.write(tagged)\n"
   ],
   "metadata": {
    "collapsed": false,
    "pycharm": {
     "name": "#%%\n"
    }
   }
  },
  {
   "cell_type": "code",
   "execution_count": 23,
   "outputs": [],
   "source": [
    "sentence=\"UK singer Adele has finalised her divorce from ex husband Simon Konecki, Los Angeles court papers have shown.\""
   ],
   "metadata": {
    "collapsed": false,
    "pycharm": {
     "name": "#%%\n"
    }
   }
  },
  {
   "cell_type": "code",
   "execution_count": 24,
   "outputs": [],
   "source": [
    "tokens=sentence.split(\" \")"
   ],
   "metadata": {
    "collapsed": false,
    "pycharm": {
     "name": "#%%\n"
    }
   }
  },
  {
   "cell_type": "code",
   "execution_count": 25,
   "outputs": [
    {
     "name": "stdout",
     "output_type": "stream",
     "text": [
      "[('UK', 'COUNTRY'), ('singer', 'TITLE'), ('Adele', 'PERSON'), ('has', 'O'), ('finalised', 'O'), ('her', 'O'), ('divorce', 'O'), ('from', 'O'), ('ex', 'O'), ('husband', 'O'), ('Simon', 'PERSON'), ('Konecki', 'PERSON'), (',', 'O'), ('Los', 'CITY'), ('Angeles', 'CITY'), ('court', 'O'), ('papers', 'O'), ('have', 'O'), ('shown', 'O'), ('.', 'O')]\n"
     ]
    }
   ],
   "source": [
    "tagged = ner_tagger.tag(tokens)\n",
    "print(tagged)\n"
   ],
   "metadata": {
    "collapsed": false,
    "pycharm": {
     "name": "#%%\n"
    }
   }
  }
 ],
 "metadata": {
  "kernelspec": {
   "display_name": "Python 3",
   "language": "python",
   "name": "python3"
  },
  "language_info": {
   "codemirror_mode": {
    "name": "ipython",
    "version": 2
   },
   "file_extension": ".py",
   "mimetype": "text/x-python",
   "name": "python",
   "nbconvert_exporter": "python",
   "pygments_lexer": "ipython2",
   "version": "2.7.6"
  }
 },
 "nbformat": 4,
 "nbformat_minor": 0
}